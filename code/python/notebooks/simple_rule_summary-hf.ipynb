{
 "cells": [
  {
   "cell_type": "markdown",
   "id": "808c9e3b-e793-46c3-9599-1a473069c5a6",
   "metadata": {},
   "source": [
    "**Note:** for running the example we need at least a `ml.m5.large` instance"
   ]
  },
  {
   "cell_type": "markdown",
   "id": "d0c3308c-3e63-42ef-bb47-a9d76e889d0c",
   "metadata": {
    "tags": []
   },
   "source": [
    "# SETUP"
   ]
  },
  {
   "cell_type": "markdown",
   "id": "5d06f9f4-8d03-4abe-a765-b12c7b451fbe",
   "metadata": {},
   "source": [
    "## Load  packages"
   ]
  },
  {
   "cell_type": "code",
   "execution_count": 3,
   "id": "e64c940c",
   "metadata": {},
   "outputs": [],
   "source": [
    "!pip install -U langchain --quiet"
   ]
  },
  {
   "cell_type": "code",
   "execution_count": 21,
   "id": "f812db79",
   "metadata": {},
   "outputs": [
    {
     "name": "stdout",
     "output_type": "stream",
     "text": [
      "Requirement already satisfied: pdf2image in /home/harpo/miniconda3/envs/fastchat/lib/python3.10/site-packages (1.16.3)\n",
      "Requirement already satisfied: pillow in /home/harpo/miniconda3/envs/fastchat/lib/python3.10/site-packages (from pdf2image) (9.5.0)\n",
      "Requirement already satisfied: pdfminer in /home/harpo/miniconda3/envs/fastchat/lib/python3.10/site-packages (20191125)\n",
      "Requirement already satisfied: pycryptodome in /home/harpo/miniconda3/envs/fastchat/lib/python3.10/site-packages (from pdfminer) (3.19.0)\n",
      "Requirement already satisfied: pdfminer.six in /home/harpo/miniconda3/envs/fastchat/lib/python3.10/site-packages (20221105)\n",
      "Requirement already satisfied: charset-normalizer>=2.0.0 in /home/harpo/miniconda3/envs/fastchat/lib/python3.10/site-packages (from pdfminer.six) (3.1.0)\n",
      "Requirement already satisfied: cryptography>=36.0.0 in /home/harpo/miniconda3/envs/fastchat/lib/python3.10/site-packages (from pdfminer.six) (41.0.5)\n",
      "Requirement already satisfied: cffi>=1.12 in /home/harpo/miniconda3/envs/fastchat/lib/python3.10/site-packages (from cryptography>=36.0.0->pdfminer.six) (1.16.0)\n",
      "Requirement already satisfied: pycparser in /home/harpo/miniconda3/envs/fastchat/lib/python3.10/site-packages (from cffi>=1.12->cryptography>=36.0.0->pdfminer.six) (2.21)\n"
     ]
    }
   ],
   "source": [
    "!pip install -U unstructured --quiet\n",
    "!pip install pdf2image\n",
    "!pip install pdfminer\n",
    "!pip install pdfminer.six"
   ]
  },
  {
   "cell_type": "code",
   "execution_count": 5,
   "id": "da133f2f",
   "metadata": {},
   "outputs": [
    {
     "name": "stdout",
     "output_type": "stream",
     "text": [
      "Requirement already satisfied: chromadb in /home/harpo/miniconda3/envs/fastchat/lib/python3.10/site-packages (0.4.17)\n",
      "Requirement already satisfied: requests>=2.28 in /home/harpo/miniconda3/envs/fastchat/lib/python3.10/site-packages (from chromadb) (2.31.0)\n",
      "Requirement already satisfied: pydantic>=1.9 in /home/harpo/miniconda3/envs/fastchat/lib/python3.10/site-packages (from chromadb) (1.10.9)\n",
      "Requirement already satisfied: chroma-hnswlib==0.7.3 in /home/harpo/miniconda3/envs/fastchat/lib/python3.10/site-packages (from chromadb) (0.7.3)\n",
      "Requirement already satisfied: fastapi>=0.95.2 in /home/harpo/miniconda3/envs/fastchat/lib/python3.10/site-packages (from chromadb) (0.98.0)\n",
      "Requirement already satisfied: uvicorn[standard]>=0.18.3 in /home/harpo/miniconda3/envs/fastchat/lib/python3.10/site-packages (from chromadb) (0.22.0)\n",
      "Requirement already satisfied: posthog>=2.4.0 in /home/harpo/miniconda3/envs/fastchat/lib/python3.10/site-packages (from chromadb) (3.0.2)\n",
      "Requirement already satisfied: typing-extensions>=4.5.0 in /home/harpo/miniconda3/envs/fastchat/lib/python3.10/site-packages (from chromadb) (4.6.3)\n",
      "Requirement already satisfied: pulsar-client>=3.1.0 in /home/harpo/miniconda3/envs/fastchat/lib/python3.10/site-packages (from chromadb) (3.3.0)\n",
      "Requirement already satisfied: onnxruntime>=1.14.1 in /home/harpo/miniconda3/envs/fastchat/lib/python3.10/site-packages (from chromadb) (1.16.2)\n",
      "Requirement already satisfied: opentelemetry-api>=1.2.0 in /home/harpo/miniconda3/envs/fastchat/lib/python3.10/site-packages (from chromadb) (1.21.0)\n",
      "Requirement already satisfied: opentelemetry-exporter-otlp-proto-grpc>=1.2.0 in /home/harpo/miniconda3/envs/fastchat/lib/python3.10/site-packages (from chromadb) (1.21.0)\n",
      "Requirement already satisfied: opentelemetry-sdk>=1.2.0 in /home/harpo/miniconda3/envs/fastchat/lib/python3.10/site-packages (from chromadb) (1.21.0)\n",
      "Requirement already satisfied: tokenizers>=0.13.2 in /home/harpo/miniconda3/envs/fastchat/lib/python3.10/site-packages (from chromadb) (0.13.3)\n",
      "Requirement already satisfied: pypika>=0.48.9 in /home/harpo/miniconda3/envs/fastchat/lib/python3.10/site-packages (from chromadb) (0.48.9)\n",
      "Requirement already satisfied: tqdm>=4.65.0 in /home/harpo/miniconda3/envs/fastchat/lib/python3.10/site-packages (from chromadb) (4.65.0)\n",
      "Requirement already satisfied: overrides>=7.3.1 in /home/harpo/miniconda3/envs/fastchat/lib/python3.10/site-packages (from chromadb) (7.4.0)\n",
      "Requirement already satisfied: importlib-resources in /home/harpo/miniconda3/envs/fastchat/lib/python3.10/site-packages (from chromadb) (6.1.0)\n",
      "Requirement already satisfied: grpcio>=1.58.0 in /home/harpo/miniconda3/envs/fastchat/lib/python3.10/site-packages (from chromadb) (1.59.3)\n",
      "Requirement already satisfied: bcrypt>=4.0.1 in /home/harpo/miniconda3/envs/fastchat/lib/python3.10/site-packages (from chromadb) (4.0.1)\n",
      "Requirement already satisfied: typer>=0.9.0 in /home/harpo/miniconda3/envs/fastchat/lib/python3.10/site-packages (from chromadb) (0.9.0)\n",
      "Requirement already satisfied: kubernetes>=28.1.0 in /home/harpo/miniconda3/envs/fastchat/lib/python3.10/site-packages (from chromadb) (28.1.0)\n",
      "Requirement already satisfied: tenacity>=8.2.3 in /home/harpo/miniconda3/envs/fastchat/lib/python3.10/site-packages (from chromadb) (8.2.3)\n",
      "Requirement already satisfied: PyYAML>=6.0.0 in /home/harpo/miniconda3/envs/fastchat/lib/python3.10/site-packages (from chromadb) (6.0)\n",
      "Requirement already satisfied: numpy>=1.22.5 in /home/harpo/miniconda3/envs/fastchat/lib/python3.10/site-packages (from chromadb) (1.25.0)\n",
      "Requirement already satisfied: starlette<0.28.0,>=0.27.0 in /home/harpo/miniconda3/envs/fastchat/lib/python3.10/site-packages (from fastapi>=0.95.2->chromadb) (0.27.0)\n",
      "Requirement already satisfied: certifi>=14.05.14 in /home/harpo/miniconda3/envs/fastchat/lib/python3.10/site-packages (from kubernetes>=28.1.0->chromadb) (2023.5.7)\n",
      "Requirement already satisfied: six>=1.9.0 in /home/harpo/miniconda3/envs/fastchat/lib/python3.10/site-packages (from kubernetes>=28.1.0->chromadb) (1.16.0)\n",
      "Requirement already satisfied: python-dateutil>=2.5.3 in /home/harpo/miniconda3/envs/fastchat/lib/python3.10/site-packages (from kubernetes>=28.1.0->chromadb) (2.8.2)\n",
      "Requirement already satisfied: google-auth>=1.0.1 in /home/harpo/miniconda3/envs/fastchat/lib/python3.10/site-packages (from kubernetes>=28.1.0->chromadb) (2.23.4)\n",
      "Requirement already satisfied: websocket-client!=0.40.0,!=0.41.*,!=0.42.*,>=0.32.0 in /home/harpo/miniconda3/envs/fastchat/lib/python3.10/site-packages (from kubernetes>=28.1.0->chromadb) (1.6.4)\n",
      "Requirement already satisfied: requests-oauthlib in /home/harpo/miniconda3/envs/fastchat/lib/python3.10/site-packages (from kubernetes>=28.1.0->chromadb) (1.3.1)\n",
      "Requirement already satisfied: oauthlib>=3.2.2 in /home/harpo/miniconda3/envs/fastchat/lib/python3.10/site-packages (from kubernetes>=28.1.0->chromadb) (3.2.2)\n",
      "Requirement already satisfied: urllib3<2.0,>=1.24.2 in /home/harpo/miniconda3/envs/fastchat/lib/python3.10/site-packages (from kubernetes>=28.1.0->chromadb) (1.26.16)\n",
      "Requirement already satisfied: coloredlogs in /home/harpo/miniconda3/envs/fastchat/lib/python3.10/site-packages (from onnxruntime>=1.14.1->chromadb) (15.0.1)\n",
      "Requirement already satisfied: flatbuffers in /home/harpo/miniconda3/envs/fastchat/lib/python3.10/site-packages (from onnxruntime>=1.14.1->chromadb) (23.5.26)\n",
      "Requirement already satisfied: packaging in /home/harpo/miniconda3/envs/fastchat/lib/python3.10/site-packages (from onnxruntime>=1.14.1->chromadb) (23.1)\n",
      "Requirement already satisfied: protobuf in /home/harpo/miniconda3/envs/fastchat/lib/python3.10/site-packages (from onnxruntime>=1.14.1->chromadb) (3.20.3)\n",
      "Requirement already satisfied: sympy in /home/harpo/miniconda3/envs/fastchat/lib/python3.10/site-packages (from onnxruntime>=1.14.1->chromadb) (1.12)\n",
      "Requirement already satisfied: deprecated>=1.2.6 in /home/harpo/miniconda3/envs/fastchat/lib/python3.10/site-packages (from opentelemetry-api>=1.2.0->chromadb) (1.2.14)\n",
      "Requirement already satisfied: importlib-metadata<7.0,>=6.0 in /home/harpo/miniconda3/envs/fastchat/lib/python3.10/site-packages (from opentelemetry-api>=1.2.0->chromadb) (6.0.1)\n",
      "Requirement already satisfied: backoff<3.0.0,>=1.10.0 in /home/harpo/miniconda3/envs/fastchat/lib/python3.10/site-packages (from opentelemetry-exporter-otlp-proto-grpc>=1.2.0->chromadb) (2.2.1)\n",
      "Requirement already satisfied: googleapis-common-protos~=1.52 in /home/harpo/miniconda3/envs/fastchat/lib/python3.10/site-packages (from opentelemetry-exporter-otlp-proto-grpc>=1.2.0->chromadb) (1.59.1)\n",
      "Requirement already satisfied: opentelemetry-exporter-otlp-proto-common==1.21.0 in /home/harpo/miniconda3/envs/fastchat/lib/python3.10/site-packages (from opentelemetry-exporter-otlp-proto-grpc>=1.2.0->chromadb) (1.21.0)\n",
      "Requirement already satisfied: opentelemetry-proto==1.21.0 in /home/harpo/miniconda3/envs/fastchat/lib/python3.10/site-packages (from opentelemetry-exporter-otlp-proto-grpc>=1.2.0->chromadb) (1.21.0)\n",
      "Requirement already satisfied: opentelemetry-semantic-conventions==0.42b0 in /home/harpo/miniconda3/envs/fastchat/lib/python3.10/site-packages (from opentelemetry-sdk>=1.2.0->chromadb) (0.42b0)\n",
      "Requirement already satisfied: monotonic>=1.5 in /home/harpo/miniconda3/envs/fastchat/lib/python3.10/site-packages (from posthog>=2.4.0->chromadb) (1.6)\n",
      "Requirement already satisfied: charset-normalizer<4,>=2 in /home/harpo/miniconda3/envs/fastchat/lib/python3.10/site-packages (from requests>=2.28->chromadb) (3.1.0)\n",
      "Requirement already satisfied: idna<4,>=2.5 in /home/harpo/miniconda3/envs/fastchat/lib/python3.10/site-packages (from requests>=2.28->chromadb) (3.4)\n",
      "Requirement already satisfied: click<9.0.0,>=7.1.1 in /home/harpo/miniconda3/envs/fastchat/lib/python3.10/site-packages (from typer>=0.9.0->chromadb) (8.1.3)\n",
      "Requirement already satisfied: h11>=0.8 in /home/harpo/miniconda3/envs/fastchat/lib/python3.10/site-packages (from uvicorn[standard]>=0.18.3->chromadb) (0.14.0)\n",
      "Requirement already satisfied: httptools>=0.5.0 in /home/harpo/miniconda3/envs/fastchat/lib/python3.10/site-packages (from uvicorn[standard]>=0.18.3->chromadb) (0.6.1)\n",
      "Requirement already satisfied: python-dotenv>=0.13 in /home/harpo/miniconda3/envs/fastchat/lib/python3.10/site-packages (from uvicorn[standard]>=0.18.3->chromadb) (1.0.0)\n",
      "Requirement already satisfied: uvloop!=0.15.0,!=0.15.1,>=0.14.0 in /home/harpo/miniconda3/envs/fastchat/lib/python3.10/site-packages (from uvicorn[standard]>=0.18.3->chromadb) (0.19.0)\n",
      "Requirement already satisfied: watchfiles>=0.13 in /home/harpo/miniconda3/envs/fastchat/lib/python3.10/site-packages (from uvicorn[standard]>=0.18.3->chromadb) (0.19.0)\n",
      "Requirement already satisfied: websockets>=10.4 in /home/harpo/miniconda3/envs/fastchat/lib/python3.10/site-packages (from uvicorn[standard]>=0.18.3->chromadb) (11.0.3)\n",
      "Requirement already satisfied: wrapt<2,>=1.10 in /home/harpo/miniconda3/envs/fastchat/lib/python3.10/site-packages (from deprecated>=1.2.6->opentelemetry-api>=1.2.0->chromadb) (1.15.0)\n",
      "Requirement already satisfied: cachetools<6.0,>=2.0.0 in /home/harpo/miniconda3/envs/fastchat/lib/python3.10/site-packages (from google-auth>=1.0.1->kubernetes>=28.1.0->chromadb) (5.3.2)\n",
      "Requirement already satisfied: pyasn1-modules>=0.2.1 in /home/harpo/miniconda3/envs/fastchat/lib/python3.10/site-packages (from google-auth>=1.0.1->kubernetes>=28.1.0->chromadb) (0.3.0)\n",
      "Requirement already satisfied: rsa<5,>=3.1.4 in /home/harpo/miniconda3/envs/fastchat/lib/python3.10/site-packages (from google-auth>=1.0.1->kubernetes>=28.1.0->chromadb) (4.9)\n",
      "Requirement already satisfied: zipp>=0.5 in /home/harpo/miniconda3/envs/fastchat/lib/python3.10/site-packages (from importlib-metadata<7.0,>=6.0->opentelemetry-api>=1.2.0->chromadb) (3.15.0)\n",
      "Requirement already satisfied: anyio<5,>=3.4.0 in /home/harpo/miniconda3/envs/fastchat/lib/python3.10/site-packages (from starlette<0.28.0,>=0.27.0->fastapi>=0.95.2->chromadb) (3.7.0)\n",
      "Requirement already satisfied: humanfriendly>=9.1 in /home/harpo/miniconda3/envs/fastchat/lib/python3.10/site-packages (from coloredlogs->onnxruntime>=1.14.1->chromadb) (10.0)\n",
      "Requirement already satisfied: mpmath>=0.19 in /home/harpo/miniconda3/envs/fastchat/lib/python3.10/site-packages (from sympy->onnxruntime>=1.14.1->chromadb) (1.3.0)\n",
      "Requirement already satisfied: sniffio>=1.1 in /home/harpo/miniconda3/envs/fastchat/lib/python3.10/site-packages (from anyio<5,>=3.4.0->starlette<0.28.0,>=0.27.0->fastapi>=0.95.2->chromadb) (1.3.0)\n",
      "Requirement already satisfied: exceptiongroup in /home/harpo/miniconda3/envs/fastchat/lib/python3.10/site-packages (from anyio<5,>=3.4.0->starlette<0.28.0,>=0.27.0->fastapi>=0.95.2->chromadb) (1.1.1)\n",
      "Requirement already satisfied: pyasn1<0.6.0,>=0.4.6 in /home/harpo/miniconda3/envs/fastchat/lib/python3.10/site-packages (from pyasn1-modules>=0.2.1->google-auth>=1.0.1->kubernetes>=28.1.0->chromadb) (0.5.0)\n"
     ]
    }
   ],
   "source": [
    "!pip install chromadb"
   ]
  },
  {
   "cell_type": "code",
   "execution_count": 17,
   "id": "754e3245",
   "metadata": {},
   "outputs": [
    {
     "name": "stdout",
     "output_type": "stream",
     "text": [
      "huggingface/tokenizers: The current process just got forked, after parallelism has already been used. Disabling parallelism to avoid deadlocks...\n",
      "To disable this warning, you can either:\n",
      "\t- Avoid using `tokenizers` before the fork if possible\n",
      "\t- Explicitly set the environment variable TOKENIZERS_PARALLELISM=(true | false)\n"
     ]
    }
   ],
   "source": [
    "!pip3 install opencv-python-headless --quiet #required for cv2"
   ]
  },
  {
   "cell_type": "markdown",
   "id": "428e2cf0",
   "metadata": {},
   "source": [
    "## Import libraries"
   ]
  },
  {
   "cell_type": "code",
   "execution_count": 1,
   "id": "df06b4ff-16d9-458a-9b90-11ec2eb749cc",
   "metadata": {},
   "outputs": [],
   "source": [
    "import chromadb "
   ]
  },
  {
   "cell_type": "code",
   "execution_count": 2,
   "id": "ef6b9cfa-44ff-4105-b885-2ebdbc55cc33",
   "metadata": {},
   "outputs": [
    {
     "name": "stderr",
     "output_type": "stream",
     "text": [
      "/home/harpo/miniconda3/envs/fastchat/lib/python3.10/site-packages/tqdm/auto.py:21: TqdmWarning: IProgress not found. Please update jupyter and ipywidgets. See https://ipywidgets.readthedocs.io/en/stable/user_install.html\n",
      "  from .autonotebook import tqdm as notebook_tqdm\n"
     ]
    }
   ],
   "source": [
    "import sentence_transformers"
   ]
  },
  {
   "cell_type": "code",
   "execution_count": 3,
   "id": "73791d6e-8b0d-4ad2-aa8d-a442b3e5f991",
   "metadata": {},
   "outputs": [],
   "source": [
    "import langchain"
   ]
  },
  {
   "cell_type": "code",
   "execution_count": 4,
   "id": "8226a793-ea59-4608-943b-645365548a14",
   "metadata": {},
   "outputs": [],
   "source": [
    "from langchain.chat_models import ChatOpenAI\n",
    "from langchain.document_loaders import TextLoader\n",
    "from langchain.document_loaders import UnstructuredPDFLoader\n",
    "from langchain.embeddings import OpenAIEmbeddings\n",
    "from langchain.indexes import VectorstoreIndexCreator\n",
    "from langchain.embeddings import SentenceTransformerEmbeddings\n",
    "from langchain.text_splitter import NLTKTextSplitter\n",
    "from langchain.callbacks.manager import CallbackManager\n",
    "from langchain.callbacks.streaming_stdout import StreamingStdOutCallbackHandler\n",
    "import os"
   ]
  },
  {
   "cell_type": "markdown",
   "id": "9b895235-b3e9-4db0-918b-b9bd1308d481",
   "metadata": {
    "tags": []
   },
   "source": [
    "## Setup the llm "
   ]
  },
  {
   "cell_type": "code",
   "execution_count": 5,
   "id": "42188b0f-a4ab-4099-aa44-912909914d45",
   "metadata": {},
   "outputs": [],
   "source": [
    "from transformers import pipeline, set_seed\n",
    "from transformers import TextStreamer, pipeline\n",
    "from transformers import (AutoModelForCausalLM, AutoTokenizer, BitsAndBytesConfig)\n",
    "import torch\n",
    "model_path = \"/home/harpo/CEPH/LLM-models/Llama-2-7b-hf-juris/\"\n",
    "tokenizer_path = \"/home/harpo/CEPH/LLM-models/Llama-2-7b-hf-juris/\"\n",
    "#model_path = \"/home/harpo/CEPH/LLM-models/Llama-2-7b-chat-hf/\"\n",
    "#tokenizer_path = \"/home/harpo/CEPH/LLM-models/Llama-2-7b-chat-hf/\"\n",
    "\n",
    "quantize = True\n",
    "bnb_config = BitsAndBytesConfig(\n",
    "load_in_8bit=True\n",
    "#load_in_4bit=True,\n",
    "#bnb_4bit_quant_type=\"nf4\",\n",
    "#bnb_4bit_compute_dtype= getattr(torch, \"float16\"),\n",
    "#bnb_4bit_use_double_quant=True,\n",
    ")\n",
    "\n",
    "quantization_config = bnb_config if quantize else None"
   ]
  },
  {
   "cell_type": "code",
   "execution_count": 6,
   "id": "5b3a4a9e",
   "metadata": {},
   "outputs": [],
   "source": [
    "\n",
    "quantization_config = bnb_config if quantize else None"
   ]
  },
  {
   "cell_type": "code",
   "execution_count": 7,
   "id": "ad79139f",
   "metadata": {},
   "outputs": [
    {
     "name": "stderr",
     "output_type": "stream",
     "text": [
      "Loading checkpoint shards:  50%|█████     | 1/2 [00:03<00:03,  3.19s/it]"
     ]
    },
    {
     "name": "stderr",
     "output_type": "stream",
     "text": [
      "Loading checkpoint shards: 100%|██████████| 2/2 [00:04<00:00,  2.19s/it]\n"
     ]
    }
   ],
   "source": [
    "\n",
    "model = AutoModelForCausalLM.from_pretrained(\n",
    "            model_path,\n",
    "            quantization_config=quantization_config,\n",
    "            device_map =\"auto\",\n",
    "            #device_map={\"\": 0},\n",
    "            trust_remote_code=True)\n"
   ]
  },
  {
   "cell_type": "code",
   "execution_count": 8,
   "id": "ca09a635",
   "metadata": {},
   "outputs": [],
   "source": [
    "\n",
    "tok = AutoTokenizer.from_pretrained(tokenizer_path,\n",
    "            trust_remote_code=True,\n",
    "            #device_map={\"\": 0}\n",
    "            device_map=\"auto\"\n",
    "            )\n",
    "#model.config.pad_token_id = tok.pad_token_id = 0  # unk\n",
    "#model.config.bos_token_id = 1\n",
    "#model.config.eos_token_id = 2\n"
   ]
  },
  {
   "cell_type": "code",
   "execution_count": 57,
   "id": "3d8bf9ed",
   "metadata": {},
   "outputs": [],
   "source": [
    "streamer = TextStreamer(tok, skip_prompt=True)\n",
    "generator = pipeline('text-generation',\n",
    "                         model=model,\n",
    "                         tokenizer=tok,\n",
    "                         #streamer=streamer,\n",
    "                         return_full_text=False,\n",
    "                         do_sample=True,\n",
    "                         temperature = 0.1,\n",
    "                         #early_stopping= True,\n",
    "                         #num_beams =1 ,\n",
    "                         no_repeat_ngram_size= 3,\n",
    "\n",
    "                         #max_length=100\n",
    "                         max_new_tokens=500 )"
   ]
  },
  {
   "cell_type": "markdown",
   "id": "9a144ea0-da0d-41e3-95cb-808bffa09114",
   "metadata": {
    "tags": []
   },
   "source": [
    "### Test the LLM"
   ]
  },
  {
   "cell_type": "code",
   "execution_count": 10,
   "id": "1d5cfdaf-da73-4229-af39-a8d5c01ccdcb",
   "metadata": {},
   "outputs": [
    {
     "name": "stdout",
     "output_type": "stream",
     "text": [
      " Aquí "
     ]
    },
    {
     "name": "stdout",
     "output_type": "stream",
     "text": [
      "te presento un ejemplo ficticio de unsumario de una corte de la provincia de Mendozain derecho Laboral: El caso es el siguiente: La empresa \"Sodimac\" despide a su empleado \"Juan\" por infracción disciplinaria, sin que se le brinde la oportunidad de defensa prevista en el art. 24 de la LCT. La conducta de la empresa es inconstitucional, ya que el artículo 25 de la Constitución Nacional establece que el trabajador tiene derecho a la defensa, y que el empleador debe justificar la decisión de despedirlo. Además, el articulo 17 de la Ley de Contrato de Trabajo, establece el deber de justificación de la decencia de la relación laboral, y el articulado 2 de la ley de protección contra la discriminación, establecen que el principio de no discriminar es una norma fundamental del derecho. Por lo tanto, la decidencia de despido de Juan es injustificada, y la empresa debe pagarle el salario correspondiente a la duración de su relación, hasta el momento de su despido. Además la empresa no cumple con su deber justificativo, por lo que la relacio laboral debe ser considerada como una relación de trabajo regular. Por último, la empresa violó el artículos 16 y 18 de la Convención Americana sobre Pago de Salarios, que establece la obligación de pagar los salarios a tiempo y en forma regular, y de no aplicar sanciones disciplinarias a los trabajadores por motivos de raza, color, género, religión, origen étnico, discapacidad, edad, ni por cualquier otra circunstancia personal. Por ello, la relació laboral es considerada regular, por ello la empresa deberá pagar el salário correspondiente. (Disidencia Dr. Adaro) La relación es considera como regular, la misma debe ser paga el salarios correspondiente, y debe ser justificada la decendencia de la misma. (Voto Dr. Sánchez) La decisión del despido\n"
     ]
    }
   ],
   "source": [
    "_ = generator(\"[INST] Generar un ejemplo de un sumario de la corte de Mendoza en derecho laboral. [/INST]\")"
   ]
  },
  {
   "cell_type": "code",
   "execution_count": null,
   "id": "79b7f480",
   "metadata": {},
   "outputs": [],
   "source": []
  },
  {
   "cell_type": "markdown",
   "id": "e4dd17fd-dc5e-442e-924e-9306c1c69870",
   "metadata": {},
   "source": [
    "## Setup SBERT for calculating embeddings"
   ]
  },
  {
   "cell_type": "code",
   "execution_count": 11,
   "id": "20e17753-4cf8-429d-b2dc-f5c1156b5662",
   "metadata": {},
   "outputs": [],
   "source": [
    "embedding = SentenceTransformerEmbeddings(model_name=\"all-MiniLM-L6-v2\")"
   ]
  },
  {
   "cell_type": "code",
   "execution_count": 12,
   "id": "4fccd548-a93e-4421-9f74-962e22791928",
   "metadata": {},
   "outputs": [
    {
     "data": {
      "text/plain": [
       "HuggingFaceEmbeddings(client=SentenceTransformer(\n",
       "  (0): Transformer({'max_seq_length': 256, 'do_lower_case': False}) with Transformer model: BertModel \n",
       "  (1): Pooling({'word_embedding_dimension': 384, 'pooling_mode_cls_token': False, 'pooling_mode_mean_tokens': True, 'pooling_mode_max_tokens': False, 'pooling_mode_mean_sqrt_len_tokens': False})\n",
       "  (2): Normalize()\n",
       "), model_name='all-MiniLM-L6-v2', cache_folder=None, model_kwargs={}, encode_kwargs={}, multi_process=False)"
      ]
     },
     "execution_count": 12,
     "metadata": {},
     "output_type": "execute_result"
    }
   ],
   "source": [
    "embedding"
   ]
  },
  {
   "cell_type": "markdown",
   "id": "b9cff2d6-7069-46ca-989b-4d901ebdd3f3",
   "metadata": {},
   "source": [
    "# INTERACTIVE EXAMPLE"
   ]
  },
  {
   "cell_type": "code",
   "execution_count": 58,
   "id": "ebc5a128",
   "metadata": {},
   "outputs": [],
   "source": [
    "from langchain.llms import HuggingFacePipeline\n",
    "callback_manager = CallbackManager([StreamingStdOutCallbackHandler()])\n",
    "llm = HuggingFacePipeline(\n",
    "    pipeline= generator,\n",
    "    #model_kwargs={\"temperature\": 0, \"max_length\": 4096,\"max_new_tokens\":4096},\n",
    "    #callback_manager=callback_manager\n",
    ")"
   ]
  },
  {
   "cell_type": "code",
   "execution_count": 59,
   "metadata": {},
   "outputs": [
    {
     "data": {
      "text/plain": [
       "'  Aquí te presento un ejemplo ficticio de unsumario de una corte de la provincia de Mendozain el ámbito del derecho Laboral: El caso es el siguiente: La empresa \"Sodimac\" despide a su empleado \"Juan Bautista\" por motivos de incompatibilidad con el trabajo, sin que el trabajador haya recibido una notificación previa de la misma. El trabajador, alega que la despedida fue arbitraria, ya que la empresa no le proporcionó la notificación prevista por la ley, y que la causa de la despido fue la incompatiblidad del trabajo, lo que no justifica la inmediata destitución del trabajador sin que se le brindara una oportunidad de adaptación. La empresa, por su parte, sostiene que la incapacidad del trabajado para realizar sus funciones laborales, fue la causa inmediada de la inasistencia del trabajaro, y por lo tanto, la despida fue justificada. La cuestión es si el despido de Juan Bautisto fue arbitrario, si la causa es incompatible con el derecho de los trabajadores a la seguridad de su empleo, si el trabajado recibió la noticia prevista en la leyes 23.553 y 26.572, si se le proporció la oportuna adaptación, si existió una relación laboral, si los trabajados recibieron la notificación prevista, si las causas de la relación son justificadas, si existe una relação laboral entre los trabajador y la empresa, si es justificable la despidencia, si fue notificada previa, si correspondió la adaptación previst en la norma, si corresponde la indemnización prevista. En este caso, la relacio laboral existente entre los dos, la incompatible relación del trabajo y la despidosa, la notificación previa y la adaptacion prevista de la leyc 24.567, la justificabilidad de la causa, la existencia de una relacio trabajo-empresa, la adaptabilidad prevista y la indennización correspond'"
      ]
     },
     "execution_count": 59,
     "metadata": {},
     "output_type": "execute_result"
    }
   ],
   "source": [
    "llm(\"[INST] Generar un ejemplo de un sumario de la corte de Mendoza en derecho laboral. [/INST]\")"
   ]
  },
  {
   "cell_type": "markdown",
   "id": "910d36d3-b87c-43fc-bd88-3409cc5d5536",
   "metadata": {},
   "source": [
    "## Load a PDF and calculate the embeddings"
   ]
  },
  {
   "cell_type": "code",
   "execution_count": null,
   "id": "529dc29d",
   "metadata": {},
   "outputs": [],
   "source": [
    "!pip install -U \"unstructured[all-docs]\""
   ]
  },
  {
   "cell_type": "code",
   "execution_count": 34,
   "id": "ebd0f465-6390-48ac-bcfe-cb48d004529a",
   "metadata": {},
   "outputs": [],
   "source": [
    "loader = UnstructuredPDFLoader(\"/home/harpo/git-repos/JurisGPT/rawdata/laboral/sumarios/fallos/10000003368.pdf\")"
   ]
  },
  {
   "cell_type": "code",
   "execution_count": 35,
   "id": "8be11de5-fd70-43d4-ac9b-df81de1d6aac",
   "metadata": {},
   "outputs": [],
   "source": [
    "index = VectorstoreIndexCreator(embedding=embedding).from_loaders([loader])"
   ]
  },
  {
   "cell_type": "code",
   "execution_count": null,
   "id": "7c03c5de-76d1-4694-9560-b0b736f37a10",
   "metadata": {},
   "outputs": [],
   "source": [
    "index.vectorstore.delete_collection()"
   ]
  },
  {
   "cell_type": "markdown",
   "id": "cd872ef9-0a6a-41ba-93e9-36a9eb52e89a",
   "metadata": {},
   "source": [
    "## Ask LLM to summarize each section"
   ]
  },
  {
   "cell_type": "code",
   "execution_count": 49,
   "id": "3784c955-4e79-4cc1-934b-f69f91174623",
   "metadata": {},
   "outputs": [
    {
     "name": "stderr",
     "output_type": "stream",
     "text": [
      "/home/harpo/miniconda3/envs/fastchat/lib/python3.10/site-packages/transformers/pipelines/base.py:1101: UserWarning: You seem to be using the pipelines sequentially on GPU. In order to maximize efficiency please use a dataset\n",
      "  warnings.warn(\n"
     ]
    },
    {
     "name": "stdout",
     "output_type": "stream",
     "text": [
      "\n"
     ]
    },
    {
     "name": "stdout",
     "output_type": "stream",
     "text": [
      "\n",
      "La sección \"Antecedes\" de la sentencia se enfoca en la conformación de la lealtad legislativa en el ámbito local y nacional. Se reconoce la adherencia de las provincías a la normativad nacional en materia de seguridad y riesgos de trabajo, mediante la sanación de leyes locales que delegan competencias a la administración nacional. Sin embargo, se destaca que la adscripción no fue total, ya que se reconocieron competencias no delegables a la nación. Además, se invita al resto de provincianos y a Buenos Aires para adherirse a la misma normativa. En resumen, se trata de la conformción de una lealtud legislativa que busca garantizar la segurança y bienestar del trabajador en el marco de la aplicación de las leyes nacionales.</s>\n",
      "\n",
      "\n",
      "La sección \"Antecedes\" de la sentencia se enfoca en la conformación de la lealtad legislativa en el ámbito local y nacional. Se reconoce la adherencia de las provincías a la normativad nacional en materia de seguridad y riesgos de trabajo, mediante la sanación de leyes locales que delegan competencias a la administración nacional. Sin embargo, se destaca que la adscripción no fue total, ya que se reconocieron competencias no delegables a la nación. Además, se invita al resto de provincianos y a Buenos Aires para adherirse a la misma normativa. En resumen, se trata de la conformción de una lealtud legislativa que busca garantizar la segurança y bienestar del trabajador en el marco de la aplicación de las leyes nacionales.\n"
     ]
    }
   ],
   "source": [
    "query = \"\"\" \n",
    "<s>[INST]<<SYS>>\n",
    "Think after answer. Your answer should be in spanish. Not english.\n",
    "<</SYS>>\n",
    "Eres un miembro de la corte Suprema de Mendoza en Argentina. Tienes que escribir un sumario de la seccion 'Antecedentes' de una sentencia de la corte. Escribe tu respuesta español en no menos de 150 palabras: \n",
    "[/INSTR]\n",
    "\"\"\"\n",
    "\n",
    "summary_ant = (index.query(query,llm=llm))\n",
    "print(summary_ant)"
   ]
  },
  {
   "cell_type": "code",
   "execution_count": 50,
   "id": "1f416496-59b2-42cc-b2a0-fe4e5f43b554",
   "metadata": {},
   "outputs": [
    {
     "name": "stderr",
     "output_type": "stream",
     "text": [
      "/home/harpo/miniconda3/envs/fastchat/lib/python3.10/site-packages/transformers/pipelines/base.py:1101: UserWarning: You seem to be using the pipelines sequentially on GPU. In order to maximize efficiency please use a dataset\n",
      "  warnings.warn(\n"
     ]
    },
    {
     "name": "stdout",
     "output_type": "stream",
     "text": [
      "\n",
      "En la sección \"Sobre las primeras cuestiones\" de la sentencia, se analiza el marco jurídico general y la normatividad específicamente referida, para determinar la validez de la leycadadada en el caso en cuestión. Se destaca que la normative local y federal no son idénticas, por lo que es necesario analizar las diferencias entre ambas. Además, se hace hincapié en que la cadena de causalidad debe ser analizada de manera global, sin descuidar la relación entre los hechos y la lección legal. Por último, se resalta que la valoración de los hechazos debe ser objetiva y no subjetiva, ya que la justicia debe ser imparcial y no deudar a las partes.</s>\n",
      "\n",
      "En la sección \"Sobre las primeras cuestiones\" de la sentencia, se analiza el marco jurídico general y la normatividad específicamente referida, para determinar la validez de la leycadadada en el caso en cuestión. Se destaca que la normative local y federal no son idénticas, por lo que es necesario analizar las diferencias entre ambas. Además, se hace hincapié en que la cadena de causalidad debe ser analizada de manera global, sin descuidar la relación entre los hechos y la lección legal. Por último, se resalta que la valoración de los hechazos debe ser objetiva y no subjetiva, ya que la justicia debe ser imparcial y no deudar a las partes.\n"
     ]
    }
   ],
   "source": [
    "query = \"\"\"\n",
    "<s>[INST]<<SYS>>\n",
    "Think after answer. Your answer should be in spanish. Not english.\n",
    "<</SYS>> \n",
    "Eres un miembro de la corte suprema de Mendoza en Argentina. Tienes que escribir un sumario de la seccion 'Sobre la primera cuestion' de una sentencia de la corte. Escribe tu respuesta en español en no menos de 150 palabras:\n",
    "[/INSTR]\n",
    "\"\"\"\n",
    "summary_1 = (index.query(query,llm=llm))\n",
    "print(summary_1)\n"
   ]
  },
  {
   "cell_type": "code",
   "execution_count": null,
   "id": "4a1c04e2-0428-4bab-a89a-c6ab90eaccc8",
   "metadata": {},
   "outputs": [],
   "source": [
    "query = \"Eres un miembro de la corte suprema de Mendoza en Argentina. Tienes que escribir un resume de la seccion 'Sobre la segunda cuestion' de una sentencia de la corte. Escribe tu respuesta en no menos de 150 palabras:\"\n",
    "summary_2 = (index.query(query,llm=llm))\n",
    "print(summary_2)"
   ]
  },
  {
   "cell_type": "code",
   "execution_count": null,
   "id": "0f1fe3db-5a0c-4ee5-8de9-d6fbaeca81bb",
   "metadata": {},
   "outputs": [],
   "source": [
    "query = \"Eres un miembro de la corte suprema de Mendoza en Argentina. Tienes que escribir un resume de la seccion 'Sobre la tercera cuestion' de una sentencia de la corte. Escribe tu respuesta en no menos de 150 palabras:\"\n",
    "summary_3 = (index.query(query,llm=llm))\n",
    "print(summary_3)"
   ]
  },
  {
   "cell_type": "code",
   "execution_count": null,
   "id": "f8a6a669-ece7-46c6-9afa-2eb1a3eac2a6",
   "metadata": {},
   "outputs": [],
   "source": [
    "query = \"Eres un miembro de la corte suprema de Mendoza en Argentina. Tienes que escribir un resumen de la seccion 'Resuelve' de una sentencia de la corte. Escribe tu respuesta en no menos de 150 palabras:\"\n",
    "summary_res = (index.query(query,llm=llm))\n",
    "print(summary_res)"
   ]
  },
  {
   "cell_type": "code",
   "execution_count": null,
   "id": "06501739-8ae9-4c07-a3e5-c2a4503522b5",
   "metadata": {},
   "outputs": [],
   "source": [
    "prompt = f\"Eres un miembro de la corte suprena de Mendoza en Argentina. A partir del siguiente resumen de una setencia de la corte :\\n\\n```\\n{summary_ant}\\n\\n{summary_1}\\n\\n{summary_2}\\n\\n {summary_3}\\n\\n {summary_res}.\\n```\\n\\n\"\n",
    "prompt +=\"Explicar las causas detras de la decision final de la sentencia. Escribe un sumario de la corte en no menos de 250 palabras. Favor de no mencionar:\\n1. Los nombres de las secciones.\\n2. Los nombres de los casos.\\n3. Los nombres de los ministros de la corte.\\n4. Las fechas y la ubicacion de la corte.\\n\\n\"\n",
    "prompt +=\"Cuando escribas el sumario tener en cuenta que este puede ayudar en futura jurisprudencia.\" \n",
    "print(prompt)"
   ]
  },
  {
   "cell_type": "code",
   "execution_count": null,
   "id": "67ab629e-17a8-497d-9357-d9647045b638",
   "metadata": {},
   "outputs": [],
   "source": [
    "print(llm(prompt,))"
   ]
  },
  {
   "cell_type": "markdown",
   "id": "ffd95b28-7288-4a23-b70b-6b77268a7912",
   "metadata": {},
   "source": [
    "# FUNCTIONS"
   ]
  },
  {
   "cell_type": "markdown",
   "id": "38c397a0-8688-43af-a280-bc6ce0c6f014",
   "metadata": {
    "tags": []
   },
   "source": [
    "## Create summary (ES)"
   ]
  },
  {
   "cell_type": "code",
   "execution_count": 76,
   "id": "ecd2e67e-bafe-4765-bfb7-92b3fb5644e3",
   "metadata": {},
   "outputs": [],
   "source": [
    "def create_summary_es(rule_file, embedding, llm):\n",
    "    loader = UnstructuredPDFLoader(rule_file)\n",
    "    #index = VectorstoreIndexCreator(embedding=embedding).from_loaders([loader])\n",
    "    #index.vectorstore.delete_collection()\n",
    "    index = VectorstoreIndexCreator(embedding=embedding).from_loaders([loader])\n",
    "    print(\"calculating ant\")\n",
    "    query = \"\"\"\n",
    "    <s>[INST]<<SYS>>\n",
    "    Think after answer. Your answer should be in spanish. Not english.\n",
    "    <</SYS>>\n",
    "    Eres un secretario de la corte suprema de Mendoza en Argentina. \n",
    "    Tienes que escribir un resumen de la seccion 'Antecedentes' de una sentencia de la corte. \n",
    "    Escribe tu respuesta en español y en no mas de 150 palabras:\n",
    "    [/INST]\n",
    "    \"\"\"\n",
    "    summary_ant = (index.query(query,llm=llm))\n",
    "    print(\"calculating 1\")\n",
    "    query = \"\"\"\n",
    "    <s>[INST]<<SYS>>\n",
    "    Think after answer. Your answer should be in spanish. Not in english.\n",
    "    <</SYS>>\n",
    "    Eres un secretario de la corte suprema de Mendoza en Argentina. \n",
    "    Tienes que escribir un resumen de la seccion 'Sobre la primera cuestion' de una sentencia de la corte. \n",
    "    Escribe tu respuesta en español y en no mas de 150 palabras:\n",
    "    [/INST]\n",
    "    \"\"\"\n",
    "\n",
    "    summary_1 = (index.query(query,llm=llm))\n",
    "    print(\"calculating 2\")\n",
    "    query = \"\"\"\n",
    "    <s>[INST]<<SYS>>\n",
    "    Think after answer. Your answer should be in spanish. Not in english.\n",
    "    <</SYS>>\n",
    "    Eres un secretario de la corte suprema de Mendoza en Argentina.\n",
    "    Tienes que escribir un resumen de la seccion 'Sobre la segunda cuestion' de una sentencia de la corte. \n",
    "    Escribe tu respuesta en español y en no mas de 150 palabras:\n",
    "    [/INST]\n",
    "    \"\"\"\n",
    "    summary_2 = (index.query(query,llm=llm))\n",
    "    print(\"calculating 3\")\n",
    "    query = \"\"\"\n",
    "    <s>[INST]<<SYS>>\n",
    "    Think after answer. Your answer should be in spanish. Not in english.\n",
    "    <</SYS>>\n",
    "    Eres un secretario de la corte suprema de Mendoza en Argentina.\n",
    "    Tienes que escribir un resumen de la seccion 'Sobre la tercera cuestion' de una sentencia de la corte. \n",
    "    Escribe tu respuesta en español y en no mas de 150 palabras:\n",
    "    [/INST]\n",
    "    \"\"\"\n",
    "    summary_3 = (index.query(query,llm=llm))\n",
    "    print(\"calculating res\")\n",
    "    query = \"\"\"\n",
    "     <s>[INST]<<SYS>>\n",
    "    Think after answer. Your answer should be in spanish. Not in english.\n",
    "    <</SYS>>\n",
    "    Eres un secretario de la corte suprema de Mendoza en Argentina.\n",
    "    Tienes que escribir un resumen de la seccion 'Resuelve' de una sentencia de la corte. \n",
    "    Escribe tu respuesta en no mas de 150 palabras:\n",
    "    Escribe tu respuesta en español y en no mas de 150 palabras:\n",
    "    [/INST]\n",
    "    \"\"\"    \n",
    "    summary_res = (index.query(query,llm=llm))\n",
    "    \n",
    "    prompt = f\"Eres un oficial perito de la corte suprema de Mendoza en Argentina. A partir del siguiente resumen de una sentencia de la corte :\\n\\n```\\n{summary_ant}\\n\\n{summary_1}\\n\\n{summary_2}\\n\\n {summary_3}\\n\\n {summary_res}.\\n```\\n\\n\"    \n",
    "    prompt +=\"Debes escribir un sumario en donde se expliquen las causas detras de la decision final de la sentencia. Escribir el sumario de la corte en no mas de 700 palabras.\"\n",
    "    prompt +=\"Favor de no mencionar NUNCA:\\n1. Los nombres de las secciones como ser: primera cuestion, segunda cuestion o tercera cuestion.\\n2. Los nombres de los casos.\\n3. Los nombres de los ministros de la corte.\\n4. Las fechas y la ubicacion de la corte.\\n5. La palabra corte\\n\\n\"\n",
    "    prompt +=\"Cuando escribas el sumario tener en cuenta que este puede ayudar en futura jurisprudencia. En caso de disidencia indicar el nombre del  ministro de la corte. \" \n",
    "    #print(prompt)\n",
    "    prompt = f\"\"\"\n",
    "    <s>[INST]<<SYS>>\n",
    "    Think after answer. Your answer should be in spanish. Not in english.\n",
    "    <</SYS>>\n",
    "    {prompt}\n",
    "    Escribe tu respuesta en español y en no mas de 350 palabras:\n",
    "    [/INST]\n",
    "    \"\"\"\n",
    "    index.vectorstore.delete_collection()\n",
    "    print(\"calculating prompt\")\n",
    "    #print(prompt)\n",
    "    res = llm(prompt)\n",
    "    return res"
   ]
  },
  {
   "cell_type": "code",
   "execution_count": null,
   "id": "311fb22f-1211-41ba-b069-0883ff45116c",
   "metadata": {},
   "outputs": [],
   "source": [
    "prompt+=\"\"\" \n",
    "    \n",
    "Sabiendo que un sumario es una descripción resumida de las doctrinas contempladas en la sentencia judicial dado que en ella pueden tratarse diversas cuestiones jurídicas       \n",
    "Presentar un sumario en donde se expliquen las causas detras de la decision final de la sentencia. Escribir el sumario de la corte en no mas de 700 palabras.\"\n",
    "\n",
    "En el sumario incluir:\n",
    "\n",
    "1. Indicar que eventos o circunstancias son centrales para el caso?\n",
    "2. Indicar cómo se valoran las conductas o eventos en el contexto laboral (subjetiva y objetivamente)?\n",
    "3. Indicar como afectan estos hechos la relación entre las partes involucradas (empleador y empleado)?\n",
    "4. Indicar leyes, principios o derechos están en juego (tutela sindical, deber de fidelidad, igualdad de oportunidades, etc.)?\n",
    "5. Indicar qué determinación se hizo respecto a la legalidad de la conducta o evento en cuestión\n",
    "6. Indicar si hubo disidencia entre los jueces\n",
    "\n",
    "En el sumario no mencionar NUNCA:\n",
    "\n",
    "1. Los nombres de las secciones como ser: primera cuestion, segunda cuestion o tercera cuestion.\n",
    "2. Los nombres de los casos.\n",
    "3. Los nombres de los ministros de la corte.\n",
    "4. Las fechas y la ubicacion de la corte.\n",
    "5. La palabra corte\n",
    "6. Los nombres de las personas involucradas.\n",
    "Cuando escribas el sumario tener en cuenta que este puede ayudar en futura jurisprudencia.\n",
    "\n",
    "Limitarse a generar el sumario. No responder Por supuesto.\n",
    "\"\"\" "
   ]
  },
  {
   "cell_type": "markdown",
   "id": "ed53e5d6-3086-42a4-8c80-d1b82b085347",
   "metadata": {},
   "source": [
    "## Create Summary (EN)"
   ]
  },
  {
   "cell_type": "code",
   "execution_count": null,
   "id": "e7637092-0217-49ac-ad2c-da063529a92b",
   "metadata": {
    "jupyter": {
     "source_hidden": true
    },
    "tags": []
   },
   "outputs": [],
   "source": [
    "def create_summary(rule_file, embedding, llm):\n",
    "    loader = UnstructuredPDFLoader(rule_file)\n",
    "    index = VectorstoreIndexCreator(embedding=embedding).from_loaders([loader])\n",
    "    index.vectorstorae.delete_collection()\n",
    "    index = VectorstoreIndexCreator(embedding=embedding).from_loaders([loader])\n",
    "    query = \"You are a member of the supreme court in Mendoza, Argentina. You have to write a summary of the section named 'Antecedentes' of a particular court ruling . Write your answer in spanish in no less than 150 words:\"\n",
    "    summary_ant = (index.query(query,llm=llm))\n",
    "    query = \"You are a member of the supreme court in Mendoza, Argentina. You have to write a summary of the section named 'Sobre la primera cuestion' of a particular court ruling . Write your answer in spanish in no less than 150 words::\"\n",
    "    summary_1 = (index.query(query,llm=llm))\n",
    "    query = \"You are a member of the supreme court in Mendoza, Argentina. You have to write a summary of the section named 'Sobre la segunda cuestion' of a particular court ruling . Write your answer in spanish in no less than 150 words::\"\n",
    "    summary_2 = (index.query(query,llm=llm))\n",
    "    query = \"You are a member of the supreme court in Mendoza, Argentina. You have to write a summary of the section named 'Sobre la tercera cuestion' of a particular court ruling . Write your answer in spanish in no less than 150 words::\"\n",
    "    summary_3 = (index.query(query,llm=llm))\n",
    "    query = \"You are a member of the supreme court in Mendoza, Argentina. You have to write a summary of the section named 'resuelve' of a particular court ruling . Write your answer in spanish in no less than 150 words::\"\n",
    "    summary_res = (index.query(query,llm=llm))\n",
    "\n",
    "    prompt = f\"You are a member of the supreme court, Argentina. Given the following summary of a particular court ruling:\\n\\n```\\n{summary_ant}\\n\\n{summary_1}\\n\\n{summary_2}\\n\\n {summary_3}\\n\\n {summary_res}.\\n```\\n\\n\"\n",
    "    prompt +=\"Write a court rule summary in spanish in no less than 150 words. Do not mention:\\n1. the name of the the sections.\\n2. the numbers of the cases.\\n3. the names of the ministers of the court.\\n4. dates and court locations..\\n\\n\"\n",
    "    prompt +=\"When writing the summary keep in mind it can help for future jurisprudence. Explain the causes behind the final decision. Translate your answer to spanish:\"\n",
    "    index.vectorstore.delete_collection()\n",
    "    return llm(prompt)\n"
   ]
  },
  {
   "cell_type": "code",
   "execution_count": 77,
   "id": "df52b6de-8d30-4e80-86ba-a990799c028d",
   "metadata": {},
   "outputs": [
    {
     "name": "stdout",
     "output_type": "stream",
     "text": [
      "calculating ant\n"
     ]
    },
    {
     "name": "stderr",
     "output_type": "stream",
     "text": [
      "/home/harpo/miniconda3/envs/fastchat/lib/python3.10/site-packages/transformers/pipelines/base.py:1101: UserWarning: You seem to be using the pipelines sequentially on GPU. In order to maximize efficiency please use a dataset\n",
      "  warnings.warn(\n"
     ]
    },
    {
     "name": "stdout",
     "output_type": "stream",
     "text": [
      "calculating 1\n"
     ]
    },
    {
     "name": "stderr",
     "output_type": "stream",
     "text": [
      "/home/harpo/miniconda3/envs/fastchat/lib/python3.10/site-packages/transformers/pipelines/base.py:1101: UserWarning: You seem to be using the pipelines sequentially on GPU. In order to maximize efficiency please use a dataset\n",
      "  warnings.warn(\n"
     ]
    },
    {
     "name": "stdout",
     "output_type": "stream",
     "text": [
      "calculating 2\n"
     ]
    },
    {
     "name": "stderr",
     "output_type": "stream",
     "text": [
      "/home/harpo/miniconda3/envs/fastchat/lib/python3.10/site-packages/transformers/pipelines/base.py:1101: UserWarning: You seem to be using the pipelines sequentially on GPU. In order to maximize efficiency please use a dataset\n",
      "  warnings.warn(\n"
     ]
    },
    {
     "name": "stdout",
     "output_type": "stream",
     "text": [
      "calculating 3\n"
     ]
    },
    {
     "name": "stderr",
     "output_type": "stream",
     "text": [
      "/home/harpo/miniconda3/envs/fastchat/lib/python3.10/site-packages/transformers/pipelines/base.py:1101: UserWarning: You seem to be using the pipelines sequentially on GPU. In order to maximize efficiency please use a dataset\n",
      "  warnings.warn(\n"
     ]
    },
    {
     "name": "stdout",
     "output_type": "stream",
     "text": [
      "calculating res\n"
     ]
    },
    {
     "name": "stderr",
     "output_type": "stream",
     "text": [
      "/home/harpo/miniconda3/envs/fastchat/lib/python3.10/site-packages/transformers/pipelines/base.py:1101: UserWarning: You seem to be using the pipelines sequentially on GPU. In order to maximize efficiency please use a dataset\n",
      "  warnings.warn(\n"
     ]
    },
    {
     "name": "stdout",
     "output_type": "stream",
     "text": [
      "calculating prompt\n"
     ]
    },
    {
     "name": "stderr",
     "output_type": "stream",
     "text": [
      "/home/harpo/miniconda3/envs/fastchat/lib/python3.10/site-packages/transformers/pipelines/base.py:1101: UserWarning: You seem to be using the pipelines sequentially on GPU. In order to maximize efficiency please use a dataset\n",
      "  warnings.warn(\n"
     ]
    }
   ],
   "source": [
    "file_name = \"/home/harpo/git-repos/JurisGPT/rawdata/laboral/sumarios/fallos/10000003368.pdf\"\n",
    "summary = create_summary_es(file_name, embedding = embedding, llm = llm)"
   ]
  },
  {
   "cell_type": "code",
   "execution_count": 78,
   "id": "f54b246d-d660-4b62-8ee0-4ed893eee16e",
   "metadata": {},
   "outputs": [
    {
     "name": "stdout",
     "output_type": "stream",
     "text": [
      "\n",
      "    <s>[INST]<<SYS>>\n",
      "    Think after answer. Your answer should be in spanish. Not in english.\n",
      "    <</SYS>>\n",
      "    Eres un oficial perito de la corte suprema de Mendoza en Argentina. A partir del siguiente resumen de una sentencia de la corte :\n",
      "\n",
      "```\n",
      "\n",
      "\n",
      "La sección \"Antecedes\" de la sentencia se refiere a la adherencia de las provincías de Mendozas a la normativad Nacional sobre RIESGOS del Traballo, mediante la sancción de la leyes provinciales 9,016 y 9 01 7. La Corte SupreMA de Justicias de MENDOZA reconoce la delegada a la administración nacional de las competecias necesarias a cumplir con el procedimiento obligatorio previsto por la normada, pero sin afectar la autonomia provincial en aquellas materias no delegables. Además, invita al resto de provincianos y a Buenos Aires para adherirse a dicha Normativa.\n",
      "\n",
      "\n",
      "La sección \"Sobre las primeras cuestiones\" de la sentencia se refiere a la validez constitucionales de la leyes provinciales que establecen la adscripción de la provincia de Mendozo a las normas nacionales sobre riesgos laborales, y la delegada de las facultades normativas a la administración nacional. La Corte SupreMA de MENDOZA reconoce la validesca constituciona de la adherencia provincial a las leyes nacionales, pero reitera la incompatibilidad de la delegacio de las normativas con las facltades no delegables del Poder Provincial.\n",
      "\n",
      "\n",
      "La sección \"Sobre las segunda cuestión\" de la sentencia se refiere a la validez constitucionales del artículo 1 de la leyes 9,016, que dispone la adscripción de la provincia de Mendoz a las normas contenidas del Títulos I de ley 26,748, y la delega de las facultades necesarias a la administración nacional para dar cumpliimiento a los articulos 3 del mismo. La corte sostiene que el artículo es constiticional y convenional, y que la delegada de las normativas no delegables a la nación, se encuentra en el ámbito de la adminisración local. Sin embargo, la sentenza también reconoce la existencia de planteamientos disímples en la corte, y se reitera la necesaria claridad en el marco jurídico para otorgancer igualdades de tratos a los justiciables que recurren ante el poder judicial.\n",
      "\n",
      " \n",
      "En la sección \"Sobre tercera pregunta\" de la sentencia, se analiza el marco jurídico general y la normativa específicamente en cuestión, es decir, la Ley 9,018 de Mendozia, que establece la adscripción de la provincia a la normativad Nacional sobre RIESGOS del TRABAJO, y la Ley N°27,349, que es la complementaria de dicha ley, y que estableció la obligatoriedad de la inscripción en el Registro Provincial de Trabajadores Autónomos (RPTA) para aquellos trabajadores que trabajan en empresas que no estén obligadas a contar con un Registro de Trabaladores Autonomos (RTAs). Además, se discute la relación entre la normative provincial y la federal, y cómo se establece el marcos de actuación para los tribunales.\n",
      "\n",
      " \n",
      "En la sección \"Resuelva\" de la sentencia, el tribunal determina que la cadúcidad de la leyenumera 26.573, no implica la extinción de los derechos de las partes, sino que se limita a la perdería de los efectos procesales de la misma. Además, el artículo 2 de la LCT 23.594, no es aplicable a la leyes de riesgos, ya que éstas son \"leyes de fondos\" y no procesales. Por lo tanto, la cadencia de las mismas no impide la persecución de los deudores en los tribunales local..\n",
      "```\n",
      "\n",
      "Debes escribir un sumario en donde se expliquen las causas detras de la decision final de la sentencia. Escribir el sumario de la corte en no mas de 700 palabras.Favor de no mencionar NUNCA:\n",
      "1. Los nombres de las secciones como ser: primera cuestion, segunda cuestion o tercera cuestion.\n",
      "2. Los nombres de los casos.\n",
      "3. Los nombres de los ministros de la corte.\n",
      "4. Las fechas y la ubicacion de la corte.\n",
      "5. La palabra corte\n",
      "\n",
      "Cuando escribas el sumario tener en cuenta que este puede ayudar en futura jurisprudencia. En caso de disidencia indicar el nombre del  ministro de la corte. \n",
      "    Escribe tu respuesta en español y en no mas de 350 palabras:\n",
      "    [/INST]\n",
      "    \n"
     ]
    }
   ],
   "source": [
    "print(summary)\n"
   ]
  },
  {
   "cell_type": "code",
   "execution_count": 80,
   "id": "5e863596",
   "metadata": {},
   "outputs": [
    {
     "name": "stderr",
     "output_type": "stream",
     "text": [
      "/home/harpo/miniconda3/envs/fastchat/lib/python3.10/site-packages/transformers/pipelines/base.py:1101: UserWarning: You seem to be using the pipelines sequentially on GPU. In order to maximize efficiency please use a dataset\n",
      "  warnings.warn(\n"
     ]
    },
    {
     "name": "stdout",
     "output_type": "stream",
     "text": [
      " La sentencia analiza la adhesión de la Provincia de Mенdoza a la Normativa Nacional sobre riesgo del trabajo, mediante las leyas 9.017 y 27.348. La sección primera se refleja en la delegación de las competencias normativas al poder nacional, sin afetar la autodeterminación provincial en materia no delegable. La segunda sección se refieren a la constitucionalidad de las leys 9015 y 7,007, y su validecencia en el orden nacional. En la tercera sección, el marcro jurídica general y las normativa en cuestion son analizadas. Finalmente, la seccción \"Resuélle\" determina la caducidad de los artículos 2 y 3 de la Ley de Contrato de Trabaajadores (LCT) 24.557, no aplicables a las \"leyas de fondo\" como las de riesgo.\n",
      "En resumen, la decisión final de sentencia es que la Caducidad no impidió la perseverancia de los demandantes en los Tribunales Local.\n"
     ]
    }
   ],
   "source": [
    "res =llm(summary)\n",
    "print(res)"
   ]
  },
  {
   "cell_type": "code",
   "execution_count": null,
   "id": "e67174b2-12f0-45c3-8bcf-b78c21cd2600",
   "metadata": {},
   "outputs": [],
   "source": [
    "output_directory_path = \"/root/JurisGPT/data/laboral/qa/\"  \n",
    "name, extension = os.path.splitext(os.path.basename(file_name))\n",
    "summary_filename = f\"{name}_summary.txt\"\n",
    "summary_file_path = os.path.join(output_directory_path, summary_filename)\n",
    "with open(summary_file_path, 'w') as f:\n",
    "    f.write(summary)\n"
   ]
  },
  {
   "cell_type": "markdown",
   "id": "2cd83f15-7ec3-4090-9add-b6ff97fba189",
   "metadata": {
    "tags": []
   },
   "source": [
    "## Create summary from dir"
   ]
  },
  {
   "cell_type": "code",
   "execution_count": null,
   "id": "dc34f7a1-2175-49d9-9b96-9201854e7f9a",
   "metadata": {},
   "outputs": [],
   "source": [
    "def create_summary_from_dir(directory_path, output_directory_path, embedding, llm):\n",
    "    import time\n",
    "    # Loop through each file in the directory\n",
    "    for filename in os.listdir(directory_path):\n",
    "        # Extract the file extension\n",
    "        name, extension = os.path.splitext(filename)\n",
    "        \n",
    "        # Build the full file path\n",
    "        file_path = os.path.join(directory_path, filename)\n",
    "        \n",
    "        # Skip directories, only work on PDF files\n",
    "        if os.path.isfile(file_path) and extension.lower() == '.pdf':\n",
    "            print(f'working on {file_path}')\n",
    "            # Generate summary\n",
    "            start_time = time.time()\n",
    "            summary = create_summary_es(file_path, embedding, llm)\n",
    "            stop_time = time.time()\n",
    "            \n",
    "            # Save summary to new file\n",
    "            summary_filename = f\"{name}_summary.txt\"\n",
    "            summary_file_path = os.path.join(output_directory_path, summary_filename)\n",
    "            \n",
    "            with open(summary_file_path, 'w') as f:\n",
    "                f.write(summary)\n",
    "            print(f'created {summary_file_path} in {stop_time - start_time} seconds')\n"
   ]
  },
  {
   "cell_type": "markdown",
   "id": "144ad149-3151-4150-ae62-8d6c7775a64c",
   "metadata": {},
   "source": [
    "## Calculate ROUGE metric"
   ]
  },
  {
   "cell_type": "code",
   "execution_count": null,
   "id": "0a6b05f1-88a3-492d-9b42-ecb281871b03",
   "metadata": {},
   "outputs": [],
   "source": [
    "import os\n",
    "import re\n",
    "from rouge import Rouge\n",
    "\n",
    "def calculate_rouge(system_dir, model_dir, system_filename_pattern, model_filename_pattern):\n",
    "    # Initialize Rouge\n",
    "    rouge = Rouge()\n",
    "    \n",
    "    # Compile the regular expressions for filename patterns\n",
    "    system_re = re.compile(system_filename_pattern)\n",
    "    model_re = re.compile(model_filename_pattern)\n",
    "    \n",
    "    # Initialize storage for scores\n",
    "    all_scores = []\n",
    "\n",
    "    # Loop through the files in the system summaries directory\n",
    "    for system_filename in os.listdir(system_dir):\n",
    "        match = system_re.match(system_filename)\n",
    "        if not match:\n",
    "            continue\n",
    "\n",
    "        # Extract ID\n",
    "        system_id = match.groups()[0]\n",
    "\n",
    "        # Find the corresponding model summary file using ID\n",
    "        model_filename = f\"{system_id}_summary.txt\"\n",
    "        model_path = os.path.join(model_dir, model_filename)\n",
    "\n",
    "        # Check if model summary exists\n",
    "        if not os.path.exists(model_path):\n",
    "            print(f\"Model summary for {system_id} not found. Attempted to open {model_path}\")\n",
    "            continue\n",
    "\n",
    "        \n",
    "\n",
    "        # Check if model summary exists\n",
    "        if not os.path.exists(model_path):\n",
    "            print(f\"Model summary for {system_id} not found.\")\n",
    "            continue\n",
    "\n",
    "        # Read system and model summaries\n",
    "        with open(os.path.join(system_dir, system_filename), 'r', encoding='utf-8') as f:\n",
    "            system_summary = f.read().strip()\n",
    "            system_summary = re.sub('<.*?>', '', system_summary)\n",
    "            #print(system_summary)\n",
    "        \n",
    "        with open(model_path, 'r', encoding='utf-8') as f:\n",
    "            model_summary = f.read().strip()\n",
    "    \n",
    "        # Compute the ROUGE score\n",
    "        score = rouge.get_scores(system_summary, model_summary)[0]\n",
    "        #all_scores.append(score)\n",
    "        all_scores.append({\n",
    "            'system_id': system_id,\n",
    "            'rouge-1': score['rouge-1'],\n",
    "            'rouge-2': score['rouge-2'],\n",
    "            'rouge-l': score.get('rouge-l', {})  # Add this line to include ROUGE-L\n",
    "        })\n",
    "        # Compute the ROUGE score\n",
    "\n",
    "\n",
    "        # Extract ROUGE-1, ROUGE-2, and ROUGE-3 scores\n",
    "        #rouge_1 = score.get('rouge-1', {})\n",
    "        #rouge_2 = score.get('rouge-2', {})\n",
    "       \n",
    "        # Pretty-print scores\n",
    "        #print(f\"ROUGE scores for ID {system_id}:\")\n",
    "        #print(f\"  ROUGE-1: R: {rouge_1.get('r', 'N/A'):.4f}, P: {rouge_1.get('p', 'N/A'):.4f}, F: {rouge_1.get('f', 'N/A'):.4f}\")\n",
    "        #print(f\"  ROUGE-2: R: {rouge_2.get('r', 'N/A'):.4f}, P: {rouge_2.get('p', 'N/A'):.4f}, F: {rouge_2.get('f', 'N/A'):.4f}\")\n",
    "      \n",
    "        \n",
    "        #print(f\"ROUGE score for ID {system_id}: {score}\")\n",
    "\n",
    "    # If you want average scores, you can calculate that here from all_scores.\n",
    "    # ...\n",
    "\n",
    "    return all_scores\n"
   ]
  },
  {
   "cell_type": "markdown",
   "id": "997c8cab-e957-437d-9452-ca0ef1d612e2",
   "metadata": {},
   "source": [
    "## Print ROUGE TABLE"
   ]
  },
  {
   "cell_type": "code",
   "execution_count": null,
   "id": "76070bc1-1dae-4c0c-b3d3-6b406ba10256",
   "metadata": {},
   "outputs": [],
   "source": [
    "import pandas as pd  # Don't forget to import pandas\n",
    "\n",
    "def print_rouge_table(all_scores):\n",
    "    pd.set_option('display.max_rows', None)\n",
    "    \n",
    "    system_ids = []\n",
    "    metrics = []\n",
    "    rs = []\n",
    "    ps = []\n",
    "    fs = []\n",
    "\n",
    "    # Loop through each dictionary to extract the values\n",
    "    for score_dict in all_scores:\n",
    "        system_id = score_dict['system_id']\n",
    "\n",
    "        for metric, values in score_dict.items():\n",
    "            if metric == 'system_id':\n",
    "                continue  # Skip the system_id, we've already saved it\n",
    "\n",
    "            system_ids.append(system_id)\n",
    "            metrics.append(metric)\n",
    "            rs.append(values['r'])\n",
    "            ps.append(values['p'])\n",
    "            fs.append(values['f'])\n",
    "\n",
    "    # Create the DataFrame\n",
    "    df_long = pd.DataFrame({\n",
    "        'system_id': system_ids,\n",
    "        'metric': metrics,\n",
    "        'r': rs,\n",
    "        'p': ps,\n",
    "        'f': fs\n",
    "    })\n",
    "\n",
    "    return df_long"
   ]
  },
  {
   "cell_type": "markdown",
   "id": "dd7a2c51-b6ee-4405-97ee-5281a277e656",
   "metadata": {
    "tags": []
   },
   "source": [
    "# UTILS"
   ]
  },
  {
   "cell_type": "markdown",
   "id": "e885c0c4-31c9-40d4-9387-ac5c353121e9",
   "metadata": {
    "tags": []
   },
   "source": [
    "## Stop LLAMA Jumpstart endpoint"
   ]
  },
  {
   "cell_type": "code",
   "execution_count": null,
   "id": "9d34763d-9ee2-4da5-b82e-a94cf0d3b8e1",
   "metadata": {},
   "outputs": [
    {
     "data": {
      "text/plain": [
       "{'ResponseMetadata': {'RequestId': '20e5edef-28fd-468b-88fe-55576bab46ee',\n",
       "  'HTTPStatusCode': 200,\n",
       "  'HTTPHeaders': {'x-amzn-requestid': '20e5edef-28fd-468b-88fe-55576bab46ee',\n",
       "   'content-type': 'application/x-amz-json-1.1',\n",
       "   'content-length': '0',\n",
       "   'date': 'Sun, 03 Sep 2023 01:44:53 GMT'},\n",
       "  'RetryAttempts': 0}}"
      ]
     },
     "execution_count": 120,
     "metadata": {},
     "output_type": "execute_result"
    }
   ],
   "source": [
    "import boto3\n",
    "\n",
    "aws_region = boto3.Session().region_name\n",
    "endpoint_name = \"jumpstart-dft-meta-textgeneration-llama-2-13b-f\"\n",
    "\n",
    "# Create a low-level SageMaker service client.\n",
    "sagemaker_client = boto3.client('sagemaker', region_name=aws_region)\n",
    "\n",
    "# Delete endpoint\n",
    "sagemaker_client.delete_endpoint(EndpointName=endpoint_name)"
   ]
  },
  {
   "cell_type": "markdown",
   "id": "348d7eba-5a67-4237-b63b-3b4bbcddb7c1",
   "metadata": {},
   "source": [
    "# MAIN"
   ]
  },
  {
   "cell_type": "markdown",
   "id": "3ec2b1f3-2465-43cb-82b0-c1707d7a1e9b",
   "metadata": {},
   "source": [
    "## Create Summaries"
   ]
  },
  {
   "cell_type": "code",
   "execution_count": null,
   "id": "0ebef33f-f5c4-4023-8ddb-724fd77bf462",
   "metadata": {},
   "outputs": [
    {
     "name": "stdout",
     "output_type": "stream",
     "text": [
      "working on /root/JurisGPT/rawdata/laboral/10000003220.pdf\n",
      "calculating ant\n",
      "calculating 1\n",
      "calculating 2\n",
      "calculating 3\n",
      "calculating res\n",
      "calculating prompt\n",
      "created /root/JurisGPT/data/laboral/qa/10000003220_summary.txt in 52.93086791038513 seconds\n",
      "working on /root/JurisGPT/rawdata/laboral/10000003219.pdf\n",
      "calculating ant\n",
      "calculating 1\n",
      "calculating 2\n",
      "calculating 3\n",
      "calculating res\n",
      "calculating prompt\n",
      "created /root/JurisGPT/data/laboral/qa/10000003219_summary.txt in 66.93007588386536 seconds\n",
      "working on /root/JurisGPT/rawdata/laboral/10000003275.pdf\n",
      "calculating ant\n",
      "calculating 1\n",
      "calculating 2\n",
      "calculating 3\n",
      "calculating res\n",
      "calculating prompt\n",
      "created /root/JurisGPT/data/laboral/qa/10000003275_summary.txt in 68.05711078643799 seconds\n",
      "working on /root/JurisGPT/rawdata/laboral/10000003307.pdf\n",
      "calculating ant\n",
      "calculating 1\n",
      "calculating 2\n",
      "calculating 3\n",
      "calculating res\n",
      "calculating prompt\n",
      "created /root/JurisGPT/data/laboral/qa/10000003307_summary.txt in 70.96445655822754 seconds\n",
      "working on /root/JurisGPT/rawdata/laboral/10000003221.pdf\n",
      "calculating ant\n",
      "calculating 1\n",
      "calculating 2\n",
      "calculating 3\n",
      "calculating res\n",
      "calculating prompt\n",
      "created /root/JurisGPT/data/laboral/qa/10000003221_summary.txt in 60.010295391082764 seconds\n",
      "working on /root/JurisGPT/rawdata/laboral/10000003292.pdf\n",
      "calculating ant\n",
      "calculating 1\n",
      "calculating 2\n",
      "calculating 3\n",
      "calculating res\n",
      "calculating prompt\n",
      "created /root/JurisGPT/data/laboral/qa/10000003292_summary.txt in 67.76415061950684 seconds\n",
      "working on /root/JurisGPT/rawdata/laboral/10000003247.pdf\n",
      "calculating ant\n",
      "calculating 1\n",
      "calculating 2\n",
      "calculating 3\n",
      "calculating res\n",
      "calculating prompt\n",
      "created /root/JurisGPT/data/laboral/qa/10000003247_summary.txt in 66.35892963409424 seconds\n",
      "working on /root/JurisGPT/rawdata/laboral/10000003368.pdf\n",
      "calculating ant\n",
      "calculating 1\n",
      "calculating 2\n",
      "calculating 3\n",
      "calculating res\n",
      "calculating prompt\n",
      "created /root/JurisGPT/data/laboral/qa/10000003368_summary.txt in 91.6687524318695 seconds\n",
      "working on /root/JurisGPT/rawdata/laboral/10000003258.pdf\n",
      "calculating ant\n",
      "calculating 1\n",
      "calculating 2\n",
      "calculating 3\n",
      "calculating res\n",
      "calculating prompt\n",
      "created /root/JurisGPT/data/laboral/qa/10000003258_summary.txt in 60.92667841911316 seconds\n",
      "working on /root/JurisGPT/rawdata/laboral/10000003300.pdf\n",
      "calculating ant\n",
      "calculating 1\n",
      "calculating 2\n",
      "calculating 3\n",
      "calculating res\n",
      "calculating prompt\n",
      "created /root/JurisGPT/data/laboral/qa/10000003300_summary.txt in 66.34078788757324 seconds\n"
     ]
    }
   ],
   "source": [
    "directory_path = \"/root/JurisGPT/rawdata/laboral/\"  \n",
    "output_directory_path = \"/root/JurisGPT/data/laboral/qa/\"  \n",
    "create_summary_from_dir(directory_path, output_directory_path, embedding = embedding, llm = llm)"
   ]
  },
  {
   "cell_type": "markdown",
   "id": "730628bc-c6bc-4230-9f81-4613da758629",
   "metadata": {
    "tags": []
   },
   "source": [
    "## Calculate ROUGE"
   ]
  },
  {
   "cell_type": "markdown",
   "id": "af048859-a98c-451b-87e1-5afde5b17528",
   "metadata": {},
   "source": [
    "The ROUGE-1 metric is a type of Recall-Oriented Understudy for Gisting Evaluation (ROUGE) score that is commonly used for evaluating the quality of summaries by comparing them to reference summaries. Specifically, ROUGE-1 measures the overlap of unigrams (single words) between the generated summary and the reference summary.\n",
    "\n",
    "The ROUGE-1 score comprises three values:\n",
    "\n",
    "1. **Precision (P)**: This measures the number of overlapping unigrams found in both the generated summary and the reference summary, divided by the total number of unigrams in the generated summary. In essence, precision answers the question: \"Of all the unigrams in the generated summary, how many are in the reference summary?\"\n",
    "   \\[\n",
    "   \\text{Precision} = \\frac{\\text{Number of overlapping unigrams}}{\\text{Total number of unigrams in generated summary}}\n",
    "   \\]\n",
    "\n",
    "2. **Recall (R)**: This measures the number of overlapping unigrams found in both the generated summary and the reference summary, divided by the total number of unigrams in the reference summary. Recall answers the question: \"Of all the unigrams in the reference summary, how many are in the generated summary?\"\n",
    "   \\[\n",
    "   \\text{Recall} = \\frac{\\text{Number of overlapping unigrams}}{\\text{Total number of unigrams in reference summary}}\n",
    "   \\]\n",
    "\n",
    "3. **F1 Score (F)**: This is the harmonic mean of precision and recall and serves as a single number that balances the trade-off between precision and recall.\n",
    "   \\[\n",
    "   \\text{F1 Score} = \\frac{2 \\times \\text{Precision} \\times \\text{Recall}}{\\text{Precision} + \\text{Recall}}\n",
    "   \\]\n",
    "\n",
    "ROUGE-1 is particularly useful for assessing the quality of extractive summaries, where sentences or phrases are selected from the original text to form a summary. The metric can also be used for abstractive summaries but may not capture the quality of the summary as effectively as when combined with other ROUGE metrics like ROUGE-2 (bigram overlap) or ROUGE-L (longest common subsequence)."
   ]
  },
  {
   "cell_type": "markdown",
   "id": "c00213ec-362d-4965-a2f0-a4a0a5fecec9",
   "metadata": {},
   "source": [
    "# 7B Results"
   ]
  },
  {
   "cell_type": "code",
   "execution_count": null,
   "id": "0eacb802-e06e-475d-83e5-cb27047f2f79",
   "metadata": {},
   "outputs": [],
   "source": [
    "# Paths and patterns\n",
    "system_dir = '/root/JurisGPT/rawdata/laboral/sumarios/'\n",
    "model_dir = '/root/JurisGPT/data/laboral/qa/7b/'\n",
    "system_filename_pattern = r'(\\d+)\\.txt'\n",
    "model_filename_pattern = r'(\\d+)_summary\\.txt'\n",
    "# Calculate ROUGE\n",
    "all_scores = calculate_rouge(system_dir, model_dir, system_filename_pattern, model_filename_pattern)"
   ]
  },
  {
   "cell_type": "code",
   "execution_count": null,
   "id": "ba758a49-02f3-4248-aa96-d6a79b44f309",
   "metadata": {},
   "outputs": [
    {
     "data": {
      "text/html": [
       "<div>\n",
       "<style scoped>\n",
       "    .dataframe tbody tr th:only-of-type {\n",
       "        vertical-align: middle;\n",
       "    }\n",
       "\n",
       "    .dataframe tbody tr th {\n",
       "        vertical-align: top;\n",
       "    }\n",
       "\n",
       "    .dataframe thead th {\n",
       "        text-align: right;\n",
       "    }\n",
       "</style>\n",
       "<table border=\"1\" class=\"dataframe\">\n",
       "  <thead>\n",
       "    <tr style=\"text-align: right;\">\n",
       "      <th></th>\n",
       "      <th>system_id</th>\n",
       "      <th>metric</th>\n",
       "      <th>r</th>\n",
       "      <th>p</th>\n",
       "      <th>f</th>\n",
       "    </tr>\n",
       "  </thead>\n",
       "  <tbody>\n",
       "    <tr>\n",
       "      <th>0</th>\n",
       "      <td>10000003275</td>\n",
       "      <td>rouge-1</td>\n",
       "      <td>0.245455</td>\n",
       "      <td>0.221311</td>\n",
       "      <td>0.232759</td>\n",
       "    </tr>\n",
       "    <tr>\n",
       "      <th>3</th>\n",
       "      <td>10000003307</td>\n",
       "      <td>rouge-1</td>\n",
       "      <td>0.319277</td>\n",
       "      <td>0.162577</td>\n",
       "      <td>0.215447</td>\n",
       "    </tr>\n",
       "    <tr>\n",
       "      <th>6</th>\n",
       "      <td>10000003220</td>\n",
       "      <td>rouge-1</td>\n",
       "      <td>0.179856</td>\n",
       "      <td>0.193798</td>\n",
       "      <td>0.186567</td>\n",
       "    </tr>\n",
       "    <tr>\n",
       "      <th>9</th>\n",
       "      <td>10000003219</td>\n",
       "      <td>rouge-1</td>\n",
       "      <td>0.276730</td>\n",
       "      <td>0.129412</td>\n",
       "      <td>0.176353</td>\n",
       "    </tr>\n",
       "    <tr>\n",
       "      <th>12</th>\n",
       "      <td>10000003258</td>\n",
       "      <td>rouge-1</td>\n",
       "      <td>0.327381</td>\n",
       "      <td>0.211538</td>\n",
       "      <td>0.257009</td>\n",
       "    </tr>\n",
       "    <tr>\n",
       "      <th>15</th>\n",
       "      <td>10000003300</td>\n",
       "      <td>rouge-1</td>\n",
       "      <td>0.322404</td>\n",
       "      <td>0.243802</td>\n",
       "      <td>0.277647</td>\n",
       "    </tr>\n",
       "    <tr>\n",
       "      <th>18</th>\n",
       "      <td>10000003368</td>\n",
       "      <td>rouge-1</td>\n",
       "      <td>0.227027</td>\n",
       "      <td>0.214286</td>\n",
       "      <td>0.220472</td>\n",
       "    </tr>\n",
       "    <tr>\n",
       "      <th>21</th>\n",
       "      <td>10000003221</td>\n",
       "      <td>rouge-1</td>\n",
       "      <td>0.349315</td>\n",
       "      <td>0.262887</td>\n",
       "      <td>0.300000</td>\n",
       "    </tr>\n",
       "    <tr>\n",
       "      <th>24</th>\n",
       "      <td>10000003292</td>\n",
       "      <td>rouge-1</td>\n",
       "      <td>0.229665</td>\n",
       "      <td>0.149533</td>\n",
       "      <td>0.181132</td>\n",
       "    </tr>\n",
       "    <tr>\n",
       "      <th>27</th>\n",
       "      <td>10000003247</td>\n",
       "      <td>rouge-1</td>\n",
       "      <td>0.262195</td>\n",
       "      <td>0.210784</td>\n",
       "      <td>0.233696</td>\n",
       "    </tr>\n",
       "  </tbody>\n",
       "</table>\n",
       "</div>"
      ],
      "text/plain": [
       "      system_id   metric         r         p         f\n",
       "0   10000003275  rouge-1  0.245455  0.221311  0.232759\n",
       "3   10000003307  rouge-1  0.319277  0.162577  0.215447\n",
       "6   10000003220  rouge-1  0.179856  0.193798  0.186567\n",
       "9   10000003219  rouge-1  0.276730  0.129412  0.176353\n",
       "12  10000003258  rouge-1  0.327381  0.211538  0.257009\n",
       "15  10000003300  rouge-1  0.322404  0.243802  0.277647\n",
       "18  10000003368  rouge-1  0.227027  0.214286  0.220472\n",
       "21  10000003221  rouge-1  0.349315  0.262887  0.300000\n",
       "24  10000003292  rouge-1  0.229665  0.149533  0.181132\n",
       "27  10000003247  rouge-1  0.262195  0.210784  0.233696"
      ]
     },
     "execution_count": 114,
     "metadata": {},
     "output_type": "execute_result"
    }
   ],
   "source": [
    "rouge_table = print_rouge_table(all_scores)\n",
    "rouge_table.query(\"metric == 'rouge-1'\")"
   ]
  },
  {
   "cell_type": "code",
   "execution_count": null,
   "id": "39ae4dec-42ee-410c-9dd4-3b6f9d3cb12b",
   "metadata": {},
   "outputs": [
    {
     "data": {
      "text/plain": [
       "(0.27393049419520055, 0.05468252084765027)"
      ]
     },
     "execution_count": 115,
     "metadata": {},
     "output_type": "execute_result"
    }
   ],
   "source": [
    "(rouge_table.query(\"metric == 'rouge-1'\")['r'].mean(),\n",
    "rouge_table.query(\"metric == 'rouge-1'\")['r'].std())"
   ]
  },
  {
   "cell_type": "markdown",
   "id": "f81738e0-37ce-4014-ad16-85638e9e502b",
   "metadata": {},
   "source": [
    "# 13B results"
   ]
  },
  {
   "cell_type": "code",
   "execution_count": null,
   "id": "10f197ee-c526-4d7b-bbb2-b7d7ef7e0ee3",
   "metadata": {},
   "outputs": [],
   "source": [
    "# Paths and patterns\n",
    "system_dir = '/root/JurisGPT/rawdata/laboral/sumarios/'\n",
    "model_dir = '/root/JurisGPT/data/laboral/qa/13b/'\n",
    "system_filename_pattern = r'(\\d+)\\.txt'\n",
    "model_filename_pattern = r'(\\d+)_summary\\.txt'\n",
    "# Calculate ROUGE\n",
    "all_scores = calculate_rouge(system_dir, model_dir, system_filename_pattern, model_filename_pattern)"
   ]
  },
  {
   "cell_type": "code",
   "execution_count": null,
   "id": "729b75f4-f39b-4ee4-bdac-d8eb2da01ed2",
   "metadata": {},
   "outputs": [
    {
     "data": {
      "text/html": [
       "<div>\n",
       "<style scoped>\n",
       "    .dataframe tbody tr th:only-of-type {\n",
       "        vertical-align: middle;\n",
       "    }\n",
       "\n",
       "    .dataframe tbody tr th {\n",
       "        vertical-align: top;\n",
       "    }\n",
       "\n",
       "    .dataframe thead th {\n",
       "        text-align: right;\n",
       "    }\n",
       "</style>\n",
       "<table border=\"1\" class=\"dataframe\">\n",
       "  <thead>\n",
       "    <tr style=\"text-align: right;\">\n",
       "      <th></th>\n",
       "      <th>system_id</th>\n",
       "      <th>metric</th>\n",
       "      <th>r</th>\n",
       "      <th>p</th>\n",
       "      <th>f</th>\n",
       "    </tr>\n",
       "  </thead>\n",
       "  <tbody>\n",
       "    <tr>\n",
       "      <th>0</th>\n",
       "      <td>10000003275</td>\n",
       "      <td>rouge-1</td>\n",
       "      <td>0.283688</td>\n",
       "      <td>0.163934</td>\n",
       "      <td>0.207792</td>\n",
       "    </tr>\n",
       "    <tr>\n",
       "      <th>3</th>\n",
       "      <td>10000003307</td>\n",
       "      <td>rouge-1</td>\n",
       "      <td>0.352459</td>\n",
       "      <td>0.131902</td>\n",
       "      <td>0.191964</td>\n",
       "    </tr>\n",
       "    <tr>\n",
       "      <th>6</th>\n",
       "      <td>10000003220</td>\n",
       "      <td>rouge-1</td>\n",
       "      <td>0.141935</td>\n",
       "      <td>0.170543</td>\n",
       "      <td>0.154930</td>\n",
       "    </tr>\n",
       "    <tr>\n",
       "      <th>9</th>\n",
       "      <td>10000003219</td>\n",
       "      <td>rouge-1</td>\n",
       "      <td>0.314050</td>\n",
       "      <td>0.111765</td>\n",
       "      <td>0.164859</td>\n",
       "    </tr>\n",
       "    <tr>\n",
       "      <th>12</th>\n",
       "      <td>10000003258</td>\n",
       "      <td>rouge-1</td>\n",
       "      <td>0.281879</td>\n",
       "      <td>0.161538</td>\n",
       "      <td>0.205379</td>\n",
       "    </tr>\n",
       "    <tr>\n",
       "      <th>15</th>\n",
       "      <td>10000003300</td>\n",
       "      <td>rouge-1</td>\n",
       "      <td>0.379032</td>\n",
       "      <td>0.194215</td>\n",
       "      <td>0.256831</td>\n",
       "    </tr>\n",
       "    <tr>\n",
       "      <th>18</th>\n",
       "      <td>10000003368</td>\n",
       "      <td>rouge-1</td>\n",
       "      <td>0.230216</td>\n",
       "      <td>0.163265</td>\n",
       "      <td>0.191045</td>\n",
       "    </tr>\n",
       "    <tr>\n",
       "      <th>21</th>\n",
       "      <td>10000003221</td>\n",
       "      <td>rouge-1</td>\n",
       "      <td>0.315789</td>\n",
       "      <td>0.247423</td>\n",
       "      <td>0.277457</td>\n",
       "    </tr>\n",
       "    <tr>\n",
       "      <th>24</th>\n",
       "      <td>10000003292</td>\n",
       "      <td>rouge-1</td>\n",
       "      <td>0.299320</td>\n",
       "      <td>0.137072</td>\n",
       "      <td>0.188034</td>\n",
       "    </tr>\n",
       "    <tr>\n",
       "      <th>27</th>\n",
       "      <td>10000003247</td>\n",
       "      <td>rouge-1</td>\n",
       "      <td>0.286765</td>\n",
       "      <td>0.191176</td>\n",
       "      <td>0.229412</td>\n",
       "    </tr>\n",
       "  </tbody>\n",
       "</table>\n",
       "</div>"
      ],
      "text/plain": [
       "      system_id   metric         r         p         f\n",
       "0   10000003275  rouge-1  0.283688  0.163934  0.207792\n",
       "3   10000003307  rouge-1  0.352459  0.131902  0.191964\n",
       "6   10000003220  rouge-1  0.141935  0.170543  0.154930\n",
       "9   10000003219  rouge-1  0.314050  0.111765  0.164859\n",
       "12  10000003258  rouge-1  0.281879  0.161538  0.205379\n",
       "15  10000003300  rouge-1  0.379032  0.194215  0.256831\n",
       "18  10000003368  rouge-1  0.230216  0.163265  0.191045\n",
       "21  10000003221  rouge-1  0.315789  0.247423  0.277457\n",
       "24  10000003292  rouge-1  0.299320  0.137072  0.188034\n",
       "27  10000003247  rouge-1  0.286765  0.191176  0.229412"
      ]
     },
     "execution_count": 105,
     "metadata": {},
     "output_type": "execute_result"
    }
   ],
   "source": [
    "rouge_table = print_rouge_table(all_scores)\n",
    "rouge_table.query(\"metric == 'rouge-1'\")"
   ]
  },
  {
   "cell_type": "code",
   "execution_count": null,
   "id": "b720c08e-7c66-4cb6-853d-a47648a29fdc",
   "metadata": {},
   "outputs": [
    {
     "data": {
      "text/plain": [
       "(0.2885133217794919, 0.06561640326263223)"
      ]
     },
     "execution_count": 111,
     "metadata": {},
     "output_type": "execute_result"
    }
   ],
   "source": [
    "(rouge_table.query(\"metric == 'rouge-1'\")['r'].mean(),\n",
    "rouge_table.query(\"metric == 'rouge-1'\")['r'].std())"
   ]
  },
  {
   "cell_type": "markdown",
   "id": "2ef9412b-8697-45d1-a9dd-dc4426c9e25a",
   "metadata": {},
   "source": [
    "# 70B results"
   ]
  },
  {
   "cell_type": "code",
   "execution_count": null,
   "id": "b195a30b-25c2-43b6-ad46-2334193292dc",
   "metadata": {},
   "outputs": [],
   "source": [
    "# Paths and patterns\n",
    "system_dir = '/root/JurisGPT/rawdata/laboral/sumarios/'\n",
    "model_dir = '/root/JurisGPT/data/laboral/qa/70b/'\n",
    "system_filename_pattern = r'(\\d+)\\.txt'\n",
    "model_filename_pattern = r'(\\d+)_summary\\.txt'\n",
    "# Calculate ROUGE\n",
    "all_scores = calculate_rouge(system_dir, model_dir, system_filename_pattern, model_filename_pattern)"
   ]
  },
  {
   "cell_type": "code",
   "execution_count": null,
   "id": "55b33da2-e8ff-4a8c-87bc-8b3e0d730a34",
   "metadata": {},
   "outputs": [
    {
     "data": {
      "text/html": [
       "<div>\n",
       "<style scoped>\n",
       "    .dataframe tbody tr th:only-of-type {\n",
       "        vertical-align: middle;\n",
       "    }\n",
       "\n",
       "    .dataframe tbody tr th {\n",
       "        vertical-align: top;\n",
       "    }\n",
       "\n",
       "    .dataframe thead th {\n",
       "        text-align: right;\n",
       "    }\n",
       "</style>\n",
       "<table border=\"1\" class=\"dataframe\">\n",
       "  <thead>\n",
       "    <tr style=\"text-align: right;\">\n",
       "      <th></th>\n",
       "      <th>system_id</th>\n",
       "      <th>metric</th>\n",
       "      <th>r</th>\n",
       "      <th>p</th>\n",
       "      <th>f</th>\n",
       "    </tr>\n",
       "  </thead>\n",
       "  <tbody>\n",
       "    <tr>\n",
       "      <th>0</th>\n",
       "      <td>10000003275</td>\n",
       "      <td>rouge-1</td>\n",
       "      <td>0.289773</td>\n",
       "      <td>0.209016</td>\n",
       "      <td>0.242857</td>\n",
       "    </tr>\n",
       "    <tr>\n",
       "      <th>3</th>\n",
       "      <td>10000003307</td>\n",
       "      <td>rouge-1</td>\n",
       "      <td>0.251366</td>\n",
       "      <td>0.141104</td>\n",
       "      <td>0.180747</td>\n",
       "    </tr>\n",
       "    <tr>\n",
       "      <th>6</th>\n",
       "      <td>10000003220</td>\n",
       "      <td>rouge-1</td>\n",
       "      <td>0.123529</td>\n",
       "      <td>0.162791</td>\n",
       "      <td>0.140468</td>\n",
       "    </tr>\n",
       "    <tr>\n",
       "      <th>9</th>\n",
       "      <td>10000003219</td>\n",
       "      <td>rouge-1</td>\n",
       "      <td>0.267176</td>\n",
       "      <td>0.102941</td>\n",
       "      <td>0.148620</td>\n",
       "    </tr>\n",
       "    <tr>\n",
       "      <th>12</th>\n",
       "      <td>10000003258</td>\n",
       "      <td>rouge-1</td>\n",
       "      <td>0.347222</td>\n",
       "      <td>0.192308</td>\n",
       "      <td>0.247525</td>\n",
       "    </tr>\n",
       "    <tr>\n",
       "      <th>15</th>\n",
       "      <td>10000003300</td>\n",
       "      <td>rouge-1</td>\n",
       "      <td>0.391892</td>\n",
       "      <td>0.239669</td>\n",
       "      <td>0.297436</td>\n",
       "    </tr>\n",
       "    <tr>\n",
       "      <th>18</th>\n",
       "      <td>10000003368</td>\n",
       "      <td>rouge-1</td>\n",
       "      <td>0.297521</td>\n",
       "      <td>0.183673</td>\n",
       "      <td>0.227129</td>\n",
       "    </tr>\n",
       "    <tr>\n",
       "      <th>21</th>\n",
       "      <td>10000003221</td>\n",
       "      <td>rouge-1</td>\n",
       "      <td>0.366013</td>\n",
       "      <td>0.288660</td>\n",
       "      <td>0.322767</td>\n",
       "    </tr>\n",
       "    <tr>\n",
       "      <th>24</th>\n",
       "      <td>10000003292</td>\n",
       "      <td>rouge-1</td>\n",
       "      <td>0.285714</td>\n",
       "      <td>0.143302</td>\n",
       "      <td>0.190871</td>\n",
       "    </tr>\n",
       "    <tr>\n",
       "      <th>27</th>\n",
       "      <td>10000003247</td>\n",
       "      <td>rouge-1</td>\n",
       "      <td>0.292857</td>\n",
       "      <td>0.200980</td>\n",
       "      <td>0.238372</td>\n",
       "    </tr>\n",
       "  </tbody>\n",
       "</table>\n",
       "</div>"
      ],
      "text/plain": [
       "      system_id   metric         r         p         f\n",
       "0   10000003275  rouge-1  0.289773  0.209016  0.242857\n",
       "3   10000003307  rouge-1  0.251366  0.141104  0.180747\n",
       "6   10000003220  rouge-1  0.123529  0.162791  0.140468\n",
       "9   10000003219  rouge-1  0.267176  0.102941  0.148620\n",
       "12  10000003258  rouge-1  0.347222  0.192308  0.247525\n",
       "15  10000003300  rouge-1  0.391892  0.239669  0.297436\n",
       "18  10000003368  rouge-1  0.297521  0.183673  0.227129\n",
       "21  10000003221  rouge-1  0.366013  0.288660  0.322767\n",
       "24  10000003292  rouge-1  0.285714  0.143302  0.190871\n",
       "27  10000003247  rouge-1  0.292857  0.200980  0.238372"
      ]
     },
     "execution_count": 73,
     "metadata": {},
     "output_type": "execute_result"
    }
   ],
   "source": [
    "rouge_table = print_rouge_table(all_scores)\n",
    "rouge_table.query(\"metric == 'rouge-1'\")"
   ]
  },
  {
   "cell_type": "code",
   "execution_count": null,
   "id": "b3fe75f0-5fea-4641-a917-af8c448b608c",
   "metadata": {},
   "outputs": [
    {
     "data": {
      "text/plain": [
       "(0.29130631075130886, 0.07395673921972185)"
      ]
     },
     "execution_count": 74,
     "metadata": {},
     "output_type": "execute_result"
    }
   ],
   "source": [
    "(rouge_table.query(\"metric == 'rouge-1'\")['r'].mean(),\n",
    "rouge_table.query(\"metric == 'rouge-1'\")['r'].std())"
   ]
  }
 ],
 "metadata": {
  "availableInstances": [
   {
    "_defaultOrder": 0,
    "_isFastLaunch": true,
    "category": "General purpose",
    "gpuNum": 0,
    "hideHardwareSpecs": false,
    "memoryGiB": 4,
    "name": "ml.t3.medium",
    "vcpuNum": 2
   },
   {
    "_defaultOrder": 1,
    "_isFastLaunch": false,
    "category": "General purpose",
    "gpuNum": 0,
    "hideHardwareSpecs": false,
    "memoryGiB": 8,
    "name": "ml.t3.large",
    "vcpuNum": 2
   },
   {
    "_defaultOrder": 2,
    "_isFastLaunch": false,
    "category": "General purpose",
    "gpuNum": 0,
    "hideHardwareSpecs": false,
    "memoryGiB": 16,
    "name": "ml.t3.xlarge",
    "vcpuNum": 4
   },
   {
    "_defaultOrder": 3,
    "_isFastLaunch": false,
    "category": "General purpose",
    "gpuNum": 0,
    "hideHardwareSpecs": false,
    "memoryGiB": 32,
    "name": "ml.t3.2xlarge",
    "vcpuNum": 8
   },
   {
    "_defaultOrder": 4,
    "_isFastLaunch": true,
    "category": "General purpose",
    "gpuNum": 0,
    "hideHardwareSpecs": false,
    "memoryGiB": 8,
    "name": "ml.m5.large",
    "vcpuNum": 2
   },
   {
    "_defaultOrder": 5,
    "_isFastLaunch": false,
    "category": "General purpose",
    "gpuNum": 0,
    "hideHardwareSpecs": false,
    "memoryGiB": 16,
    "name": "ml.m5.xlarge",
    "vcpuNum": 4
   },
   {
    "_defaultOrder": 6,
    "_isFastLaunch": false,
    "category": "General purpose",
    "gpuNum": 0,
    "hideHardwareSpecs": false,
    "memoryGiB": 32,
    "name": "ml.m5.2xlarge",
    "vcpuNum": 8
   },
   {
    "_defaultOrder": 7,
    "_isFastLaunch": false,
    "category": "General purpose",
    "gpuNum": 0,
    "hideHardwareSpecs": false,
    "memoryGiB": 64,
    "name": "ml.m5.4xlarge",
    "vcpuNum": 16
   },
   {
    "_defaultOrder": 8,
    "_isFastLaunch": false,
    "category": "General purpose",
    "gpuNum": 0,
    "hideHardwareSpecs": false,
    "memoryGiB": 128,
    "name": "ml.m5.8xlarge",
    "vcpuNum": 32
   },
   {
    "_defaultOrder": 9,
    "_isFastLaunch": false,
    "category": "General purpose",
    "gpuNum": 0,
    "hideHardwareSpecs": false,
    "memoryGiB": 192,
    "name": "ml.m5.12xlarge",
    "vcpuNum": 48
   },
   {
    "_defaultOrder": 10,
    "_isFastLaunch": false,
    "category": "General purpose",
    "gpuNum": 0,
    "hideHardwareSpecs": false,
    "memoryGiB": 256,
    "name": "ml.m5.16xlarge",
    "vcpuNum": 64
   },
   {
    "_defaultOrder": 11,
    "_isFastLaunch": false,
    "category": "General purpose",
    "gpuNum": 0,
    "hideHardwareSpecs": false,
    "memoryGiB": 384,
    "name": "ml.m5.24xlarge",
    "vcpuNum": 96
   },
   {
    "_defaultOrder": 12,
    "_isFastLaunch": false,
    "category": "General purpose",
    "gpuNum": 0,
    "hideHardwareSpecs": false,
    "memoryGiB": 8,
    "name": "ml.m5d.large",
    "vcpuNum": 2
   },
   {
    "_defaultOrder": 13,
    "_isFastLaunch": false,
    "category": "General purpose",
    "gpuNum": 0,
    "hideHardwareSpecs": false,
    "memoryGiB": 16,
    "name": "ml.m5d.xlarge",
    "vcpuNum": 4
   },
   {
    "_defaultOrder": 14,
    "_isFastLaunch": false,
    "category": "General purpose",
    "gpuNum": 0,
    "hideHardwareSpecs": false,
    "memoryGiB": 32,
    "name": "ml.m5d.2xlarge",
    "vcpuNum": 8
   },
   {
    "_defaultOrder": 15,
    "_isFastLaunch": false,
    "category": "General purpose",
    "gpuNum": 0,
    "hideHardwareSpecs": false,
    "memoryGiB": 64,
    "name": "ml.m5d.4xlarge",
    "vcpuNum": 16
   },
   {
    "_defaultOrder": 16,
    "_isFastLaunch": false,
    "category": "General purpose",
    "gpuNum": 0,
    "hideHardwareSpecs": false,
    "memoryGiB": 128,
    "name": "ml.m5d.8xlarge",
    "vcpuNum": 32
   },
   {
    "_defaultOrder": 17,
    "_isFastLaunch": false,
    "category": "General purpose",
    "gpuNum": 0,
    "hideHardwareSpecs": false,
    "memoryGiB": 192,
    "name": "ml.m5d.12xlarge",
    "vcpuNum": 48
   },
   {
    "_defaultOrder": 18,
    "_isFastLaunch": false,
    "category": "General purpose",
    "gpuNum": 0,
    "hideHardwareSpecs": false,
    "memoryGiB": 256,
    "name": "ml.m5d.16xlarge",
    "vcpuNum": 64
   },
   {
    "_defaultOrder": 19,
    "_isFastLaunch": false,
    "category": "General purpose",
    "gpuNum": 0,
    "hideHardwareSpecs": false,
    "memoryGiB": 384,
    "name": "ml.m5d.24xlarge",
    "vcpuNum": 96
   },
   {
    "_defaultOrder": 20,
    "_isFastLaunch": false,
    "category": "General purpose",
    "gpuNum": 0,
    "hideHardwareSpecs": true,
    "memoryGiB": 0,
    "name": "ml.geospatial.interactive",
    "supportedImageNames": [
     "sagemaker-geospatial-v1-0"
    ],
    "vcpuNum": 0
   },
   {
    "_defaultOrder": 21,
    "_isFastLaunch": true,
    "category": "Compute optimized",
    "gpuNum": 0,
    "hideHardwareSpecs": false,
    "memoryGiB": 4,
    "name": "ml.c5.large",
    "vcpuNum": 2
   },
   {
    "_defaultOrder": 22,
    "_isFastLaunch": false,
    "category": "Compute optimized",
    "gpuNum": 0,
    "hideHardwareSpecs": false,
    "memoryGiB": 8,
    "name": "ml.c5.xlarge",
    "vcpuNum": 4
   },
   {
    "_defaultOrder": 23,
    "_isFastLaunch": false,
    "category": "Compute optimized",
    "gpuNum": 0,
    "hideHardwareSpecs": false,
    "memoryGiB": 16,
    "name": "ml.c5.2xlarge",
    "vcpuNum": 8
   },
   {
    "_defaultOrder": 24,
    "_isFastLaunch": false,
    "category": "Compute optimized",
    "gpuNum": 0,
    "hideHardwareSpecs": false,
    "memoryGiB": 32,
    "name": "ml.c5.4xlarge",
    "vcpuNum": 16
   },
   {
    "_defaultOrder": 25,
    "_isFastLaunch": false,
    "category": "Compute optimized",
    "gpuNum": 0,
    "hideHardwareSpecs": false,
    "memoryGiB": 72,
    "name": "ml.c5.9xlarge",
    "vcpuNum": 36
   },
   {
    "_defaultOrder": 26,
    "_isFastLaunch": false,
    "category": "Compute optimized",
    "gpuNum": 0,
    "hideHardwareSpecs": false,
    "memoryGiB": 96,
    "name": "ml.c5.12xlarge",
    "vcpuNum": 48
   },
   {
    "_defaultOrder": 27,
    "_isFastLaunch": false,
    "category": "Compute optimized",
    "gpuNum": 0,
    "hideHardwareSpecs": false,
    "memoryGiB": 144,
    "name": "ml.c5.18xlarge",
    "vcpuNum": 72
   },
   {
    "_defaultOrder": 28,
    "_isFastLaunch": false,
    "category": "Compute optimized",
    "gpuNum": 0,
    "hideHardwareSpecs": false,
    "memoryGiB": 192,
    "name": "ml.c5.24xlarge",
    "vcpuNum": 96
   },
   {
    "_defaultOrder": 29,
    "_isFastLaunch": true,
    "category": "Accelerated computing",
    "gpuNum": 1,
    "hideHardwareSpecs": false,
    "memoryGiB": 16,
    "name": "ml.g4dn.xlarge",
    "vcpuNum": 4
   },
   {
    "_defaultOrder": 30,
    "_isFastLaunch": false,
    "category": "Accelerated computing",
    "gpuNum": 1,
    "hideHardwareSpecs": false,
    "memoryGiB": 32,
    "name": "ml.g4dn.2xlarge",
    "vcpuNum": 8
   },
   {
    "_defaultOrder": 31,
    "_isFastLaunch": false,
    "category": "Accelerated computing",
    "gpuNum": 1,
    "hideHardwareSpecs": false,
    "memoryGiB": 64,
    "name": "ml.g4dn.4xlarge",
    "vcpuNum": 16
   },
   {
    "_defaultOrder": 32,
    "_isFastLaunch": false,
    "category": "Accelerated computing",
    "gpuNum": 1,
    "hideHardwareSpecs": false,
    "memoryGiB": 128,
    "name": "ml.g4dn.8xlarge",
    "vcpuNum": 32
   },
   {
    "_defaultOrder": 33,
    "_isFastLaunch": false,
    "category": "Accelerated computing",
    "gpuNum": 4,
    "hideHardwareSpecs": false,
    "memoryGiB": 192,
    "name": "ml.g4dn.12xlarge",
    "vcpuNum": 48
   },
   {
    "_defaultOrder": 34,
    "_isFastLaunch": false,
    "category": "Accelerated computing",
    "gpuNum": 1,
    "hideHardwareSpecs": false,
    "memoryGiB": 256,
    "name": "ml.g4dn.16xlarge",
    "vcpuNum": 64
   },
   {
    "_defaultOrder": 35,
    "_isFastLaunch": false,
    "category": "Accelerated computing",
    "gpuNum": 1,
    "hideHardwareSpecs": false,
    "memoryGiB": 61,
    "name": "ml.p3.2xlarge",
    "vcpuNum": 8
   },
   {
    "_defaultOrder": 36,
    "_isFastLaunch": false,
    "category": "Accelerated computing",
    "gpuNum": 4,
    "hideHardwareSpecs": false,
    "memoryGiB": 244,
    "name": "ml.p3.8xlarge",
    "vcpuNum": 32
   },
   {
    "_defaultOrder": 37,
    "_isFastLaunch": false,
    "category": "Accelerated computing",
    "gpuNum": 8,
    "hideHardwareSpecs": false,
    "memoryGiB": 488,
    "name": "ml.p3.16xlarge",
    "vcpuNum": 64
   },
   {
    "_defaultOrder": 38,
    "_isFastLaunch": false,
    "category": "Accelerated computing",
    "gpuNum": 8,
    "hideHardwareSpecs": false,
    "memoryGiB": 768,
    "name": "ml.p3dn.24xlarge",
    "vcpuNum": 96
   },
   {
    "_defaultOrder": 39,
    "_isFastLaunch": false,
    "category": "Memory Optimized",
    "gpuNum": 0,
    "hideHardwareSpecs": false,
    "memoryGiB": 16,
    "name": "ml.r5.large",
    "vcpuNum": 2
   },
   {
    "_defaultOrder": 40,
    "_isFastLaunch": false,
    "category": "Memory Optimized",
    "gpuNum": 0,
    "hideHardwareSpecs": false,
    "memoryGiB": 32,
    "name": "ml.r5.xlarge",
    "vcpuNum": 4
   },
   {
    "_defaultOrder": 41,
    "_isFastLaunch": false,
    "category": "Memory Optimized",
    "gpuNum": 0,
    "hideHardwareSpecs": false,
    "memoryGiB": 64,
    "name": "ml.r5.2xlarge",
    "vcpuNum": 8
   },
   {
    "_defaultOrder": 42,
    "_isFastLaunch": false,
    "category": "Memory Optimized",
    "gpuNum": 0,
    "hideHardwareSpecs": false,
    "memoryGiB": 128,
    "name": "ml.r5.4xlarge",
    "vcpuNum": 16
   },
   {
    "_defaultOrder": 43,
    "_isFastLaunch": false,
    "category": "Memory Optimized",
    "gpuNum": 0,
    "hideHardwareSpecs": false,
    "memoryGiB": 256,
    "name": "ml.r5.8xlarge",
    "vcpuNum": 32
   },
   {
    "_defaultOrder": 44,
    "_isFastLaunch": false,
    "category": "Memory Optimized",
    "gpuNum": 0,
    "hideHardwareSpecs": false,
    "memoryGiB": 384,
    "name": "ml.r5.12xlarge",
    "vcpuNum": 48
   },
   {
    "_defaultOrder": 45,
    "_isFastLaunch": false,
    "category": "Memory Optimized",
    "gpuNum": 0,
    "hideHardwareSpecs": false,
    "memoryGiB": 512,
    "name": "ml.r5.16xlarge",
    "vcpuNum": 64
   },
   {
    "_defaultOrder": 46,
    "_isFastLaunch": false,
    "category": "Memory Optimized",
    "gpuNum": 0,
    "hideHardwareSpecs": false,
    "memoryGiB": 768,
    "name": "ml.r5.24xlarge",
    "vcpuNum": 96
   },
   {
    "_defaultOrder": 47,
    "_isFastLaunch": false,
    "category": "Accelerated computing",
    "gpuNum": 1,
    "hideHardwareSpecs": false,
    "memoryGiB": 16,
    "name": "ml.g5.xlarge",
    "vcpuNum": 4
   },
   {
    "_defaultOrder": 48,
    "_isFastLaunch": false,
    "category": "Accelerated computing",
    "gpuNum": 1,
    "hideHardwareSpecs": false,
    "memoryGiB": 32,
    "name": "ml.g5.2xlarge",
    "vcpuNum": 8
   },
   {
    "_defaultOrder": 49,
    "_isFastLaunch": false,
    "category": "Accelerated computing",
    "gpuNum": 1,
    "hideHardwareSpecs": false,
    "memoryGiB": 64,
    "name": "ml.g5.4xlarge",
    "vcpuNum": 16
   },
   {
    "_defaultOrder": 50,
    "_isFastLaunch": false,
    "category": "Accelerated computing",
    "gpuNum": 1,
    "hideHardwareSpecs": false,
    "memoryGiB": 128,
    "name": "ml.g5.8xlarge",
    "vcpuNum": 32
   },
   {
    "_defaultOrder": 51,
    "_isFastLaunch": false,
    "category": "Accelerated computing",
    "gpuNum": 1,
    "hideHardwareSpecs": false,
    "memoryGiB": 256,
    "name": "ml.g5.16xlarge",
    "vcpuNum": 64
   },
   {
    "_defaultOrder": 52,
    "_isFastLaunch": false,
    "category": "Accelerated computing",
    "gpuNum": 4,
    "hideHardwareSpecs": false,
    "memoryGiB": 192,
    "name": "ml.g5.12xlarge",
    "vcpuNum": 48
   },
   {
    "_defaultOrder": 53,
    "_isFastLaunch": false,
    "category": "Accelerated computing",
    "gpuNum": 4,
    "hideHardwareSpecs": false,
    "memoryGiB": 384,
    "name": "ml.g5.24xlarge",
    "vcpuNum": 96
   },
   {
    "_defaultOrder": 54,
    "_isFastLaunch": false,
    "category": "Accelerated computing",
    "gpuNum": 8,
    "hideHardwareSpecs": false,
    "memoryGiB": 768,
    "name": "ml.g5.48xlarge",
    "vcpuNum": 192
   },
   {
    "_defaultOrder": 55,
    "_isFastLaunch": false,
    "category": "Accelerated computing",
    "gpuNum": 8,
    "hideHardwareSpecs": false,
    "memoryGiB": 1152,
    "name": "ml.p4d.24xlarge",
    "vcpuNum": 96
   },
   {
    "_defaultOrder": 56,
    "_isFastLaunch": false,
    "category": "Accelerated computing",
    "gpuNum": 8,
    "hideHardwareSpecs": false,
    "memoryGiB": 1152,
    "name": "ml.p4de.24xlarge",
    "vcpuNum": 96
   }
  ],
  "instance_type": "ml.m5.large",
  "kernelspec": {
   "display_name": "Python 3 (ipykernel)",
   "language": "python",
   "name": "python3"
  },
  "language_info": {
   "codemirror_mode": {
    "name": "ipython",
    "version": 3
   },
   "file_extension": ".py",
   "mimetype": "text/x-python",
   "name": "python",
   "nbconvert_exporter": "python",
   "pygments_lexer": "ipython3",
   "version": "3.10.9"
  }
 },
 "nbformat": 4,
 "nbformat_minor": 5
}
