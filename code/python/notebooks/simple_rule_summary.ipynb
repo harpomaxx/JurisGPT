{
 "cells": [
  {
   "cell_type": "markdown",
   "id": "808c9e3b-e793-46c3-9599-1a473069c5a6",
   "metadata": {},
   "source": [
    "**Note:** for running the example we need at least a `ml.m5.large` instance"
   ]
  },
  {
   "cell_type": "markdown",
   "id": "d0c3308c-3e63-42ef-bb47-a9d76e889d0c",
   "metadata": {
    "tags": []
   },
   "source": [
    "# SETUP"
   ]
  },
  {
   "cell_type": "markdown",
   "id": "a37d855b-928d-4c16-b1cc-7a242326d99d",
   "metadata": {},
   "source": [
    "## Check the version of python using"
   ]
  },
  {
   "cell_type": "code",
   "execution_count": 2,
   "id": "6677aa09-4855-4a21-8054-a55190376e32",
   "metadata": {},
   "outputs": [],
   "source": [
    "!which python3"
   ]
  },
  {
   "cell_type": "markdown",
   "id": "fe7542a5-d34a-47cb-8b06-5b9b123cf1b1",
   "metadata": {},
   "source": [
    "## Install required libraries"
   ]
  },
  {
   "cell_type": "code",
   "execution_count": 3,
   "id": "fcfca745-732c-4ed8-a2ac-0e34beed0322",
   "metadata": {},
   "outputs": [
    {
     "name": "stdout",
     "output_type": "stream",
     "text": [
      "Requirement already satisfied: pip in /opt/conda/lib/python3.10/site-packages (23.2.1)\n",
      "\u001b[33mWARNING: Running pip as the 'root' user can result in broken permissions and conflicting behaviour with the system package manager. It is recommended to use a virtual environment instead: https://pip.pypa.io/warnings/venv\u001b[0m\u001b[33m\n",
      "\u001b[0m"
     ]
    }
   ],
   "source": [
    "!pip install --upgrade pip"
   ]
  },
  {
   "cell_type": "code",
   "execution_count": 4,
   "id": "9fac44ac-a531-42bd-8af4-e8831e60b0c7",
   "metadata": {},
   "outputs": [
    {
     "name": "stdout",
     "output_type": "stream",
     "text": [
      "\u001b[31mERROR: pip's dependency resolver does not currently take into account all the packages that are installed. This behaviour is the source of the following dependency conflicts.\n",
      "spyder 5.3.3 requires pyqt5<5.16, which is not installed.\n",
      "spyder 5.3.3 requires pyqtwebengine<5.16, which is not installed.\n",
      "jupyterlab 3.4.4 requires jupyter-server~=1.16, but you have jupyter-server 2.7.0 which is incompatible.\n",
      "jupyterlab-server 2.10.3 requires jupyter-server~=1.4, but you have jupyter-server 2.7.0 which is incompatible.\n",
      "sagemaker-datawrangler 0.4.3 requires sagemaker-data-insights==0.4.0, but you have sagemaker-data-insights 0.3.3 which is incompatible.\n",
      "spyder 5.3.3 requires ipython<8.0.0,>=7.31.1, but you have ipython 8.14.0 which is incompatible.\n",
      "spyder 5.3.3 requires pylint<3.0,>=2.5.0, but you have pylint 3.0.0a6 which is incompatible.\n",
      "spyder-kernels 2.3.3 requires ipython<8,>=7.31.1; python_version >= \"3\", but you have ipython 8.14.0 which is incompatible.\u001b[0m\u001b[31m\n",
      "\u001b[0m\u001b[33mWARNING: Running pip as the 'root' user can result in broken permissions and conflicting behaviour with the system package manager. It is recommended to use a virtual environment instead: https://pip.pypa.io/warnings/venv\u001b[0m\u001b[33m\n",
      "\u001b[0m"
     ]
    }
   ],
   "source": [
    "!pip install ipywidgets --quiet"
   ]
  },
  {
   "cell_type": "code",
   "execution_count": 5,
   "id": "b546e167-4c46-42b6-87f7-0773b6608dd2",
   "metadata": {
    "collapsed": true,
    "jupyter": {
     "outputs_hidden": true
    },
    "tags": []
   },
   "outputs": [
    {
     "name": "stdout",
     "output_type": "stream",
     "text": [
      "\u001b[31mERROR: pip's dependency resolver does not currently take into account all the packages that are installed. This behaviour is the source of the following dependency conflicts.\n",
      "distributed 2022.7.0 requires tornado<6.2,>=6.0.3, but you have tornado 6.3.2 which is incompatible.\u001b[0m\u001b[31m\n",
      "\u001b[0m\u001b[33mWARNING: Running pip as the 'root' user can result in broken permissions and conflicting behaviour with the system package manager. It is recommended to use a virtual environment instead: https://pip.pypa.io/warnings/venv\u001b[0m\u001b[33m\n",
      "\u001b[0m\u001b[31mERROR: pip's dependency resolver does not currently take into account all the packages that are installed. This behaviour is the source of the following dependency conflicts.\n",
      "spyder 5.3.3 requires pyqt5<5.16, which is not installed.\n",
      "spyder 5.3.3 requires pyqtwebengine<5.16, which is not installed.\n",
      "panel 0.13.1 requires bokeh<2.5.0,>=2.4.0, but you have bokeh 3.2.1 which is incompatible.\n",
      "spyder 5.3.3 requires ipython<8.0.0,>=7.31.1, but you have ipython 8.14.0 which is incompatible.\n",
      "spyder 5.3.3 requires pylint<3.0,>=2.5.0, but you have pylint 3.0.0a6 which is incompatible.\u001b[0m\u001b[31m\n",
      "\u001b[0m\u001b[33mWARNING: Running pip as the 'root' user can result in broken permissions and conflicting behaviour with the system package manager. It is recommended to use a virtual environment instead: https://pip.pypa.io/warnings/venv\u001b[0m\u001b[33m\n",
      "\u001b[0m"
     ]
    }
   ],
   "source": [
    "!pip install boto3 --quiet\n",
    "!pip install langchain --quiet"
   ]
  },
  {
   "cell_type": "code",
   "execution_count": 6,
   "id": "ced5eaf4-e26d-440f-90f6-a16547aaf01e",
   "metadata": {
    "collapsed": true,
    "jupyter": {
     "outputs_hidden": true
    },
    "tags": []
   },
   "outputs": [
    {
     "name": "stdout",
     "output_type": "stream",
     "text": [
      "\u001b[33mWARNING: Running pip as the 'root' user can result in broken permissions and conflicting behaviour with the system package manager. It is recommended to use a virtual environment instead: https://pip.pypa.io/warnings/venv\u001b[0m\u001b[33m\n",
      "\u001b[0m"
     ]
    }
   ],
   "source": [
    "!pip install torch --quiet"
   ]
  },
  {
   "cell_type": "code",
   "execution_count": 7,
   "id": "eb1543ae-e297-4cff-b5b2-2bb10243841f",
   "metadata": {
    "collapsed": true,
    "jupyter": {
     "outputs_hidden": true
    },
    "tags": []
   },
   "outputs": [
    {
     "name": "stdout",
     "output_type": "stream",
     "text": [
      "\u001b[31mERROR: pip's dependency resolver does not currently take into account all the packages that are installed. This behaviour is the source of the following dependency conflicts.\n",
      "daal4py 2021.6.0 requires daal==2021.4.0, which is not installed.\n",
      "numba 0.55.1 requires numpy<1.22,>=1.18, but you have numpy 1.24.4 which is incompatible.\n",
      "panel 0.13.1 requires bokeh<2.5.0,>=2.4.0, but you have bokeh 3.2.1 which is incompatible.\n",
      "sagemaker-datawrangler 0.4.3 requires sagemaker-data-insights==0.4.0, but you have sagemaker-data-insights 0.3.3 which is incompatible.\u001b[0m\u001b[31m\n",
      "\u001b[0m\u001b[33mWARNING: Running pip as the 'root' user can result in broken permissions and conflicting behaviour with the system package manager. It is recommended to use a virtual environment instead: https://pip.pypa.io/warnings/venv\u001b[0m\u001b[33m\n",
      "\u001b[0m"
     ]
    }
   ],
   "source": [
    "!pip install sentence_transformers --quiet"
   ]
  },
  {
   "cell_type": "code",
   "execution_count": 8,
   "id": "d3f96fbf-e80b-476c-9b52-5f574ef68bc1",
   "metadata": {
    "collapsed": true,
    "jupyter": {
     "outputs_hidden": true
    },
    "tags": []
   },
   "outputs": [
    {
     "name": "stdout",
     "output_type": "stream",
     "text": [
      "\u001b[31mERROR: pip's dependency resolver does not currently take into account all the packages that are installed. This behaviour is the source of the following dependency conflicts.\n",
      "panel 0.13.1 requires bokeh<2.5.0,>=2.4.0, but you have bokeh 3.2.1 which is incompatible.\u001b[0m\u001b[31m\n",
      "\u001b[0m\u001b[33mWARNING: Running pip as the 'root' user can result in broken permissions and conflicting behaviour with the system package manager. It is recommended to use a virtual environment instead: https://pip.pypa.io/warnings/venv\u001b[0m\u001b[33m\n",
      "\u001b[0m"
     ]
    }
   ],
   "source": [
    "!pip install chromadb --quiet"
   ]
  },
  {
   "cell_type": "code",
   "execution_count": 9,
   "id": "a2d394f2-fd58-4429-8a3d-6730cafd2606",
   "metadata": {
    "collapsed": true,
    "jupyter": {
     "outputs_hidden": true
    },
    "tags": []
   },
   "outputs": [
    {
     "name": "stdout",
     "output_type": "stream",
     "text": [
      "Requirement already satisfied: typing-extensions in /opt/conda/lib/python3.10/site-packages (4.7.1)\n",
      "\u001b[33mWARNING: Running pip as the 'root' user can result in broken permissions and conflicting behaviour with the system package manager. It is recommended to use a virtual environment instead: https://pip.pypa.io/warnings/venv\u001b[0m\u001b[33m\n",
      "\u001b[0m"
     ]
    }
   ],
   "source": [
    "!pip install typing-extensions --upgrade"
   ]
  },
  {
   "cell_type": "code",
   "execution_count": 10,
   "id": "e318bb83-3c91-4300-8a39-0f439d607775",
   "metadata": {},
   "outputs": [
    {
     "name": "stdout",
     "output_type": "stream",
     "text": [
      "\u001b[33mWARNING: Running pip as the 'root' user can result in broken permissions and conflicting behaviour with the system package manager. It is recommended to use a virtual environment instead: https://pip.pypa.io/warnings/venv\u001b[0m\u001b[33m\n",
      "\u001b[0m\u001b[33mWARNING: Running pip as the 'root' user can result in broken permissions and conflicting behaviour with the system package manager. It is recommended to use a virtual environment instead: https://pip.pypa.io/warnings/venv\u001b[0m\u001b[33m\n",
      "\u001b[0m"
     ]
    }
   ],
   "source": [
    "!pip install SQLAlchemy==2.0.1 --quiet\n",
    "!pip install flask-sqlalchemy --quiet\n",
    "\n"
   ]
  },
  {
   "cell_type": "code",
   "execution_count": 11,
   "id": "324d0672-c5f5-4727-9c08-e9fff90d19ea",
   "metadata": {},
   "outputs": [
    {
     "name": "stdout",
     "output_type": "stream",
     "text": [
      "\u001b[33mWARNING: Running pip as the 'root' user can result in broken permissions and conflicting behaviour with the system package manager. It is recommended to use a virtual environment instead: https://pip.pypa.io/warnings/venv\u001b[0m\u001b[33m\n",
      "\u001b[0m"
     ]
    }
   ],
   "source": [
    "!pip install unstructured --quiet"
   ]
  },
  {
   "cell_type": "code",
   "execution_count": 12,
   "id": "9004f3e8-7d82-4e9a-b47d-64b8acee3334",
   "metadata": {},
   "outputs": [
    {
     "name": "stdout",
     "output_type": "stream",
     "text": [
      "Collecting pdf2image\n",
      "  Using cached pdf2image-1.16.3-py3-none-any.whl (11 kB)\n",
      "Requirement already satisfied: pillow in /opt/conda/lib/python3.10/site-packages (from pdf2image) (10.0.0)\n",
      "Installing collected packages: pdf2image\n",
      "Successfully installed pdf2image-1.16.3\n",
      "\u001b[33mWARNING: Running pip as the 'root' user can result in broken permissions and conflicting behaviour with the system package manager. It is recommended to use a virtual environment instead: https://pip.pypa.io/warnings/venv\u001b[0m\u001b[33m\n",
      "\u001b[0mCollecting pdfminer\n",
      "  Using cached pdfminer-20191125-py3-none-any.whl\n",
      "Collecting pycryptodome (from pdfminer)\n",
      "  Obtaining dependency information for pycryptodome from https://files.pythonhosted.org/packages/40/88/89623388754162ddb82c62814ccbfdbfcc8ed9bd6d5f7412d2479bdca3a7/pycryptodome-3.18.0-cp35-abi3-manylinux_2_17_x86_64.manylinux2014_x86_64.whl.metadata\n",
      "  Using cached pycryptodome-3.18.0-cp35-abi3-manylinux_2_17_x86_64.manylinux2014_x86_64.whl.metadata (3.4 kB)\n",
      "Using cached pycryptodome-3.18.0-cp35-abi3-manylinux_2_17_x86_64.manylinux2014_x86_64.whl (2.1 MB)\n",
      "Installing collected packages: pycryptodome, pdfminer\n",
      "Successfully installed pdfminer-20191125 pycryptodome-3.18.0\n",
      "\u001b[33mWARNING: Running pip as the 'root' user can result in broken permissions and conflicting behaviour with the system package manager. It is recommended to use a virtual environment instead: https://pip.pypa.io/warnings/venv\u001b[0m\u001b[33m\n",
      "\u001b[0mCollecting pdfminer.six\n",
      "  Using cached pdfminer.six-20221105-py3-none-any.whl (5.6 MB)\n",
      "Requirement already satisfied: charset-normalizer>=2.0.0 in /opt/conda/lib/python3.10/site-packages (from pdfminer.six) (2.0.4)\n",
      "Requirement already satisfied: cryptography>=36.0.0 in /opt/conda/lib/python3.10/site-packages (from pdfminer.six) (41.0.2)\n",
      "Requirement already satisfied: cffi>=1.12 in /opt/conda/lib/python3.10/site-packages (from cryptography>=36.0.0->pdfminer.six) (1.15.1)\n",
      "Requirement already satisfied: pycparser in /opt/conda/lib/python3.10/site-packages (from cffi>=1.12->cryptography>=36.0.0->pdfminer.six) (2.21)\n",
      "Installing collected packages: pdfminer.six\n",
      "Successfully installed pdfminer.six-20221105\n",
      "\u001b[33mWARNING: Running pip as the 'root' user can result in broken permissions and conflicting behaviour with the system package manager. It is recommended to use a virtual environment instead: https://pip.pypa.io/warnings/venv\u001b[0m\u001b[33m\n",
      "\u001b[0m"
     ]
    }
   ],
   "source": [
    "!pip install pdf2image\n",
    "!pip install pdfminer\n",
    "!pip install pdfminer.six"
   ]
  },
  {
   "cell_type": "code",
   "execution_count": 13,
   "id": "b2aa03a0-c663-4a50-8f7a-298857667027",
   "metadata": {},
   "outputs": [
    {
     "name": "stdout",
     "output_type": "stream",
     "text": [
      "Collecting rouge\n",
      "  Using cached rouge-1.0.1-py3-none-any.whl (13 kB)\n",
      "Requirement already satisfied: six in /opt/conda/lib/python3.10/site-packages (from rouge) (1.16.0)\n",
      "Installing collected packages: rouge\n",
      "Successfully installed rouge-1.0.1\n",
      "\u001b[33mWARNING: Running pip as the 'root' user can result in broken permissions and conflicting behaviour with the system package manager. It is recommended to use a virtual environment instead: https://pip.pypa.io/warnings/venv\u001b[0m\u001b[33m\n",
      "\u001b[0m"
     ]
    }
   ],
   "source": [
    "!pip install rouge"
   ]
  },
  {
   "cell_type": "code",
   "execution_count": 14,
   "id": "d71084ab-d449-41d4-9682-eb3d9c137cbb",
   "metadata": {},
   "outputs": [
    {
     "name": "stdout",
     "output_type": "stream",
     "text": [
      "\u001b[33mWARNING: Running pip as the 'root' user can result in broken permissions and conflicting behaviour with the system package manager. It is recommended to use a virtual environment instead: https://pip.pypa.io/warnings/venv\u001b[0m\u001b[33m\n",
      "\u001b[0m"
     ]
    }
   ],
   "source": [
    "!pip3 install opencv-python-headless --quiet #required for cv2"
   ]
  },
  {
   "cell_type": "markdown",
   "id": "5d06f9f4-8d03-4abe-a765-b12c7b451fbe",
   "metadata": {},
   "source": [
    "## Import libraries"
   ]
  },
  {
   "cell_type": "code",
   "execution_count": 15,
   "id": "df06b4ff-16d9-458a-9b90-11ec2eb749cc",
   "metadata": {},
   "outputs": [],
   "source": [
    "import chromadb "
   ]
  },
  {
   "cell_type": "code",
   "execution_count": 16,
   "id": "ef6b9cfa-44ff-4105-b885-2ebdbc55cc33",
   "metadata": {},
   "outputs": [],
   "source": [
    "import sentence_transformers"
   ]
  },
  {
   "cell_type": "code",
   "execution_count": 17,
   "id": "73791d6e-8b0d-4ad2-aa8d-a442b3e5f991",
   "metadata": {},
   "outputs": [],
   "source": [
    "import langchain"
   ]
  },
  {
   "cell_type": "code",
   "execution_count": 18,
   "id": "8226a793-ea59-4608-943b-645365548a14",
   "metadata": {},
   "outputs": [],
   "source": [
    "from langchain.chat_models import ChatOpenAI\n",
    "from langchain.document_loaders import TextLoader\n",
    "from langchain.document_loaders import UnstructuredPDFLoader\n",
    "from langchain.embeddings import OpenAIEmbeddings\n",
    "from langchain.indexes import VectorstoreIndexCreator\n",
    "from langchain.embeddings import SentenceTransformerEmbeddings\n",
    "from langchain.text_splitter import NLTKTextSplitter\n",
    "import os"
   ]
  },
  {
   "cell_type": "markdown",
   "id": "9e3ddf75-19fb-40d2-8cee-9c18d8f4427c",
   "metadata": {},
   "source": [
    "### ContentHandler for LLama-2-chat"
   ]
  },
  {
   "cell_type": "code",
   "execution_count": 19,
   "id": "48e93638-52ee-46ac-9951-1a2ae8803de3",
   "metadata": {},
   "outputs": [],
   "source": [
    "from langchain import PromptTemplate, SagemakerEndpoint\n",
    "from langchain.llms.sagemaker_endpoint import LLMContentHandler\n",
    "import json\n",
    "class ContentHandler(LLMContentHandler):\n",
    "    content_type = \"application/json\"\n",
    "    accepts = \"application/json\"\n",
    "\n",
    "    def transform_input(self, prompt: str, model_kwargs: dict) -> bytes:\n",
    "        input_str = json.dumps({\"inputs\" : [[{\"role\" : \"system\",\n",
    "        \"content\" : \"Your are a kind assistant for the supreme court. All your answers MUST be in grammatically correct spanish. NEVER. Under any circunstance you have to include words in english. if you that you will be fired.\"},\n",
    "        {\"role\" : \"user\", \"content\" : prompt}]],\n",
    "        \"parameters\" : {**model_kwargs}})\n",
    "        return input_str.encode('utf-8')\n",
    "    \n",
    "    def transform_output(self, output: bytes) -> str:\n",
    "        response_json = json.loads(output.read().decode(\"utf-8\"))\n",
    "        return response_json[0][\"generation\"][\"content\"]"
   ]
  },
  {
   "cell_type": "markdown",
   "id": "8c3b08fb-d76b-4e83-822b-c6993b694a0e",
   "metadata": {},
   "source": [
    "### ContentHandler for FALCON"
   ]
  },
  {
   "cell_type": "code",
   "execution_count": 20,
   "id": "10ddf3b7-8a0e-4596-af10-a80c397f6a99",
   "metadata": {},
   "outputs": [],
   "source": [
    "from langchain import PromptTemplate, SagemakerEndpoint\n",
    "from langchain.llms.sagemaker_endpoint import LLMContentHandler\n",
    "import json\n",
    "class HFContentHandler(LLMContentHandler):\n",
    "    content_type = \"application/json\"\n",
    "    accepts = \"application/json\"\n",
    "\n",
    "    def transform_input(self, prompt: str, model_kwargs) -> bytes:\n",
    "        self.len_prompt = len(prompt)\n",
    "        input_dict = {\n",
    "            \"inputs\": prompt,\n",
    "            \"parameters\": model_kwargs\n",
    "        }\n",
    "        input_str = json.dumps(input_dict)\n",
    "        #print(input_str)\n",
    "        return input_str.encode('utf-8')\n",
    "\n",
    "    def transform_output(self, output: bytes) -> str:\n",
    "        response_json = output.read()\n",
    "        res = json.loads(response_json)\n",
    "       # print(res)\n",
    "\n",
    "        # stripping away the input prompt from the returned response\n",
    "        ans = res[0]['generated_text'][self.len_prompt:]\n",
    "        ans = ans[:ans.rfind(\"Human\")].strip()\n",
    "        return ans"
   ]
  },
  {
   "cell_type": "markdown",
   "id": "9b895235-b3e9-4db0-918b-b9bd1308d481",
   "metadata": {
    "tags": []
   },
   "source": [
    "## Setup the llm "
   ]
  },
  {
   "cell_type": "code",
   "execution_count": 97,
   "id": "42188b0f-a4ab-4099-aa44-912909914d45",
   "metadata": {},
   "outputs": [],
   "source": [
    "import boto3\n",
    "region = boto3.Session().region_name\n",
    "endpoint_name = \"jumpstart-dft-meta-textgeneration-llama-2-7b-f\"\n",
    "#endpoint_name  = \"jumpstart-dft-hf-llm-falcon-7b-instruct-bf16\"\n",
    "content_handler = ContentHandler()\n",
    "\n",
    "llm=SagemakerEndpoint(\n",
    "     endpoint_name=endpoint_name, \n",
    "     region_name=region, \n",
    "     model_kwargs={\"max_new_tokens\": 1000, \"top_p\": 0.9, \"temperature\": 0.01},\n",
    "     endpoint_kwargs={\"CustomAttributes\": 'accept_eula=true'},\n",
    "     content_handler=content_handler\n",
    " )\n"
   ]
  },
  {
   "cell_type": "markdown",
   "id": "9a144ea0-da0d-41e3-95cb-808bffa09114",
   "metadata": {
    "tags": []
   },
   "source": [
    "### Test the LLM"
   ]
  },
  {
   "cell_type": "code",
   "execution_count": 98,
   "id": "1d5cfdaf-da73-4229-af39-a8d5c01ccdcb",
   "metadata": {},
   "outputs": [
    {
     "name": "stdout",
     "output_type": "stream",
     "text": [
      " ¡Por supuesto, señor/a! Como asistente leal del Tribunal Supremo, estoy a su disposición para ayudarle en cualquier necesidad. ¿En qué puedo ser de ayuda?\n"
     ]
    }
   ],
   "source": [
    "print(llm(\"Deci algo en español\"))"
   ]
  },
  {
   "cell_type": "markdown",
   "id": "e4dd17fd-dc5e-442e-924e-9306c1c69870",
   "metadata": {},
   "source": [
    "## Setup SBERT for calculating embeddings"
   ]
  },
  {
   "cell_type": "code",
   "execution_count": 27,
   "id": "20e17753-4cf8-429d-b2dc-f5c1156b5662",
   "metadata": {},
   "outputs": [],
   "source": [
    "embedding = SentenceTransformerEmbeddings(model_name=\"all-MiniLM-L6-v2\")"
   ]
  },
  {
   "cell_type": "code",
   "execution_count": 28,
   "id": "4fccd548-a93e-4421-9f74-962e22791928",
   "metadata": {},
   "outputs": [
    {
     "data": {
      "text/plain": [
       "HuggingFaceEmbeddings(client=SentenceTransformer(\n",
       "  (0): Transformer({'max_seq_length': 256, 'do_lower_case': False}) with Transformer model: BertModel \n",
       "  (1): Pooling({'word_embedding_dimension': 384, 'pooling_mode_cls_token': False, 'pooling_mode_mean_tokens': True, 'pooling_mode_max_tokens': False, 'pooling_mode_mean_sqrt_len_tokens': False})\n",
       "  (2): Normalize()\n",
       "), model_name='all-MiniLM-L6-v2', cache_folder=None, model_kwargs={}, encode_kwargs={}, multi_process=False)"
      ]
     },
     "execution_count": 28,
     "metadata": {},
     "output_type": "execute_result"
    }
   ],
   "source": [
    "embedding"
   ]
  },
  {
   "cell_type": "markdown",
   "id": "b9cff2d6-7069-46ca-989b-4d901ebdd3f3",
   "metadata": {},
   "source": [
    "# INTERACTIVE EXAMPLE"
   ]
  },
  {
   "cell_type": "markdown",
   "id": "910d36d3-b87c-43fc-bd88-3409cc5d5536",
   "metadata": {},
   "source": [
    "## Load a PDF and calculate the embeddings"
   ]
  },
  {
   "cell_type": "code",
   "execution_count": 30,
   "id": "ebd0f465-6390-48ac-bcfe-cb48d004529a",
   "metadata": {},
   "outputs": [],
   "source": [
    "loader = UnstructuredPDFLoader(\"/root/JurisGPT/rawdata/laboral/10000003368.pdf\")"
   ]
  },
  {
   "cell_type": "code",
   "execution_count": 31,
   "id": "8be11de5-fd70-43d4-ac9b-df81de1d6aac",
   "metadata": {},
   "outputs": [],
   "source": [
    "index = VectorstoreIndexCreator(embedding=embedding).from_loaders([loader])"
   ]
  },
  {
   "cell_type": "code",
   "execution_count": 24,
   "id": "7c03c5de-76d1-4694-9560-b0b736f37a10",
   "metadata": {},
   "outputs": [],
   "source": [
    "index.vectorstore.delete_collection()"
   ]
  },
  {
   "cell_type": "markdown",
   "id": "cd872ef9-0a6a-41ba-93e9-36a9eb52e89a",
   "metadata": {},
   "source": [
    "## Ask LLM to summarize each section"
   ]
  },
  {
   "cell_type": "code",
   "execution_count": 32,
   "id": "3784c955-4e79-4cc1-934b-f69f91174623",
   "metadata": {},
   "outputs": [],
   "source": [
    "query = \"Eres un miembro de la corte suprema de Mendoza en Argentina. Tienes que escribir un resume de la seccion 'Antecedentes' de una sentencia de la corte. Escribe tu respuesta en no menos de 150 palabras:\"\n",
    "summary_ant = (index.query(query,llm=llm))\n",
    "print(summary_ant)"
   ]
  },
  {
   "cell_type": "code",
   "execution_count": 217,
   "id": "1f416496-59b2-42cc-b2a0-fe4e5f43b554",
   "metadata": {},
   "outputs": [],
   "source": [
    "query = \"Eres un miembro de la corte suprema de Mendoza en Argentina. Tienes que escribir un resume de la seccion 'Sobre la primera cuestion' de una sentencia de la corte. Escribe tu respuesta en no menos de 150 palabras:\"\n",
    "summary_1 = (index.query(query,llm=llm))\n",
    "print(summary_1)\n"
   ]
  },
  {
   "cell_type": "code",
   "execution_count": 218,
   "id": "4a1c04e2-0428-4bab-a89a-c6ab90eaccc8",
   "metadata": {},
   "outputs": [],
   "source": [
    "query = \"Eres un miembro de la corte suprema de Mendoza en Argentina. Tienes que escribir un resume de la seccion 'Sobre la segunda cuestion' de una sentencia de la corte. Escribe tu respuesta en no menos de 150 palabras:\"\n",
    "summary_2 = (index.query(query,llm=llm))\n",
    "print(summary_2)"
   ]
  },
  {
   "cell_type": "code",
   "execution_count": 235,
   "id": "0f1fe3db-5a0c-4ee5-8de9-d6fbaeca81bb",
   "metadata": {},
   "outputs": [],
   "source": [
    "query = \"Eres un miembro de la corte suprema de Mendoza en Argentina. Tienes que escribir un resume de la seccion 'Sobre la tercera cuestion' de una sentencia de la corte. Escribe tu respuesta en no menos de 150 palabras:\"\n",
    "summary_3 = (index.query(query,llm=llm))\n",
    "print(summary_3)"
   ]
  },
  {
   "cell_type": "code",
   "execution_count": 220,
   "id": "f8a6a669-ece7-46c6-9afa-2eb1a3eac2a6",
   "metadata": {},
   "outputs": [],
   "source": [
    "query = \"Eres un miembro de la corte suprema de Mendoza en Argentina. Tienes que escribir un resumen de la seccion 'Resuelve' de una sentencia de la corte. Escribe tu respuesta en no menos de 150 palabras:\"\n",
    "summary_res = (index.query(query,llm=llm))\n",
    "print(summary_res)"
   ]
  },
  {
   "cell_type": "code",
   "execution_count": 221,
   "id": "06501739-8ae9-4c07-a3e5-c2a4503522b5",
   "metadata": {},
   "outputs": [],
   "source": [
    "prompt = f\"Eres un miembro de la corte suprena de Mendoza en Argentina. A partir del siguiente resumen de una setencia de la corte :\\n\\n```\\n{summary_ant}\\n\\n{summary_1}\\n\\n{summary_2}\\n\\n {summary_3}\\n\\n {summary_res}.\\n```\\n\\n\"\n",
    "prompt +=\"Explicar las causas detras de la decision final de la sentencia. Escribe un sumario de la corte en no menos de 250 palabras. Favor de no mencionar:\\n1. Los nombres de las secciones.\\n2. Los nombres de los casos.\\n3. Los nombres de los ministros de la corte.\\n4. Las fechas y la ubicacion de la corte.\\n\\n\"\n",
    "prompt +=\"Cuando escribas el sumario tener en cuenta que este puede ayudar en futura jurisprudencia.\" \n",
    "print(prompt)"
   ]
  },
  {
   "cell_type": "code",
   "execution_count": 222,
   "id": "67ab629e-17a8-497d-9357-d9647045b638",
   "metadata": {},
   "outputs": [],
   "source": [
    "print(llm(prompt,))"
   ]
  },
  {
   "cell_type": "markdown",
   "id": "ffd95b28-7288-4a23-b70b-6b77268a7912",
   "metadata": {},
   "source": [
    "# FUNCTIONS"
   ]
  },
  {
   "cell_type": "markdown",
   "id": "38c397a0-8688-43af-a280-bc6ce0c6f014",
   "metadata": {
    "tags": []
   },
   "source": [
    "## Create summary (ES)"
   ]
  },
  {
   "cell_type": "code",
   "execution_count": 93,
   "id": "ecd2e67e-bafe-4765-bfb7-92b3fb5644e3",
   "metadata": {},
   "outputs": [],
   "source": [
    "def create_summary_es(rule_file, embedding, llm):\n",
    "    loader = UnstructuredPDFLoader(rule_file)\n",
    "    #index = VectorstoreIndexCreator(embedding=embedding).from_loaders([loader])\n",
    "    #index.vectorstore.delete_collection()\n",
    "    index = VectorstoreIndexCreator(embedding=embedding).from_loaders([loader])\n",
    "    print(\"calculating ant\")\n",
    "    query = \"Eres un secretario de la corte suprema de Mendoza en Argentina. Tienes que escribir un resumen de la seccion 'Antecedentes' de una sentencia de la corte. Escribe tu respuesta en no mas de 150 palabras:\"\n",
    "    summary_ant = (index.query(query,llm=llm))\n",
    "    print(\"calculating 1\")\n",
    "    query = \"Eres un secretario de la corte suprema de Mendoza en Argentina. Tienes que escribir un resumen de la seccion 'Sobre la primera cuestion' de una sentencia de la corte. Escribe tu respuesta en no mas de 150 palabras:\"\n",
    "    summary_1 = (index.query(query,llm=llm))\n",
    "    print(\"calculating 2\")\n",
    "    query = \"Eres un secretario de la corte suprema de Mendoza en Argentina. Tienes que escribir un resumen de la seccion 'Sobre la segunda cuestion' de una sentencia de la corte. Escribe tu respuesta en no mas de 150 palabras:\"\n",
    "    summary_2 = (index.query(query,llm=llm))\n",
    "    print(\"calculating 3\")\n",
    "    query = \"Eres un secretario de la corte suprema de Mendoza en Argentina. Tienes que escribir un resumen de la seccion 'Sobre la tercera cuestion' de una sentencia de la corte. Escribe tu respuesta en no mas de 150 palabras:\"\n",
    "    summary_3 = (index.query(query,llm=llm))\n",
    "    print(\"calculating res\")\n",
    "    query = \"Eres un secreatrio de la corte suprema de Mendoza en Argentina. Tienes que escribir un resumen de la seccion 'Resuelve' de una sentencia de la corte. Escribe tu respuesta en no mas de 150 palabras:\"\n",
    "    summary_res = (index.query(query,llm=llm))\n",
    "    \n",
    "    prompt = f\"Eres un oficial perito de la corte suprema de Mendoza en Argentina. A partir del siguiente resumen de una sentencia de la corte :\\n\\n```\\n{summary_ant}\\n\\n{summary_1}\\n\\n{summary_2}\\n\\n {summary_3}\\n\\n {summary_res}.\\n```\\n\\n\"    \n",
    "    prompt +=\"Presentar un sumario en donde se expliquen las causas detras de la decision final de la sentencia. Escribir el sumario de la corte en no mas de 700 palabras.\"\n",
    "    prompt +=\"Favor de no mencionar NUNCA:\\n1. Los nombres de las secciones como ser: primera cuestion, segunda cuestion o tercera cuestion.\\n2. Los nombres de los casos.\\n3. Los nombres de los ministros de la corte.\\n4. Las fechas y la ubicacion de la corte.\\n5. La palabra corte\\n\\n\"\n",
    "    prompt +=\"Cuando escribas el sumario tener en cuenta que este puede ayudar en futura jurisprudencia. En caso de disidencia indicar el nombre del  ministro de la corte. \" \n",
    "    #print(prompt)\n",
    "    index.vectorstore.delete_collection()\n",
    "    print(\"calculating prompt\")\n",
    "    #print(prompt)\n",
    "    res = llm(prompt)\n",
    "    return res"
   ]
  },
  {
   "cell_type": "code",
   "execution_count": null,
   "id": "311fb22f-1211-41ba-b069-0883ff45116c",
   "metadata": {},
   "outputs": [],
   "source": [
    "prompt+=\"\"\" \n",
    "    \n",
    "Sabiendo que un sumario es una descripción resumida de las doctrinas contempladas en la sentencia judicial dado que en ella pueden tratarse diversas cuestiones jurídicas       \n",
    "Presentar un sumario en donde se expliquen las causas detras de la decision final de la sentencia. Escribir el sumario de la corte en no mas de 700 palabras.\"\n",
    "\n",
    "En el sumario incluir:\n",
    "\n",
    "1. Indicar que eventos o circunstancias son centrales para el caso?\n",
    "2. Indicar cómo se valoran las conductas o eventos en el contexto laboral (subjetiva y objetivamente)?\n",
    "3. Indicar como afectan estos hechos la relación entre las partes involucradas (empleador y empleado)?\n",
    "4. Indicar leyes, principios o derechos están en juego (tutela sindical, deber de fidelidad, igualdad de oportunidades, etc.)?\n",
    "5. Indicar qué determinación se hizo respecto a la legalidad de la conducta o evento en cuestión\n",
    "6. Indicar si hubo disidencia entre los jueces\n",
    "\n",
    "En el sumario no mencionar NUNCA:\n",
    "\n",
    "1. Los nombres de las secciones como ser: primera cuestion, segunda cuestion o tercera cuestion.\n",
    "2. Los nombres de los casos.\n",
    "3. Los nombres de los ministros de la corte.\n",
    "4. Las fechas y la ubicacion de la corte.\n",
    "5. La palabra corte\n",
    "6. Los nombres de las personas involucradas.\n",
    "Cuando escribas el sumario tener en cuenta que este puede ayudar en futura jurisprudencia.\n",
    "\n",
    "Limitarse a generar el sumario. No responder Por supuesto.\n",
    "\"\"\" "
   ]
  },
  {
   "cell_type": "markdown",
   "id": "ed53e5d6-3086-42a4-8c80-d1b82b085347",
   "metadata": {},
   "source": [
    "## Create Summary (EN)"
   ]
  },
  {
   "cell_type": "code",
   "execution_count": 16,
   "id": "e7637092-0217-49ac-ad2c-da063529a92b",
   "metadata": {
    "jupyter": {
     "source_hidden": true
    },
    "tags": []
   },
   "outputs": [],
   "source": [
    "def create_summary(rule_file, embedding, llm):\n",
    "    loader = UnstructuredPDFLoader(rule_file)\n",
    "    index = VectorstoreIndexCreator(embedding=embedding).from_loaders([loader])\n",
    "    index.vectorstorae.delete_collection()\n",
    "    index = VectorstoreIndexCreator(embedding=embedding).from_loaders([loader])\n",
    "    query = \"You are a member of the supreme court in Mendoza, Argentina. You have to write a summary of the section named 'Antecedentes' of a particular court ruling . Write your answer in spanish in no less than 150 words:\"\n",
    "    summary_ant = (index.query(query,llm=llm))\n",
    "    query = \"You are a member of the supreme court in Mendoza, Argentina. You have to write a summary of the section named 'Sobre la primera cuestion' of a particular court ruling . Write your answer in spanish in no less than 150 words::\"\n",
    "    summary_1 = (index.query(query,llm=llm))\n",
    "    query = \"You are a member of the supreme court in Mendoza, Argentina. You have to write a summary of the section named 'Sobre la segunda cuestion' of a particular court ruling . Write your answer in spanish in no less than 150 words::\"\n",
    "    summary_2 = (index.query(query,llm=llm))\n",
    "    query = \"You are a member of the supreme court in Mendoza, Argentina. You have to write a summary of the section named 'Sobre la tercera cuestion' of a particular court ruling . Write your answer in spanish in no less than 150 words::\"\n",
    "    summary_3 = (index.query(query,llm=llm))\n",
    "    query = \"You are a member of the supreme court in Mendoza, Argentina. You have to write a summary of the section named 'resuelve' of a particular court ruling . Write your answer in spanish in no less than 150 words::\"\n",
    "    summary_res = (index.query(query,llm=llm))\n",
    "\n",
    "    prompt = f\"You are a member of the supreme court, Argentina. Given the following summary of a particular court ruling:\\n\\n```\\n{summary_ant}\\n\\n{summary_1}\\n\\n{summary_2}\\n\\n {summary_3}\\n\\n {summary_res}.\\n```\\n\\n\"\n",
    "    prompt +=\"Write a court rule summary in spanish in no less than 150 words. Do not mention:\\n1. the name of the the sections.\\n2. the numbers of the cases.\\n3. the names of the ministers of the court.\\n4. dates and court locations..\\n\\n\"\n",
    "    prompt +=\"When writing the summary keep in mind it can help for future jurisprudence. Explain the causes behind the final decision. Translate your answer to spanish:\"\n",
    "    index.vectorstore.delete_collection()\n",
    "    return llm(prompt)\n"
   ]
  },
  {
   "cell_type": "code",
   "execution_count": 86,
   "id": "df52b6de-8d30-4e80-86ba-a990799c028d",
   "metadata": {},
   "outputs": [
    {
     "name": "stdout",
     "output_type": "stream",
     "text": [
      "calculating ant\n",
      "calculating 1\n",
      "calculating 2\n",
      "calculating 3\n",
      "calculating res\n",
      "calculating prompt\n",
      "Eres un oficial perito de la corte suprema de Mendoza en Argentina. A partir del siguiente resumen de una sentencia de la corte :\n",
      "\n",
      "```\n",
      " ¡Por supuesto! Aquí está el resumen de la sección \"Antecedentes\" de la sentencia de la Corte Suprema de Mendoza en Argentina, en español y con un límite de 150 palabras:\n",
      "\n",
      "En la causa N° 13-04795867-3/1, la Sala Segunda de la Excma. Suprema Corte de Justicia de Mendoza tomó en consideración la sentencia definitiva sobre el recurso extraordinario interpuesto por FINAMED S.A. contra la resolución de la Cámara de Apelaciones de Mendoza, que confirmó la sentencia de primera instancia que declaró la exclusión de tutela sindical de la trabajadora Nancy Elizabeth Rodríguez. Los señores ministros del tribunal establecieron el orden de estudio de la causa y se estableció que la sentencia es arbitraria por no tener en consideración las circunstancias del caso y por no evaluar la proporcionalidad de la medida de exclusión.\n",
      "\n",
      " ¡Por supuesto! Aquí está el resumen de la sección \"Sobre la primera cuestion\" de la sentencia de la Corte Suprema de Mendoza, en español y con un límite de 150 palabras:\n",
      "\n",
      "En la primera cuestion, la defensa argumenta que la sentencia es arbitraria por no tener en cuenta las circunstancias del caso y por no evaluar la proporcionalidad de la medida de exclusión de tutela sindical. La defensa también sostiene que la causal invocada no se evaluó adecuadamente y que se debe tener en cuenta la pérdida de confianza como causa de despido. La Corte considera que la sentencia debe ser revisada en base a las afirmaciones de la defensa.\n",
      "\n",
      " ¡Por supuesto! Aquí está el resumen de la sección \"Sobre la segunda cuestion\" de la sentencia de la Corte Suprema de Mendoza en Argentina, en español y con un límite de 150 palabras:\n",
      "\n",
      "En la segunda cuestion, la defensa argumenta que la sentencia es arbitraria al no tener en consideración las circunstancias del caso y la valoración de la injuria. La defensa sostiene que la causal invocada no se evaluó adecuadamente y que no se consideró la pérdida de confianza como causal de despido. La Corte, en cambio, consideró que la conducta de la demandada fue incompatible con el deber de fidelidad y que la pérdida de confianza fue justificada.\n",
      "\n",
      "  ¡Por supuesto! Aquí está mi resumen de la sección \"Sobre la tercera cuestion\" de la sentencia de la Corte Suprema de Mendoza en Argentina:\n",
      "\n",
      "En la tercera cuestion, la Sala Segunda de la Excma. Suprema Corte de Justicia consideró que la sanción impuesta por el empleador fue justificada, motivo de la exclusión de tutela sindical. La Sala evaluó los hechos y elementos probatorios en forma absurda, no teniendo en cuenta las circunstancias del caso, lo que fue controvertido por la defensa. Además, se evaluó la causal invocada y se consideró la pérdida de confianza como causal de despido. En consecuencia, el recurso extraordinario provincial interpuesto a fs. 07/25 no prospera.\n",
      "\n",
      "  ¡Por supuesto! Aquí está el resumen de la sección \"Resuelve\" de la sentencia de la Corte Suprema de Mendoza en Argentina:\n",
      "\n",
      "La Corte falló en definitiva y resolvió que el recurso extraordinario provincial interpuesto a fs. 07/25 no prospera. Se rechazó la pretensión de la recurrente y se impusieron costas a su favor. Además, se estableció que la sanción impuesta por el empleador fue justificada, lo que motivo la exclusión de tutela sindical. El Dr. José Valerio votó en disidencia..\n",
      "```\n",
      "\n",
      " \n",
      "    \n",
      "Sabiendo que un sumario es una descripción resumida de las doctrinas contempladas en la sentencia judicial dado que en ella pueden tratarse diversas cuestiones jurídicas       \n",
      "Presentar un sumario en donde se expliquen las causas detras de la decision final de la sentencia. Escribir el sumario de la corte en no mas de 700 palabras.\"\n",
      "\n",
      "En el sumario incluir:\n",
      "\n",
      "1. Indicar que eventos o circunstancias son centrales para el caso?\n",
      "2. Indicar cómo se valoran las conductas o eventos en el contexto laboral (subjetiva y objetivamente)?\n",
      "3. Indicar como afectan estos hechos la relación entre las partes involucradas (empleador y empleado)?\n",
      "4. Indicar leyes, principios o derechos están en juego (tutela sindical, deber de fidelidad, igualdad de oportunidades, etc.)?\n",
      "5. Indicar qué determinación se hizo respecto a la legalidad de la conducta o evento en cuestión\n",
      "6. Indicar si hubo disidencia entre los jueces\n",
      "\n",
      "En el sumario no mencionar NUNCA:\n",
      "\n",
      "1. Los nombres de las secciones como ser: primera cuestion, segunda cuestion o tercera cuestion.\n",
      "2. Los nombres de los casos.\n",
      "3. Los nombres de los ministros de la corte.\n",
      "4. Las fechas y la ubicacion de la corte.\n",
      "5. La palabra corte\n",
      "6. No mencionar nombres de los involucrados\n",
      "Cuando escribas el sumario tener en cuenta que este puede ayudar en futura jurisprudencia.\n",
      "\n",
      "Limitarse a generar el sumario. No responder Por supuesto.\n",
      "\n"
     ]
    }
   ],
   "source": [
    "file_name = \"/root/JurisGPT/rawdata/laboral/10000003247.pdf\"\n",
    "summary = create_summary_es(file_name, embedding = embedding, llm = llm)"
   ]
  },
  {
   "cell_type": "code",
   "execution_count": 87,
   "id": "f54b246d-d660-4b62-8ee0-4ed893eee16e",
   "metadata": {},
   "outputs": [
    {
     "name": "stdout",
     "output_type": "stream",
     "text": [
      " ¡Por supuesto! Aquí está el sumario de la sentencia de la Corte Suprema de Mendoza en Argentina, en español y con un límite de 700 palabras:\n",
      "\n",
      "El caso se refiere a la exclusión de tutela sindical de la trabajadora Nancy Elizabeth Rodríguez, quien fue despedida por su empleador, FINAMED S.A., por motivos de pérdida de confianza y falta de fidelidad. La defensa argumentó que la sentencia fue arbitraria al no tener en consideración las circunstancias del caso y la valoración de la injuria.\n",
      "\n",
      "El tribunal evaluó los hechos y elementos probatorios en forma absurda, no teniendo en cuenta las circunstancias del caso, lo que fue controvertido por la defensa. Se evaluó la causal invocada y se consideró la pérdida de confianza como causal de despido. La Corte falló en definitiva y resolvió que el recurso extraordinario provincial interpuesto a fs. 07/25 no prospera.\n",
      "\n",
      "Los hechos centrales del caso son la pérdida de confianza y la falta de fidelidad, que se evaluaron en el contexto laboral y se consideraron como causales del despido. La relación entre las partes involucradas se vio afectada por la conducta de la demandada, que se consideró incompatible con el deber de fidelidad.\n",
      "\n",
      "En cuanto a la legalidad de la conducta o evento en cuestión, la Corte evaluó la proporcionalidad de la medida de exclusión de tutela sindical y se determinó que la sanción impuesta por el empleador fue justificada. Además, se estableció que la pérdida de confianza fue justificada como causal de despido.\n",
      "\n",
      "No hubo disidencia entre los jueces en la determinación de la legalidad de la conducta o evento en cuestión. Sin embargo, el Dr. José Valerio votó en disidencia en cuanto a la resolución del recurso extraordinario provincial.\n",
      "\n",
      "En resumen, el caso se refiere a la exclusión de tutela sindical de una trabajadora debido a la pérdida de confianza y la falta de fidelidad. La Corte evaluó los hechos y elementos probatorios en forma absurda y se determinó que la sanción impuesta por el empleador fue justificada. La relación entre las partes involucradas se vio afectada por la conducta de la demandada, que se consideró incompatible con el deber de fidelidad.\n"
     ]
    }
   ],
   "source": [
    "print(summary)"
   ]
  },
  {
   "cell_type": "code",
   "execution_count": 108,
   "id": "e67174b2-12f0-45c3-8bcf-b78c21cd2600",
   "metadata": {},
   "outputs": [],
   "source": [
    "output_directory_path = \"/root/JurisGPT/data/laboral/qa/\"  \n",
    "name, extension = os.path.splitext(os.path.basename(file_name))\n",
    "summary_filename = f\"{name}_summary.txt\"\n",
    "summary_file_path = os.path.join(output_directory_path, summary_filename)\n",
    "with open(summary_file_path, 'w') as f:\n",
    "    f.write(summary)\n"
   ]
  },
  {
   "cell_type": "markdown",
   "id": "2cd83f15-7ec3-4090-9add-b6ff97fba189",
   "metadata": {
    "tags": []
   },
   "source": [
    "## Create summary from dir"
   ]
  },
  {
   "cell_type": "code",
   "execution_count": 33,
   "id": "dc34f7a1-2175-49d9-9b96-9201854e7f9a",
   "metadata": {},
   "outputs": [],
   "source": [
    "def create_summary_from_dir(directory_path, output_directory_path, embedding, llm):\n",
    "    import time\n",
    "    # Loop through each file in the directory\n",
    "    for filename in os.listdir(directory_path):\n",
    "        # Extract the file extension\n",
    "        name, extension = os.path.splitext(filename)\n",
    "        \n",
    "        # Build the full file path\n",
    "        file_path = os.path.join(directory_path, filename)\n",
    "        \n",
    "        # Skip directories, only work on PDF files\n",
    "        if os.path.isfile(file_path) and extension.lower() == '.pdf':\n",
    "            print(f'working on {file_path}')\n",
    "            # Generate summary\n",
    "            start_time = time.time()\n",
    "            summary = create_summary_es(file_path, embedding, llm)\n",
    "            stop_time = time.time()\n",
    "            \n",
    "            # Save summary to new file\n",
    "            summary_filename = f\"{name}_summary.txt\"\n",
    "            summary_file_path = os.path.join(output_directory_path, summary_filename)\n",
    "            \n",
    "            with open(summary_file_path, 'w') as f:\n",
    "                f.write(summary)\n",
    "            print(f'created {summary_file_path} in {stop_time - start_time} seconds')\n"
   ]
  },
  {
   "cell_type": "markdown",
   "id": "144ad149-3151-4150-ae62-8d6c7775a64c",
   "metadata": {},
   "source": [
    "## Calculate ROUGE metric"
   ]
  },
  {
   "cell_type": "code",
   "execution_count": 43,
   "id": "0a6b05f1-88a3-492d-9b42-ecb281871b03",
   "metadata": {},
   "outputs": [],
   "source": [
    "import os\n",
    "import re\n",
    "from rouge import Rouge\n",
    "\n",
    "def calculate_rouge(system_dir, model_dir, system_filename_pattern, model_filename_pattern):\n",
    "    # Initialize Rouge\n",
    "    rouge = Rouge()\n",
    "    \n",
    "    # Compile the regular expressions for filename patterns\n",
    "    system_re = re.compile(system_filename_pattern)\n",
    "    model_re = re.compile(model_filename_pattern)\n",
    "    \n",
    "    # Initialize storage for scores\n",
    "    all_scores = []\n",
    "\n",
    "    # Loop through the files in the system summaries directory\n",
    "    for system_filename in os.listdir(system_dir):\n",
    "        match = system_re.match(system_filename)\n",
    "        if not match:\n",
    "            continue\n",
    "\n",
    "        # Extract ID\n",
    "        system_id = match.groups()[0]\n",
    "\n",
    "        # Find the corresponding model summary file using ID\n",
    "        model_filename = f\"{system_id}_summary.txt\"\n",
    "        model_path = os.path.join(model_dir, model_filename)\n",
    "\n",
    "        # Check if model summary exists\n",
    "        if not os.path.exists(model_path):\n",
    "            print(f\"Model summary for {system_id} not found. Attempted to open {model_path}\")\n",
    "            continue\n",
    "\n",
    "        \n",
    "\n",
    "        # Check if model summary exists\n",
    "        if not os.path.exists(model_path):\n",
    "            print(f\"Model summary for {system_id} not found.\")\n",
    "            continue\n",
    "\n",
    "        # Read system and model summaries\n",
    "        with open(os.path.join(system_dir, system_filename), 'r', encoding='utf-8') as f:\n",
    "            system_summary = f.read().strip()\n",
    "            system_summary = re.sub('<.*?>', '', system_summary)\n",
    "            #print(system_summary)\n",
    "        \n",
    "        with open(model_path, 'r', encoding='utf-8') as f:\n",
    "            model_summary = f.read().strip()\n",
    "    \n",
    "        # Compute the ROUGE score\n",
    "        score = rouge.get_scores(system_summary, model_summary)[0]\n",
    "        #all_scores.append(score)\n",
    "        all_scores.append({\n",
    "            'system_id': system_id,\n",
    "            'rouge-1': score['rouge-1'],\n",
    "            'rouge-2': score['rouge-2'],\n",
    "            'rouge-l': score.get('rouge-l', {})  # Add this line to include ROUGE-L\n",
    "        })\n",
    "        # Compute the ROUGE score\n",
    "\n",
    "\n",
    "        # Extract ROUGE-1, ROUGE-2, and ROUGE-3 scores\n",
    "        #rouge_1 = score.get('rouge-1', {})\n",
    "        #rouge_2 = score.get('rouge-2', {})\n",
    "       \n",
    "        # Pretty-print scores\n",
    "        #print(f\"ROUGE scores for ID {system_id}:\")\n",
    "        #print(f\"  ROUGE-1: R: {rouge_1.get('r', 'N/A'):.4f}, P: {rouge_1.get('p', 'N/A'):.4f}, F: {rouge_1.get('f', 'N/A'):.4f}\")\n",
    "        #print(f\"  ROUGE-2: R: {rouge_2.get('r', 'N/A'):.4f}, P: {rouge_2.get('p', 'N/A'):.4f}, F: {rouge_2.get('f', 'N/A'):.4f}\")\n",
    "      \n",
    "        \n",
    "        #print(f\"ROUGE score for ID {system_id}: {score}\")\n",
    "\n",
    "    # If you want average scores, you can calculate that here from all_scores.\n",
    "    # ...\n",
    "\n",
    "    return all_scores\n"
   ]
  },
  {
   "cell_type": "markdown",
   "id": "997c8cab-e957-437d-9452-ca0ef1d612e2",
   "metadata": {},
   "source": [
    "## Print ROUGE TABLE"
   ]
  },
  {
   "cell_type": "code",
   "execution_count": 35,
   "id": "76070bc1-1dae-4c0c-b3d3-6b406ba10256",
   "metadata": {},
   "outputs": [],
   "source": [
    "import pandas as pd  # Don't forget to import pandas\n",
    "\n",
    "def print_rouge_table(all_scores):\n",
    "    pd.set_option('display.max_rows', None)\n",
    "    \n",
    "    system_ids = []\n",
    "    metrics = []\n",
    "    rs = []\n",
    "    ps = []\n",
    "    fs = []\n",
    "\n",
    "    # Loop through each dictionary to extract the values\n",
    "    for score_dict in all_scores:\n",
    "        system_id = score_dict['system_id']\n",
    "\n",
    "        for metric, values in score_dict.items():\n",
    "            if metric == 'system_id':\n",
    "                continue  # Skip the system_id, we've already saved it\n",
    "\n",
    "            system_ids.append(system_id)\n",
    "            metrics.append(metric)\n",
    "            rs.append(values['r'])\n",
    "            ps.append(values['p'])\n",
    "            fs.append(values['f'])\n",
    "\n",
    "    # Create the DataFrame\n",
    "    df_long = pd.DataFrame({\n",
    "        'system_id': system_ids,\n",
    "        'metric': metrics,\n",
    "        'r': rs,\n",
    "        'p': ps,\n",
    "        'f': fs\n",
    "    })\n",
    "\n",
    "    return df_long"
   ]
  },
  {
   "cell_type": "markdown",
   "id": "dd7a2c51-b6ee-4405-97ee-5281a277e656",
   "metadata": {
    "tags": []
   },
   "source": [
    "# UTILS"
   ]
  },
  {
   "cell_type": "markdown",
   "id": "e885c0c4-31c9-40d4-9387-ac5c353121e9",
   "metadata": {
    "tags": []
   },
   "source": [
    "## Stop LLAMA Jumpstart endpoint"
   ]
  },
  {
   "cell_type": "code",
   "execution_count": 115,
   "id": "9d34763d-9ee2-4da5-b82e-a94cf0d3b8e1",
   "metadata": {},
   "outputs": [
    {
     "data": {
      "text/plain": [
       "{'ResponseMetadata': {'RequestId': 'c3bf5110-22d1-43df-8c5b-c612bb5bc5fc',\n",
       "  'HTTPStatusCode': 200,\n",
       "  'HTTPHeaders': {'x-amzn-requestid': 'c3bf5110-22d1-43df-8c5b-c612bb5bc5fc',\n",
       "   'content-type': 'application/x-amz-json-1.1',\n",
       "   'content-length': '0',\n",
       "   'date': 'Sat, 02 Sep 2023 03:23:56 GMT'},\n",
       "  'RetryAttempts': 0}}"
      ]
     },
     "execution_count": 115,
     "metadata": {},
     "output_type": "execute_result"
    }
   ],
   "source": [
    "import boto3\n",
    "\n",
    "aws_region = boto3.Session().region_name\n",
    "endpoint_name = \"jumpstart-dft-meta-textgeneration-llama-2-70b-f\"\n",
    "\n",
    "# Create a low-level SageMaker service client.\n",
    "sagemaker_client = boto3.client('sagemaker', region_name=aws_region)\n",
    "\n",
    "# Delete endpoint\n",
    "sagemaker_client.delete_endpoint(EndpointName=endpoint_name)"
   ]
  },
  {
   "cell_type": "markdown",
   "id": "348d7eba-5a67-4237-b63b-3b4bbcddb7c1",
   "metadata": {},
   "source": [
    "# MAIN"
   ]
  },
  {
   "cell_type": "markdown",
   "id": "3ec2b1f3-2465-43cb-82b0-c1707d7a1e9b",
   "metadata": {},
   "source": [
    "## Create Summaries"
   ]
  },
  {
   "cell_type": "code",
   "execution_count": 99,
   "id": "0ebef33f-f5c4-4023-8ddb-724fd77bf462",
   "metadata": {},
   "outputs": [
    {
     "name": "stdout",
     "output_type": "stream",
     "text": [
      "working on /root/JurisGPT/rawdata/laboral/10000003220.pdf\n",
      "calculating ant\n",
      "calculating 1\n",
      "calculating 2\n",
      "calculating 3\n",
      "calculating res\n",
      "calculating prompt\n",
      "created /root/JurisGPT/data/laboral/qa/10000003220_summary.txt in 52.93086791038513 seconds\n",
      "working on /root/JurisGPT/rawdata/laboral/10000003219.pdf\n",
      "calculating ant\n",
      "calculating 1\n",
      "calculating 2\n",
      "calculating 3\n",
      "calculating res\n",
      "calculating prompt\n",
      "created /root/JurisGPT/data/laboral/qa/10000003219_summary.txt in 66.93007588386536 seconds\n",
      "working on /root/JurisGPT/rawdata/laboral/10000003275.pdf\n",
      "calculating ant\n",
      "calculating 1\n",
      "calculating 2\n",
      "calculating 3\n",
      "calculating res\n",
      "calculating prompt\n",
      "created /root/JurisGPT/data/laboral/qa/10000003275_summary.txt in 68.05711078643799 seconds\n",
      "working on /root/JurisGPT/rawdata/laboral/10000003307.pdf\n",
      "calculating ant\n",
      "calculating 1\n",
      "calculating 2\n",
      "calculating 3\n",
      "calculating res\n",
      "calculating prompt\n",
      "created /root/JurisGPT/data/laboral/qa/10000003307_summary.txt in 70.96445655822754 seconds\n",
      "working on /root/JurisGPT/rawdata/laboral/10000003221.pdf\n",
      "calculating ant\n",
      "calculating 1\n",
      "calculating 2\n",
      "calculating 3\n",
      "calculating res\n",
      "calculating prompt\n",
      "created /root/JurisGPT/data/laboral/qa/10000003221_summary.txt in 60.010295391082764 seconds\n",
      "working on /root/JurisGPT/rawdata/laboral/10000003292.pdf\n",
      "calculating ant\n",
      "calculating 1\n",
      "calculating 2\n",
      "calculating 3\n",
      "calculating res\n",
      "calculating prompt\n",
      "created /root/JurisGPT/data/laboral/qa/10000003292_summary.txt in 67.76415061950684 seconds\n",
      "working on /root/JurisGPT/rawdata/laboral/10000003247.pdf\n",
      "calculating ant\n",
      "calculating 1\n",
      "calculating 2\n",
      "calculating 3\n",
      "calculating res\n",
      "calculating prompt\n",
      "created /root/JurisGPT/data/laboral/qa/10000003247_summary.txt in 66.35892963409424 seconds\n",
      "working on /root/JurisGPT/rawdata/laboral/10000003368.pdf\n",
      "calculating ant\n",
      "calculating 1\n",
      "calculating 2\n",
      "calculating 3\n",
      "calculating res\n",
      "calculating prompt\n",
      "created /root/JurisGPT/data/laboral/qa/10000003368_summary.txt in 91.6687524318695 seconds\n",
      "working on /root/JurisGPT/rawdata/laboral/10000003258.pdf\n",
      "calculating ant\n",
      "calculating 1\n",
      "calculating 2\n",
      "calculating 3\n",
      "calculating res\n",
      "calculating prompt\n",
      "created /root/JurisGPT/data/laboral/qa/10000003258_summary.txt in 60.92667841911316 seconds\n",
      "working on /root/JurisGPT/rawdata/laboral/10000003300.pdf\n",
      "calculating ant\n",
      "calculating 1\n",
      "calculating 2\n",
      "calculating 3\n",
      "calculating res\n",
      "calculating prompt\n",
      "created /root/JurisGPT/data/laboral/qa/10000003300_summary.txt in 66.34078788757324 seconds\n"
     ]
    }
   ],
   "source": [
    "directory_path = \"/root/JurisGPT/rawdata/laboral/\"  \n",
    "output_directory_path = \"/root/JurisGPT/data/laboral/qa/\"  \n",
    "create_summary_from_dir(directory_path, output_directory_path, embedding = embedding, llm = llm)"
   ]
  },
  {
   "cell_type": "markdown",
   "id": "730628bc-c6bc-4230-9f81-4613da758629",
   "metadata": {
    "tags": []
   },
   "source": [
    "## Calculate ROUGE"
   ]
  },
  {
   "cell_type": "markdown",
   "id": "af048859-a98c-451b-87e1-5afde5b17528",
   "metadata": {},
   "source": [
    "The ROUGE-1 metric is a type of Recall-Oriented Understudy for Gisting Evaluation (ROUGE) score that is commonly used for evaluating the quality of summaries by comparing them to reference summaries. Specifically, ROUGE-1 measures the overlap of unigrams (single words) between the generated summary and the reference summary.\n",
    "\n",
    "The ROUGE-1 score comprises three values:\n",
    "\n",
    "1. **Precision (P)**: This measures the number of overlapping unigrams found in both the generated summary and the reference summary, divided by the total number of unigrams in the generated summary. In essence, precision answers the question: \"Of all the unigrams in the generated summary, how many are in the reference summary?\"\n",
    "   \\[\n",
    "   \\text{Precision} = \\frac{\\text{Number of overlapping unigrams}}{\\text{Total number of unigrams in generated summary}}\n",
    "   \\]\n",
    "\n",
    "2. **Recall (R)**: This measures the number of overlapping unigrams found in both the generated summary and the reference summary, divided by the total number of unigrams in the reference summary. Recall answers the question: \"Of all the unigrams in the reference summary, how many are in the generated summary?\"\n",
    "   \\[\n",
    "   \\text{Recall} = \\frac{\\text{Number of overlapping unigrams}}{\\text{Total number of unigrams in reference summary}}\n",
    "   \\]\n",
    "\n",
    "3. **F1 Score (F)**: This is the harmonic mean of precision and recall and serves as a single number that balances the trade-off between precision and recall.\n",
    "   \\[\n",
    "   \\text{F1 Score} = \\frac{2 \\times \\text{Precision} \\times \\text{Recall}}{\\text{Precision} + \\text{Recall}}\n",
    "   \\]\n",
    "\n",
    "ROUGE-1 is particularly useful for assessing the quality of extractive summaries, where sentences or phrases are selected from the original text to form a summary. The metric can also be used for abstractive summaries but may not capture the quality of the summary as effectively as when combined with other ROUGE metrics like ROUGE-2 (bigram overlap) or ROUGE-L (longest common subsequence)."
   ]
  },
  {
   "cell_type": "markdown",
   "id": "c00213ec-362d-4965-a2f0-a4a0a5fecec9",
   "metadata": {},
   "source": [
    "# 7B Results"
   ]
  },
  {
   "cell_type": "code",
   "execution_count": 112,
   "id": "0eacb802-e06e-475d-83e5-cb27047f2f79",
   "metadata": {},
   "outputs": [],
   "source": [
    "# Paths and patterns\n",
    "system_dir = '/root/JurisGPT/rawdata/laboral/sumarios/'\n",
    "model_dir = '/root/JurisGPT/data/laboral/qa/7b/'\n",
    "system_filename_pattern = r'(\\d+)\\.txt'\n",
    "model_filename_pattern = r'(\\d+)_summary\\.txt'\n",
    "# Calculate ROUGE\n",
    "all_scores = calculate_rouge(system_dir, model_dir, system_filename_pattern, model_filename_pattern)"
   ]
  },
  {
   "cell_type": "code",
   "execution_count": 114,
   "id": "ba758a49-02f3-4248-aa96-d6a79b44f309",
   "metadata": {},
   "outputs": [
    {
     "data": {
      "text/html": [
       "<div>\n",
       "<style scoped>\n",
       "    .dataframe tbody tr th:only-of-type {\n",
       "        vertical-align: middle;\n",
       "    }\n",
       "\n",
       "    .dataframe tbody tr th {\n",
       "        vertical-align: top;\n",
       "    }\n",
       "\n",
       "    .dataframe thead th {\n",
       "        text-align: right;\n",
       "    }\n",
       "</style>\n",
       "<table border=\"1\" class=\"dataframe\">\n",
       "  <thead>\n",
       "    <tr style=\"text-align: right;\">\n",
       "      <th></th>\n",
       "      <th>system_id</th>\n",
       "      <th>metric</th>\n",
       "      <th>r</th>\n",
       "      <th>p</th>\n",
       "      <th>f</th>\n",
       "    </tr>\n",
       "  </thead>\n",
       "  <tbody>\n",
       "    <tr>\n",
       "      <th>0</th>\n",
       "      <td>10000003275</td>\n",
       "      <td>rouge-1</td>\n",
       "      <td>0.245455</td>\n",
       "      <td>0.221311</td>\n",
       "      <td>0.232759</td>\n",
       "    </tr>\n",
       "    <tr>\n",
       "      <th>3</th>\n",
       "      <td>10000003307</td>\n",
       "      <td>rouge-1</td>\n",
       "      <td>0.319277</td>\n",
       "      <td>0.162577</td>\n",
       "      <td>0.215447</td>\n",
       "    </tr>\n",
       "    <tr>\n",
       "      <th>6</th>\n",
       "      <td>10000003220</td>\n",
       "      <td>rouge-1</td>\n",
       "      <td>0.179856</td>\n",
       "      <td>0.193798</td>\n",
       "      <td>0.186567</td>\n",
       "    </tr>\n",
       "    <tr>\n",
       "      <th>9</th>\n",
       "      <td>10000003219</td>\n",
       "      <td>rouge-1</td>\n",
       "      <td>0.276730</td>\n",
       "      <td>0.129412</td>\n",
       "      <td>0.176353</td>\n",
       "    </tr>\n",
       "    <tr>\n",
       "      <th>12</th>\n",
       "      <td>10000003258</td>\n",
       "      <td>rouge-1</td>\n",
       "      <td>0.327381</td>\n",
       "      <td>0.211538</td>\n",
       "      <td>0.257009</td>\n",
       "    </tr>\n",
       "    <tr>\n",
       "      <th>15</th>\n",
       "      <td>10000003300</td>\n",
       "      <td>rouge-1</td>\n",
       "      <td>0.322404</td>\n",
       "      <td>0.243802</td>\n",
       "      <td>0.277647</td>\n",
       "    </tr>\n",
       "    <tr>\n",
       "      <th>18</th>\n",
       "      <td>10000003368</td>\n",
       "      <td>rouge-1</td>\n",
       "      <td>0.227027</td>\n",
       "      <td>0.214286</td>\n",
       "      <td>0.220472</td>\n",
       "    </tr>\n",
       "    <tr>\n",
       "      <th>21</th>\n",
       "      <td>10000003221</td>\n",
       "      <td>rouge-1</td>\n",
       "      <td>0.349315</td>\n",
       "      <td>0.262887</td>\n",
       "      <td>0.300000</td>\n",
       "    </tr>\n",
       "    <tr>\n",
       "      <th>24</th>\n",
       "      <td>10000003292</td>\n",
       "      <td>rouge-1</td>\n",
       "      <td>0.229665</td>\n",
       "      <td>0.149533</td>\n",
       "      <td>0.181132</td>\n",
       "    </tr>\n",
       "    <tr>\n",
       "      <th>27</th>\n",
       "      <td>10000003247</td>\n",
       "      <td>rouge-1</td>\n",
       "      <td>0.262195</td>\n",
       "      <td>0.210784</td>\n",
       "      <td>0.233696</td>\n",
       "    </tr>\n",
       "  </tbody>\n",
       "</table>\n",
       "</div>"
      ],
      "text/plain": [
       "      system_id   metric         r         p         f\n",
       "0   10000003275  rouge-1  0.245455  0.221311  0.232759\n",
       "3   10000003307  rouge-1  0.319277  0.162577  0.215447\n",
       "6   10000003220  rouge-1  0.179856  0.193798  0.186567\n",
       "9   10000003219  rouge-1  0.276730  0.129412  0.176353\n",
       "12  10000003258  rouge-1  0.327381  0.211538  0.257009\n",
       "15  10000003300  rouge-1  0.322404  0.243802  0.277647\n",
       "18  10000003368  rouge-1  0.227027  0.214286  0.220472\n",
       "21  10000003221  rouge-1  0.349315  0.262887  0.300000\n",
       "24  10000003292  rouge-1  0.229665  0.149533  0.181132\n",
       "27  10000003247  rouge-1  0.262195  0.210784  0.233696"
      ]
     },
     "execution_count": 114,
     "metadata": {},
     "output_type": "execute_result"
    }
   ],
   "source": [
    "rouge_table = print_rouge_table(all_scores)\n",
    "rouge_table.query(\"metric == 'rouge-1'\")"
   ]
  },
  {
   "cell_type": "code",
   "execution_count": 115,
   "id": "39ae4dec-42ee-410c-9dd4-3b6f9d3cb12b",
   "metadata": {},
   "outputs": [
    {
     "data": {
      "text/plain": [
       "(0.27393049419520055, 0.05468252084765027)"
      ]
     },
     "execution_count": 115,
     "metadata": {},
     "output_type": "execute_result"
    }
   ],
   "source": [
    "(rouge_table.query(\"metric == 'rouge-1'\")['r'].mean(),\n",
    "rouge_table.query(\"metric == 'rouge-1'\")['r'].std())"
   ]
  },
  {
   "cell_type": "markdown",
   "id": "f81738e0-37ce-4014-ad16-85638e9e502b",
   "metadata": {},
   "source": [
    "# 13B results"
   ]
  },
  {
   "cell_type": "code",
   "execution_count": 104,
   "id": "10f197ee-c526-4d7b-bbb2-b7d7ef7e0ee3",
   "metadata": {},
   "outputs": [],
   "source": [
    "# Paths and patterns\n",
    "system_dir = '/root/JurisGPT/rawdata/laboral/sumarios/'\n",
    "model_dir = '/root/JurisGPT/data/laboral/qa/13b/'\n",
    "system_filename_pattern = r'(\\d+)\\.txt'\n",
    "model_filename_pattern = r'(\\d+)_summary\\.txt'\n",
    "# Calculate ROUGE\n",
    "all_scores = calculate_rouge(system_dir, model_dir, system_filename_pattern, model_filename_pattern)"
   ]
  },
  {
   "cell_type": "code",
   "execution_count": 105,
   "id": "729b75f4-f39b-4ee4-bdac-d8eb2da01ed2",
   "metadata": {},
   "outputs": [
    {
     "data": {
      "text/html": [
       "<div>\n",
       "<style scoped>\n",
       "    .dataframe tbody tr th:only-of-type {\n",
       "        vertical-align: middle;\n",
       "    }\n",
       "\n",
       "    .dataframe tbody tr th {\n",
       "        vertical-align: top;\n",
       "    }\n",
       "\n",
       "    .dataframe thead th {\n",
       "        text-align: right;\n",
       "    }\n",
       "</style>\n",
       "<table border=\"1\" class=\"dataframe\">\n",
       "  <thead>\n",
       "    <tr style=\"text-align: right;\">\n",
       "      <th></th>\n",
       "      <th>system_id</th>\n",
       "      <th>metric</th>\n",
       "      <th>r</th>\n",
       "      <th>p</th>\n",
       "      <th>f</th>\n",
       "    </tr>\n",
       "  </thead>\n",
       "  <tbody>\n",
       "    <tr>\n",
       "      <th>0</th>\n",
       "      <td>10000003275</td>\n",
       "      <td>rouge-1</td>\n",
       "      <td>0.283688</td>\n",
       "      <td>0.163934</td>\n",
       "      <td>0.207792</td>\n",
       "    </tr>\n",
       "    <tr>\n",
       "      <th>3</th>\n",
       "      <td>10000003307</td>\n",
       "      <td>rouge-1</td>\n",
       "      <td>0.352459</td>\n",
       "      <td>0.131902</td>\n",
       "      <td>0.191964</td>\n",
       "    </tr>\n",
       "    <tr>\n",
       "      <th>6</th>\n",
       "      <td>10000003220</td>\n",
       "      <td>rouge-1</td>\n",
       "      <td>0.141935</td>\n",
       "      <td>0.170543</td>\n",
       "      <td>0.154930</td>\n",
       "    </tr>\n",
       "    <tr>\n",
       "      <th>9</th>\n",
       "      <td>10000003219</td>\n",
       "      <td>rouge-1</td>\n",
       "      <td>0.314050</td>\n",
       "      <td>0.111765</td>\n",
       "      <td>0.164859</td>\n",
       "    </tr>\n",
       "    <tr>\n",
       "      <th>12</th>\n",
       "      <td>10000003258</td>\n",
       "      <td>rouge-1</td>\n",
       "      <td>0.281879</td>\n",
       "      <td>0.161538</td>\n",
       "      <td>0.205379</td>\n",
       "    </tr>\n",
       "    <tr>\n",
       "      <th>15</th>\n",
       "      <td>10000003300</td>\n",
       "      <td>rouge-1</td>\n",
       "      <td>0.379032</td>\n",
       "      <td>0.194215</td>\n",
       "      <td>0.256831</td>\n",
       "    </tr>\n",
       "    <tr>\n",
       "      <th>18</th>\n",
       "      <td>10000003368</td>\n",
       "      <td>rouge-1</td>\n",
       "      <td>0.230216</td>\n",
       "      <td>0.163265</td>\n",
       "      <td>0.191045</td>\n",
       "    </tr>\n",
       "    <tr>\n",
       "      <th>21</th>\n",
       "      <td>10000003221</td>\n",
       "      <td>rouge-1</td>\n",
       "      <td>0.315789</td>\n",
       "      <td>0.247423</td>\n",
       "      <td>0.277457</td>\n",
       "    </tr>\n",
       "    <tr>\n",
       "      <th>24</th>\n",
       "      <td>10000003292</td>\n",
       "      <td>rouge-1</td>\n",
       "      <td>0.299320</td>\n",
       "      <td>0.137072</td>\n",
       "      <td>0.188034</td>\n",
       "    </tr>\n",
       "    <tr>\n",
       "      <th>27</th>\n",
       "      <td>10000003247</td>\n",
       "      <td>rouge-1</td>\n",
       "      <td>0.286765</td>\n",
       "      <td>0.191176</td>\n",
       "      <td>0.229412</td>\n",
       "    </tr>\n",
       "  </tbody>\n",
       "</table>\n",
       "</div>"
      ],
      "text/plain": [
       "      system_id   metric         r         p         f\n",
       "0   10000003275  rouge-1  0.283688  0.163934  0.207792\n",
       "3   10000003307  rouge-1  0.352459  0.131902  0.191964\n",
       "6   10000003220  rouge-1  0.141935  0.170543  0.154930\n",
       "9   10000003219  rouge-1  0.314050  0.111765  0.164859\n",
       "12  10000003258  rouge-1  0.281879  0.161538  0.205379\n",
       "15  10000003300  rouge-1  0.379032  0.194215  0.256831\n",
       "18  10000003368  rouge-1  0.230216  0.163265  0.191045\n",
       "21  10000003221  rouge-1  0.315789  0.247423  0.277457\n",
       "24  10000003292  rouge-1  0.299320  0.137072  0.188034\n",
       "27  10000003247  rouge-1  0.286765  0.191176  0.229412"
      ]
     },
     "execution_count": 105,
     "metadata": {},
     "output_type": "execute_result"
    }
   ],
   "source": [
    "rouge_table = print_rouge_table(all_scores)\n",
    "rouge_table.query(\"metric == 'rouge-1'\")"
   ]
  },
  {
   "cell_type": "code",
   "execution_count": 111,
   "id": "b720c08e-7c66-4cb6-853d-a47648a29fdc",
   "metadata": {},
   "outputs": [
    {
     "data": {
      "text/plain": [
       "(0.2885133217794919, 0.06561640326263223)"
      ]
     },
     "execution_count": 111,
     "metadata": {},
     "output_type": "execute_result"
    }
   ],
   "source": [
    "(rouge_table.query(\"metric == 'rouge-1'\")['r'].mean(),\n",
    "rouge_table.query(\"metric == 'rouge-1'\")['r'].std())"
   ]
  },
  {
   "cell_type": "code",
   "execution_count": null,
   "id": "9693cb61-c93d-45dd-8f43-2c167d4de023",
   "metadata": {},
   "outputs": [],
   "source": []
  }
 ],
 "metadata": {
  "availableInstances": [
   {
    "_defaultOrder": 0,
    "_isFastLaunch": true,
    "category": "General purpose",
    "gpuNum": 0,
    "hideHardwareSpecs": false,
    "memoryGiB": 4,
    "name": "ml.t3.medium",
    "vcpuNum": 2
   },
   {
    "_defaultOrder": 1,
    "_isFastLaunch": false,
    "category": "General purpose",
    "gpuNum": 0,
    "hideHardwareSpecs": false,
    "memoryGiB": 8,
    "name": "ml.t3.large",
    "vcpuNum": 2
   },
   {
    "_defaultOrder": 2,
    "_isFastLaunch": false,
    "category": "General purpose",
    "gpuNum": 0,
    "hideHardwareSpecs": false,
    "memoryGiB": 16,
    "name": "ml.t3.xlarge",
    "vcpuNum": 4
   },
   {
    "_defaultOrder": 3,
    "_isFastLaunch": false,
    "category": "General purpose",
    "gpuNum": 0,
    "hideHardwareSpecs": false,
    "memoryGiB": 32,
    "name": "ml.t3.2xlarge",
    "vcpuNum": 8
   },
   {
    "_defaultOrder": 4,
    "_isFastLaunch": true,
    "category": "General purpose",
    "gpuNum": 0,
    "hideHardwareSpecs": false,
    "memoryGiB": 8,
    "name": "ml.m5.large",
    "vcpuNum": 2
   },
   {
    "_defaultOrder": 5,
    "_isFastLaunch": false,
    "category": "General purpose",
    "gpuNum": 0,
    "hideHardwareSpecs": false,
    "memoryGiB": 16,
    "name": "ml.m5.xlarge",
    "vcpuNum": 4
   },
   {
    "_defaultOrder": 6,
    "_isFastLaunch": false,
    "category": "General purpose",
    "gpuNum": 0,
    "hideHardwareSpecs": false,
    "memoryGiB": 32,
    "name": "ml.m5.2xlarge",
    "vcpuNum": 8
   },
   {
    "_defaultOrder": 7,
    "_isFastLaunch": false,
    "category": "General purpose",
    "gpuNum": 0,
    "hideHardwareSpecs": false,
    "memoryGiB": 64,
    "name": "ml.m5.4xlarge",
    "vcpuNum": 16
   },
   {
    "_defaultOrder": 8,
    "_isFastLaunch": false,
    "category": "General purpose",
    "gpuNum": 0,
    "hideHardwareSpecs": false,
    "memoryGiB": 128,
    "name": "ml.m5.8xlarge",
    "vcpuNum": 32
   },
   {
    "_defaultOrder": 9,
    "_isFastLaunch": false,
    "category": "General purpose",
    "gpuNum": 0,
    "hideHardwareSpecs": false,
    "memoryGiB": 192,
    "name": "ml.m5.12xlarge",
    "vcpuNum": 48
   },
   {
    "_defaultOrder": 10,
    "_isFastLaunch": false,
    "category": "General purpose",
    "gpuNum": 0,
    "hideHardwareSpecs": false,
    "memoryGiB": 256,
    "name": "ml.m5.16xlarge",
    "vcpuNum": 64
   },
   {
    "_defaultOrder": 11,
    "_isFastLaunch": false,
    "category": "General purpose",
    "gpuNum": 0,
    "hideHardwareSpecs": false,
    "memoryGiB": 384,
    "name": "ml.m5.24xlarge",
    "vcpuNum": 96
   },
   {
    "_defaultOrder": 12,
    "_isFastLaunch": false,
    "category": "General purpose",
    "gpuNum": 0,
    "hideHardwareSpecs": false,
    "memoryGiB": 8,
    "name": "ml.m5d.large",
    "vcpuNum": 2
   },
   {
    "_defaultOrder": 13,
    "_isFastLaunch": false,
    "category": "General purpose",
    "gpuNum": 0,
    "hideHardwareSpecs": false,
    "memoryGiB": 16,
    "name": "ml.m5d.xlarge",
    "vcpuNum": 4
   },
   {
    "_defaultOrder": 14,
    "_isFastLaunch": false,
    "category": "General purpose",
    "gpuNum": 0,
    "hideHardwareSpecs": false,
    "memoryGiB": 32,
    "name": "ml.m5d.2xlarge",
    "vcpuNum": 8
   },
   {
    "_defaultOrder": 15,
    "_isFastLaunch": false,
    "category": "General purpose",
    "gpuNum": 0,
    "hideHardwareSpecs": false,
    "memoryGiB": 64,
    "name": "ml.m5d.4xlarge",
    "vcpuNum": 16
   },
   {
    "_defaultOrder": 16,
    "_isFastLaunch": false,
    "category": "General purpose",
    "gpuNum": 0,
    "hideHardwareSpecs": false,
    "memoryGiB": 128,
    "name": "ml.m5d.8xlarge",
    "vcpuNum": 32
   },
   {
    "_defaultOrder": 17,
    "_isFastLaunch": false,
    "category": "General purpose",
    "gpuNum": 0,
    "hideHardwareSpecs": false,
    "memoryGiB": 192,
    "name": "ml.m5d.12xlarge",
    "vcpuNum": 48
   },
   {
    "_defaultOrder": 18,
    "_isFastLaunch": false,
    "category": "General purpose",
    "gpuNum": 0,
    "hideHardwareSpecs": false,
    "memoryGiB": 256,
    "name": "ml.m5d.16xlarge",
    "vcpuNum": 64
   },
   {
    "_defaultOrder": 19,
    "_isFastLaunch": false,
    "category": "General purpose",
    "gpuNum": 0,
    "hideHardwareSpecs": false,
    "memoryGiB": 384,
    "name": "ml.m5d.24xlarge",
    "vcpuNum": 96
   },
   {
    "_defaultOrder": 20,
    "_isFastLaunch": false,
    "category": "General purpose",
    "gpuNum": 0,
    "hideHardwareSpecs": true,
    "memoryGiB": 0,
    "name": "ml.geospatial.interactive",
    "supportedImageNames": [
     "sagemaker-geospatial-v1-0"
    ],
    "vcpuNum": 0
   },
   {
    "_defaultOrder": 21,
    "_isFastLaunch": true,
    "category": "Compute optimized",
    "gpuNum": 0,
    "hideHardwareSpecs": false,
    "memoryGiB": 4,
    "name": "ml.c5.large",
    "vcpuNum": 2
   },
   {
    "_defaultOrder": 22,
    "_isFastLaunch": false,
    "category": "Compute optimized",
    "gpuNum": 0,
    "hideHardwareSpecs": false,
    "memoryGiB": 8,
    "name": "ml.c5.xlarge",
    "vcpuNum": 4
   },
   {
    "_defaultOrder": 23,
    "_isFastLaunch": false,
    "category": "Compute optimized",
    "gpuNum": 0,
    "hideHardwareSpecs": false,
    "memoryGiB": 16,
    "name": "ml.c5.2xlarge",
    "vcpuNum": 8
   },
   {
    "_defaultOrder": 24,
    "_isFastLaunch": false,
    "category": "Compute optimized",
    "gpuNum": 0,
    "hideHardwareSpecs": false,
    "memoryGiB": 32,
    "name": "ml.c5.4xlarge",
    "vcpuNum": 16
   },
   {
    "_defaultOrder": 25,
    "_isFastLaunch": false,
    "category": "Compute optimized",
    "gpuNum": 0,
    "hideHardwareSpecs": false,
    "memoryGiB": 72,
    "name": "ml.c5.9xlarge",
    "vcpuNum": 36
   },
   {
    "_defaultOrder": 26,
    "_isFastLaunch": false,
    "category": "Compute optimized",
    "gpuNum": 0,
    "hideHardwareSpecs": false,
    "memoryGiB": 96,
    "name": "ml.c5.12xlarge",
    "vcpuNum": 48
   },
   {
    "_defaultOrder": 27,
    "_isFastLaunch": false,
    "category": "Compute optimized",
    "gpuNum": 0,
    "hideHardwareSpecs": false,
    "memoryGiB": 144,
    "name": "ml.c5.18xlarge",
    "vcpuNum": 72
   },
   {
    "_defaultOrder": 28,
    "_isFastLaunch": false,
    "category": "Compute optimized",
    "gpuNum": 0,
    "hideHardwareSpecs": false,
    "memoryGiB": 192,
    "name": "ml.c5.24xlarge",
    "vcpuNum": 96
   },
   {
    "_defaultOrder": 29,
    "_isFastLaunch": true,
    "category": "Accelerated computing",
    "gpuNum": 1,
    "hideHardwareSpecs": false,
    "memoryGiB": 16,
    "name": "ml.g4dn.xlarge",
    "vcpuNum": 4
   },
   {
    "_defaultOrder": 30,
    "_isFastLaunch": false,
    "category": "Accelerated computing",
    "gpuNum": 1,
    "hideHardwareSpecs": false,
    "memoryGiB": 32,
    "name": "ml.g4dn.2xlarge",
    "vcpuNum": 8
   },
   {
    "_defaultOrder": 31,
    "_isFastLaunch": false,
    "category": "Accelerated computing",
    "gpuNum": 1,
    "hideHardwareSpecs": false,
    "memoryGiB": 64,
    "name": "ml.g4dn.4xlarge",
    "vcpuNum": 16
   },
   {
    "_defaultOrder": 32,
    "_isFastLaunch": false,
    "category": "Accelerated computing",
    "gpuNum": 1,
    "hideHardwareSpecs": false,
    "memoryGiB": 128,
    "name": "ml.g4dn.8xlarge",
    "vcpuNum": 32
   },
   {
    "_defaultOrder": 33,
    "_isFastLaunch": false,
    "category": "Accelerated computing",
    "gpuNum": 4,
    "hideHardwareSpecs": false,
    "memoryGiB": 192,
    "name": "ml.g4dn.12xlarge",
    "vcpuNum": 48
   },
   {
    "_defaultOrder": 34,
    "_isFastLaunch": false,
    "category": "Accelerated computing",
    "gpuNum": 1,
    "hideHardwareSpecs": false,
    "memoryGiB": 256,
    "name": "ml.g4dn.16xlarge",
    "vcpuNum": 64
   },
   {
    "_defaultOrder": 35,
    "_isFastLaunch": false,
    "category": "Accelerated computing",
    "gpuNum": 1,
    "hideHardwareSpecs": false,
    "memoryGiB": 61,
    "name": "ml.p3.2xlarge",
    "vcpuNum": 8
   },
   {
    "_defaultOrder": 36,
    "_isFastLaunch": false,
    "category": "Accelerated computing",
    "gpuNum": 4,
    "hideHardwareSpecs": false,
    "memoryGiB": 244,
    "name": "ml.p3.8xlarge",
    "vcpuNum": 32
   },
   {
    "_defaultOrder": 37,
    "_isFastLaunch": false,
    "category": "Accelerated computing",
    "gpuNum": 8,
    "hideHardwareSpecs": false,
    "memoryGiB": 488,
    "name": "ml.p3.16xlarge",
    "vcpuNum": 64
   },
   {
    "_defaultOrder": 38,
    "_isFastLaunch": false,
    "category": "Accelerated computing",
    "gpuNum": 8,
    "hideHardwareSpecs": false,
    "memoryGiB": 768,
    "name": "ml.p3dn.24xlarge",
    "vcpuNum": 96
   },
   {
    "_defaultOrder": 39,
    "_isFastLaunch": false,
    "category": "Memory Optimized",
    "gpuNum": 0,
    "hideHardwareSpecs": false,
    "memoryGiB": 16,
    "name": "ml.r5.large",
    "vcpuNum": 2
   },
   {
    "_defaultOrder": 40,
    "_isFastLaunch": false,
    "category": "Memory Optimized",
    "gpuNum": 0,
    "hideHardwareSpecs": false,
    "memoryGiB": 32,
    "name": "ml.r5.xlarge",
    "vcpuNum": 4
   },
   {
    "_defaultOrder": 41,
    "_isFastLaunch": false,
    "category": "Memory Optimized",
    "gpuNum": 0,
    "hideHardwareSpecs": false,
    "memoryGiB": 64,
    "name": "ml.r5.2xlarge",
    "vcpuNum": 8
   },
   {
    "_defaultOrder": 42,
    "_isFastLaunch": false,
    "category": "Memory Optimized",
    "gpuNum": 0,
    "hideHardwareSpecs": false,
    "memoryGiB": 128,
    "name": "ml.r5.4xlarge",
    "vcpuNum": 16
   },
   {
    "_defaultOrder": 43,
    "_isFastLaunch": false,
    "category": "Memory Optimized",
    "gpuNum": 0,
    "hideHardwareSpecs": false,
    "memoryGiB": 256,
    "name": "ml.r5.8xlarge",
    "vcpuNum": 32
   },
   {
    "_defaultOrder": 44,
    "_isFastLaunch": false,
    "category": "Memory Optimized",
    "gpuNum": 0,
    "hideHardwareSpecs": false,
    "memoryGiB": 384,
    "name": "ml.r5.12xlarge",
    "vcpuNum": 48
   },
   {
    "_defaultOrder": 45,
    "_isFastLaunch": false,
    "category": "Memory Optimized",
    "gpuNum": 0,
    "hideHardwareSpecs": false,
    "memoryGiB": 512,
    "name": "ml.r5.16xlarge",
    "vcpuNum": 64
   },
   {
    "_defaultOrder": 46,
    "_isFastLaunch": false,
    "category": "Memory Optimized",
    "gpuNum": 0,
    "hideHardwareSpecs": false,
    "memoryGiB": 768,
    "name": "ml.r5.24xlarge",
    "vcpuNum": 96
   },
   {
    "_defaultOrder": 47,
    "_isFastLaunch": false,
    "category": "Accelerated computing",
    "gpuNum": 1,
    "hideHardwareSpecs": false,
    "memoryGiB": 16,
    "name": "ml.g5.xlarge",
    "vcpuNum": 4
   },
   {
    "_defaultOrder": 48,
    "_isFastLaunch": false,
    "category": "Accelerated computing",
    "gpuNum": 1,
    "hideHardwareSpecs": false,
    "memoryGiB": 32,
    "name": "ml.g5.2xlarge",
    "vcpuNum": 8
   },
   {
    "_defaultOrder": 49,
    "_isFastLaunch": false,
    "category": "Accelerated computing",
    "gpuNum": 1,
    "hideHardwareSpecs": false,
    "memoryGiB": 64,
    "name": "ml.g5.4xlarge",
    "vcpuNum": 16
   },
   {
    "_defaultOrder": 50,
    "_isFastLaunch": false,
    "category": "Accelerated computing",
    "gpuNum": 1,
    "hideHardwareSpecs": false,
    "memoryGiB": 128,
    "name": "ml.g5.8xlarge",
    "vcpuNum": 32
   },
   {
    "_defaultOrder": 51,
    "_isFastLaunch": false,
    "category": "Accelerated computing",
    "gpuNum": 1,
    "hideHardwareSpecs": false,
    "memoryGiB": 256,
    "name": "ml.g5.16xlarge",
    "vcpuNum": 64
   },
   {
    "_defaultOrder": 52,
    "_isFastLaunch": false,
    "category": "Accelerated computing",
    "gpuNum": 4,
    "hideHardwareSpecs": false,
    "memoryGiB": 192,
    "name": "ml.g5.12xlarge",
    "vcpuNum": 48
   },
   {
    "_defaultOrder": 53,
    "_isFastLaunch": false,
    "category": "Accelerated computing",
    "gpuNum": 4,
    "hideHardwareSpecs": false,
    "memoryGiB": 384,
    "name": "ml.g5.24xlarge",
    "vcpuNum": 96
   },
   {
    "_defaultOrder": 54,
    "_isFastLaunch": false,
    "category": "Accelerated computing",
    "gpuNum": 8,
    "hideHardwareSpecs": false,
    "memoryGiB": 768,
    "name": "ml.g5.48xlarge",
    "vcpuNum": 192
   },
   {
    "_defaultOrder": 55,
    "_isFastLaunch": false,
    "category": "Accelerated computing",
    "gpuNum": 8,
    "hideHardwareSpecs": false,
    "memoryGiB": 1152,
    "name": "ml.p4d.24xlarge",
    "vcpuNum": 96
   },
   {
    "_defaultOrder": 56,
    "_isFastLaunch": false,
    "category": "Accelerated computing",
    "gpuNum": 8,
    "hideHardwareSpecs": false,
    "memoryGiB": 1152,
    "name": "ml.p4de.24xlarge",
    "vcpuNum": 96
   }
  ],
  "instance_type": "ml.m5.large",
  "kernelspec": {
   "display_name": "Python 3 (Data Science 3.0)",
   "language": "python",
   "name": "python3__SAGEMAKER_INTERNAL__arn:aws:sagemaker:us-west-2:236514542706:image/sagemaker-data-science-310-v1"
  },
  "language_info": {
   "codemirror_mode": {
    "name": "ipython",
    "version": 3
   },
   "file_extension": ".py",
   "mimetype": "text/x-python",
   "name": "python",
   "nbconvert_exporter": "python",
   "pygments_lexer": "ipython3",
   "version": "3.10.6"
  }
 },
 "nbformat": 4,
 "nbformat_minor": 5
}
