{
 "cells": [
  {
   "cell_type": "markdown",
   "id": "808c9e3b-e793-46c3-9599-1a473069c5a6",
   "metadata": {},
   "source": [
    "**Note:** for running the example we need at least a `ml.m5.large` instance"
   ]
  },
  {
   "cell_type": "markdown",
   "id": "d0c3308c-3e63-42ef-bb47-a9d76e889d0c",
   "metadata": {
    "tags": []
   },
   "source": [
    "# SETUP"
   ]
  },
  {
   "cell_type": "markdown",
   "id": "a37d855b-928d-4c16-b1cc-7a242326d99d",
   "metadata": {},
   "source": [
    "## Check the version of python using"
   ]
  },
  {
   "cell_type": "code",
   "execution_count": 3,
   "id": "6677aa09-4855-4a21-8054-a55190376e32",
   "metadata": {},
   "outputs": [
    {
     "name": "stdout",
     "output_type": "stream",
     "text": [
      "/opt/conda/bin/python3\n"
     ]
    }
   ],
   "source": [
    "!which python3"
   ]
  },
  {
   "cell_type": "markdown",
   "id": "fe7542a5-d34a-47cb-8b06-5b9b123cf1b1",
   "metadata": {},
   "source": [
    "## Install required libraries"
   ]
  },
  {
   "cell_type": "code",
   "execution_count": 3,
   "id": "fcfca745-732c-4ed8-a2ac-0e34beed0322",
   "metadata": {},
   "outputs": [
    {
     "name": "stdout",
     "output_type": "stream",
     "text": [
      "Requirement already satisfied: pip in /opt/conda/lib/python3.10/site-packages (23.2.1)\n",
      "\u001b[33mWARNING: Running pip as the 'root' user can result in broken permissions and conflicting behaviour with the system package manager. It is recommended to use a virtual environment instead: https://pip.pypa.io/warnings/venv\u001b[0m\u001b[33m\n",
      "\u001b[0m"
     ]
    }
   ],
   "source": [
    "!pip install --upgrade pip"
   ]
  },
  {
   "cell_type": "code",
   "execution_count": 5,
   "id": "9fac44ac-a531-42bd-8af4-e8831e60b0c7",
   "metadata": {},
   "outputs": [
    {
     "name": "stdout",
     "output_type": "stream",
     "text": [
      "\u001b[33mWARNING: Running pip as the 'root' user can result in broken permissions and conflicting behaviour with the system package manager. It is recommended to use a virtual environment instead: https://pip.pypa.io/warnings/venv\u001b[0m\u001b[33m\n",
      "\u001b[0m"
     ]
    }
   ],
   "source": [
    "!pip install ipywidgets --quiet"
   ]
  },
  {
   "cell_type": "code",
   "execution_count": 6,
   "id": "b546e167-4c46-42b6-87f7-0773b6608dd2",
   "metadata": {
    "collapsed": true,
    "jupyter": {
     "outputs_hidden": true
    },
    "tags": []
   },
   "outputs": [
    {
     "name": "stdout",
     "output_type": "stream",
     "text": [
      "\u001b[31mERROR: pip's dependency resolver does not currently take into account all the packages that are installed. This behaviour is the source of the following dependency conflicts.\n",
      "distributed 2022.7.0 requires tornado<6.2,>=6.0.3, but you have tornado 6.3.2 which is incompatible.\u001b[0m\u001b[31m\n",
      "\u001b[0m\u001b[33mWARNING: Running pip as the 'root' user can result in broken permissions and conflicting behaviour with the system package manager. It is recommended to use a virtual environment instead: https://pip.pypa.io/warnings/venv\u001b[0m\u001b[33m\n",
      "\u001b[0m\u001b[31mERROR: pip's dependency resolver does not currently take into account all the packages that are installed. This behaviour is the source of the following dependency conflicts.\n",
      "spyder 5.3.3 requires pyqt5<5.16, which is not installed.\n",
      "spyder 5.3.3 requires pyqtwebengine<5.16, which is not installed.\n",
      "panel 0.13.1 requires bokeh<2.5.0,>=2.4.0, but you have bokeh 3.2.1 which is incompatible.\n",
      "spyder 5.3.3 requires ipython<8.0.0,>=7.31.1, but you have ipython 8.14.0 which is incompatible.\n",
      "spyder 5.3.3 requires pylint<3.0,>=2.5.0, but you have pylint 3.0.0a6 which is incompatible.\u001b[0m\u001b[31m\n",
      "\u001b[0m\u001b[33mWARNING: Running pip as the 'root' user can result in broken permissions and conflicting behaviour with the system package manager. It is recommended to use a virtual environment instead: https://pip.pypa.io/warnings/venv\u001b[0m\u001b[33m\n",
      "\u001b[0m"
     ]
    }
   ],
   "source": [
    "!pip install boto3 --quiet\n",
    "!pip install langchain --quiet"
   ]
  },
  {
   "cell_type": "code",
   "execution_count": 7,
   "id": "ced5eaf4-e26d-440f-90f6-a16547aaf01e",
   "metadata": {
    "collapsed": true,
    "jupyter": {
     "outputs_hidden": true
    },
    "tags": []
   },
   "outputs": [
    {
     "name": "stdout",
     "output_type": "stream",
     "text": [
      "\u001b[33mWARNING: Running pip as the 'root' user can result in broken permissions and conflicting behaviour with the system package manager. It is recommended to use a virtual environment instead: https://pip.pypa.io/warnings/venv\u001b[0m\u001b[33m\n",
      "\u001b[0m"
     ]
    }
   ],
   "source": [
    "!pip install torch --quiet"
   ]
  },
  {
   "cell_type": "code",
   "execution_count": 8,
   "id": "eb1543ae-e297-4cff-b5b2-2bb10243841f",
   "metadata": {
    "collapsed": true,
    "jupyter": {
     "outputs_hidden": true
    },
    "tags": []
   },
   "outputs": [
    {
     "name": "stdout",
     "output_type": "stream",
     "text": [
      "\u001b[31mERROR: pip's dependency resolver does not currently take into account all the packages that are installed. This behaviour is the source of the following dependency conflicts.\n",
      "daal4py 2021.6.0 requires daal==2021.4.0, which is not installed.\n",
      "numba 0.55.1 requires numpy<1.22,>=1.18, but you have numpy 1.24.4 which is incompatible.\n",
      "panel 0.13.1 requires bokeh<2.5.0,>=2.4.0, but you have bokeh 3.2.1 which is incompatible.\n",
      "sagemaker-datawrangler 0.4.3 requires sagemaker-data-insights==0.4.0, but you have sagemaker-data-insights 0.3.3 which is incompatible.\u001b[0m\u001b[31m\n",
      "\u001b[0m\u001b[33mWARNING: Running pip as the 'root' user can result in broken permissions and conflicting behaviour with the system package manager. It is recommended to use a virtual environment instead: https://pip.pypa.io/warnings/venv\u001b[0m\u001b[33m\n",
      "\u001b[0m"
     ]
    }
   ],
   "source": [
    "!pip install sentence_transformers --quiet"
   ]
  },
  {
   "cell_type": "code",
   "execution_count": 9,
   "id": "d3f96fbf-e80b-476c-9b52-5f574ef68bc1",
   "metadata": {
    "collapsed": true,
    "jupyter": {
     "outputs_hidden": true
    },
    "tags": []
   },
   "outputs": [
    {
     "name": "stdout",
     "output_type": "stream",
     "text": [
      "\u001b[31mERROR: pip's dependency resolver does not currently take into account all the packages that are installed. This behaviour is the source of the following dependency conflicts.\n",
      "panel 0.13.1 requires bokeh<2.5.0,>=2.4.0, but you have bokeh 3.2.1 which is incompatible.\u001b[0m\u001b[31m\n",
      "\u001b[0m\u001b[33mWARNING: Running pip as the 'root' user can result in broken permissions and conflicting behaviour with the system package manager. It is recommended to use a virtual environment instead: https://pip.pypa.io/warnings/venv\u001b[0m\u001b[33m\n",
      "\u001b[0m"
     ]
    }
   ],
   "source": [
    "!pip install chromadb --quiet"
   ]
  },
  {
   "cell_type": "code",
   "execution_count": 11,
   "id": "a2d394f2-fd58-4429-8a3d-6730cafd2606",
   "metadata": {
    "collapsed": true,
    "jupyter": {
     "outputs_hidden": true
    },
    "tags": []
   },
   "outputs": [
    {
     "name": "stdout",
     "output_type": "stream",
     "text": [
      "Requirement already satisfied: typing-extensions in /opt/conda/lib/python3.10/site-packages (4.7.1)\n",
      "\u001b[33mWARNING: Running pip as the 'root' user can result in broken permissions and conflicting behaviour with the system package manager. It is recommended to use a virtual environment instead: https://pip.pypa.io/warnings/venv\u001b[0m\u001b[33m\n",
      "\u001b[0m"
     ]
    }
   ],
   "source": [
    "!pip install typing-extensions --upgrade"
   ]
  },
  {
   "cell_type": "code",
   "execution_count": 12,
   "id": "e318bb83-3c91-4300-8a39-0f439d607775",
   "metadata": {},
   "outputs": [
    {
     "name": "stdout",
     "output_type": "stream",
     "text": [
      "\u001b[33mWARNING: Running pip as the 'root' user can result in broken permissions and conflicting behaviour with the system package manager. It is recommended to use a virtual environment instead: https://pip.pypa.io/warnings/venv\u001b[0m\u001b[33m\n",
      "\u001b[0m\u001b[33mWARNING: Running pip as the 'root' user can result in broken permissions and conflicting behaviour with the system package manager. It is recommended to use a virtual environment instead: https://pip.pypa.io/warnings/venv\u001b[0m\u001b[33m\n",
      "\u001b[0m"
     ]
    }
   ],
   "source": [
    "!pip install SQLAlchemy==2.0.1 --quiet\n",
    "!pip install flask-sqlalchemy --quiet\n",
    "\n"
   ]
  },
  {
   "cell_type": "code",
   "execution_count": 13,
   "id": "324d0672-c5f5-4727-9c08-e9fff90d19ea",
   "metadata": {},
   "outputs": [
    {
     "name": "stdout",
     "output_type": "stream",
     "text": [
      "\u001b[33mWARNING: Running pip as the 'root' user can result in broken permissions and conflicting behaviour with the system package manager. It is recommended to use a virtual environment instead: https://pip.pypa.io/warnings/venv\u001b[0m\u001b[33m\n",
      "\u001b[0m"
     ]
    }
   ],
   "source": [
    "!pip install unstructured --quiet"
   ]
  },
  {
   "cell_type": "code",
   "execution_count": 14,
   "id": "9004f3e8-7d82-4e9a-b47d-64b8acee3334",
   "metadata": {},
   "outputs": [
    {
     "name": "stdout",
     "output_type": "stream",
     "text": [
      "Collecting pdf2image\n",
      "  Using cached pdf2image-1.16.3-py3-none-any.whl (11 kB)\n",
      "Requirement already satisfied: pillow in /opt/conda/lib/python3.10/site-packages (from pdf2image) (10.0.0)\n",
      "Installing collected packages: pdf2image\n",
      "Successfully installed pdf2image-1.16.3\n",
      "\u001b[33mWARNING: Running pip as the 'root' user can result in broken permissions and conflicting behaviour with the system package manager. It is recommended to use a virtual environment instead: https://pip.pypa.io/warnings/venv\u001b[0m\u001b[33m\n",
      "\u001b[0mCollecting pdfminer\n",
      "  Using cached pdfminer-20191125-py3-none-any.whl\n",
      "Collecting pycryptodome (from pdfminer)\n",
      "  Obtaining dependency information for pycryptodome from https://files.pythonhosted.org/packages/40/88/89623388754162ddb82c62814ccbfdbfcc8ed9bd6d5f7412d2479bdca3a7/pycryptodome-3.18.0-cp35-abi3-manylinux_2_17_x86_64.manylinux2014_x86_64.whl.metadata\n",
      "  Using cached pycryptodome-3.18.0-cp35-abi3-manylinux_2_17_x86_64.manylinux2014_x86_64.whl.metadata (3.4 kB)\n",
      "Using cached pycryptodome-3.18.0-cp35-abi3-manylinux_2_17_x86_64.manylinux2014_x86_64.whl (2.1 MB)\n",
      "Installing collected packages: pycryptodome, pdfminer\n",
      "Successfully installed pdfminer-20191125 pycryptodome-3.18.0\n",
      "\u001b[33mWARNING: Running pip as the 'root' user can result in broken permissions and conflicting behaviour with the system package manager. It is recommended to use a virtual environment instead: https://pip.pypa.io/warnings/venv\u001b[0m\u001b[33m\n",
      "\u001b[0mCollecting pdfminer.six\n",
      "  Using cached pdfminer.six-20221105-py3-none-any.whl (5.6 MB)\n",
      "Requirement already satisfied: charset-normalizer>=2.0.0 in /opt/conda/lib/python3.10/site-packages (from pdfminer.six) (2.0.4)\n",
      "Requirement already satisfied: cryptography>=36.0.0 in /opt/conda/lib/python3.10/site-packages (from pdfminer.six) (41.0.2)\n",
      "Requirement already satisfied: cffi>=1.12 in /opt/conda/lib/python3.10/site-packages (from cryptography>=36.0.0->pdfminer.six) (1.15.1)\n",
      "Requirement already satisfied: pycparser in /opt/conda/lib/python3.10/site-packages (from cffi>=1.12->cryptography>=36.0.0->pdfminer.six) (2.21)\n",
      "Installing collected packages: pdfminer.six\n",
      "Successfully installed pdfminer.six-20221105\n",
      "\u001b[33mWARNING: Running pip as the 'root' user can result in broken permissions and conflicting behaviour with the system package manager. It is recommended to use a virtual environment instead: https://pip.pypa.io/warnings/venv\u001b[0m\u001b[33m\n",
      "\u001b[0m"
     ]
    }
   ],
   "source": [
    "!pip install pdf2image\n",
    "!pip install pdfminer\n",
    "!pip install pdfminer.six"
   ]
  },
  {
   "cell_type": "code",
   "execution_count": 4,
   "id": "b2aa03a0-c663-4a50-8f7a-298857667027",
   "metadata": {},
   "outputs": [
    {
     "name": "stdout",
     "output_type": "stream",
     "text": [
      "Collecting pyrouge\n",
      "  Downloading pyrouge-0.1.3.tar.gz (60 kB)\n",
      "\u001b[2K     \u001b[90m━━━━━━━━━━━━━━━━━━━━━━━━━━━━━━━━━━━━━━━━\u001b[0m \u001b[32m60.5/60.5 kB\u001b[0m \u001b[31m1.4 MB/s\u001b[0m eta \u001b[36m0:00:00\u001b[0ma \u001b[36m0:00:01\u001b[0m\n",
      "\u001b[?25h  Preparing metadata (setup.py) ... \u001b[?25ldone\n",
      "\u001b[?25hBuilding wheels for collected packages: pyrouge\n",
      "  Building wheel for pyrouge (setup.py) ... \u001b[?25ldone\n",
      "\u001b[?25h  Created wheel for pyrouge: filename=pyrouge-0.1.3-py3-none-any.whl size=191604 sha256=ec4ea150cdd73c3f0c94c3917d07461a57e8a690d82ffcd59bbdd34cdf77903a\n",
      "  Stored in directory: /root/.cache/pip/wheels/9a/67/12/c5dd8ef8b4152bb8789eafd2a74a734e2dc7bb9eae02b768e7\n",
      "Successfully built pyrouge\n",
      "Installing collected packages: pyrouge\n",
      "Successfully installed pyrouge-0.1.3\n",
      "\u001b[33mWARNING: Running pip as the 'root' user can result in broken permissions and conflicting behaviour with the system package manager. It is recommended to use a virtual environment instead: https://pip.pypa.io/warnings/venv\u001b[0m\u001b[33m\n",
      "\u001b[0m"
     ]
    }
   ],
   "source": [
    "!pip install pyrouge"
   ]
  },
  {
   "cell_type": "markdown",
   "id": "5d06f9f4-8d03-4abe-a765-b12c7b451fbe",
   "metadata": {},
   "source": [
    "## Import libraries"
   ]
  },
  {
   "cell_type": "code",
   "execution_count": 15,
   "id": "df06b4ff-16d9-458a-9b90-11ec2eb749cc",
   "metadata": {},
   "outputs": [],
   "source": [
    "import chromadb "
   ]
  },
  {
   "cell_type": "code",
   "execution_count": 16,
   "id": "ef6b9cfa-44ff-4105-b885-2ebdbc55cc33",
   "metadata": {},
   "outputs": [],
   "source": [
    "import sentence_transformers"
   ]
  },
  {
   "cell_type": "code",
   "execution_count": 17,
   "id": "73791d6e-8b0d-4ad2-aa8d-a442b3e5f991",
   "metadata": {},
   "outputs": [],
   "source": [
    "import langchain"
   ]
  },
  {
   "cell_type": "code",
   "execution_count": 18,
   "id": "8226a793-ea59-4608-943b-645365548a14",
   "metadata": {},
   "outputs": [],
   "source": [
    "from langchain.chat_models import ChatOpenAI\n",
    "from langchain.document_loaders import TextLoader\n",
    "from langchain.document_loaders import UnstructuredPDFLoader\n",
    "from langchain.embeddings import OpenAIEmbeddings\n",
    "from langchain.indexes import VectorstoreIndexCreator\n",
    "from langchain.embeddings import SentenceTransformerEmbeddings\n",
    "from langchain.text_splitter import NLTKTextSplitter\n",
    "import os"
   ]
  },
  {
   "cell_type": "code",
   "execution_count": 2,
   "id": "5f86ac49-ee0f-4d26-b13b-139f867f5aa8",
   "metadata": {},
   "outputs": [
    {
     "name": "stdout",
     "output_type": "stream",
     "text": [
      "Collecting rouge\n",
      "  Downloading rouge-1.0.1-py3-none-any.whl (13 kB)\n",
      "Requirement already satisfied: six in /opt/conda/lib/python3.10/site-packages (from rouge) (1.16.0)\n",
      "Installing collected packages: rouge\n",
      "Successfully installed rouge-1.0.1\n",
      "\u001b[33mWARNING: Running pip as the 'root' user can result in broken permissions and conflicting behaviour with the system package manager. It is recommended to use a virtual environment instead: https://pip.pypa.io/warnings/venv\u001b[0m\u001b[33m\n",
      "\u001b[0m"
     ]
    }
   ],
   "source": []
  },
  {
   "cell_type": "markdown",
   "id": "9b895235-b3e9-4db0-918b-b9bd1308d481",
   "metadata": {
    "tags": []
   },
   "source": [
    "## Setup the llm "
   ]
  },
  {
   "cell_type": "code",
   "execution_count": 47,
   "id": "42188b0f-a4ab-4099-aa44-912909914d45",
   "metadata": {},
   "outputs": [],
   "source": [
    "import boto3\n",
    "region = boto3.Session().region_name\n",
    "endpoint_name = \"jumpstart-dft-meta-textgeneration-llama-2-7b-3\"\n",
    "\n",
    "content_handler = ContentHandler()\n",
    "\n",
    "llm=SagemakerEndpoint(\n",
    "     endpoint_name=endpoint_name, \n",
    "     region_name=region, \n",
    "     model_kwargs={\"max_new_tokens\": 4092, \"top_p\": 0.9, \"temperature\": 0.01},\n",
    "     endpoint_kwargs={\"CustomAttributes\": 'accept_eula=true'},\n",
    "     content_handler=content_handler\n",
    " )\n"
   ]
  },
  {
   "cell_type": "markdown",
   "id": "9e3ddf75-19fb-40d2-8cee-9c18d8f4427c",
   "metadata": {},
   "source": [
    "### ContentHandler for LLama-2-chat"
   ]
  },
  {
   "cell_type": "code",
   "execution_count": null,
   "id": "48e93638-52ee-46ac-9951-1a2ae8803de3",
   "metadata": {},
   "outputs": [],
   "source": [
    "from langchain import PromptTemplate, SagemakerEndpoint\n",
    "from langchain.llms.sagemaker_endpoint import LLMContentHandler\n",
    "import json\n",
    "class ContentHandler(LLMContentHandler):\n",
    "    content_type = \"application/json\"\n",
    "    accepts = \"application/json\"\n",
    "\n",
    "    def transform_input(self, prompt: str, model_kwargs: dict) -> bytes:\n",
    "        input_str = json.dumps({\"inputs\" : [[{\"role\" : \"system\",\n",
    "        \"content\" : \"Your are a kind assistant for the supreme court. All your generted  answer MUST be in grammatically correct spanish.\"},\n",
    "        {\"role\" : \"user\", \"content\" : prompt}]],\n",
    "        \"parameters\" : {**model_kwargs}})\n",
    "        return input_str.encode('utf-8')\n",
    "    \n",
    "    def transform_output(self, output: bytes) -> str:\n",
    "        response_json = json.loads(output.read().decode(\"utf-8\"))\n",
    "        return response_json[0][\"generation\"][\"content\"]"
   ]
  },
  {
   "cell_type": "markdown",
   "id": "9a144ea0-da0d-41e3-95cb-808bffa09114",
   "metadata": {
    "tags": []
   },
   "source": [
    "### Test the LLM"
   ]
  },
  {
   "cell_type": "code",
   "execution_count": null,
   "id": "1d5cfdaf-da73-4229-af39-a8d5c01ccdcb",
   "metadata": {},
   "outputs": [],
   "source": [
    "print(llm(\"tell me a joke\"))"
   ]
  },
  {
   "cell_type": "markdown",
   "id": "e4dd17fd-dc5e-442e-924e-9306c1c69870",
   "metadata": {},
   "source": [
    "## Setup SBERT for calculating embeddings"
   ]
  },
  {
   "cell_type": "code",
   "execution_count": 19,
   "id": "20e17753-4cf8-429d-b2dc-f5c1156b5662",
   "metadata": {},
   "outputs": [],
   "source": [
    "embedding = SentenceTransformerEmbeddings(model_name=\"all-MiniLM-L6-v2\")"
   ]
  },
  {
   "cell_type": "code",
   "execution_count": 20,
   "id": "4fccd548-a93e-4421-9f74-962e22791928",
   "metadata": {},
   "outputs": [
    {
     "data": {
      "text/plain": [
       "HuggingFaceEmbeddings(client=SentenceTransformer(\n",
       "  (0): Transformer({'max_seq_length': 256, 'do_lower_case': False}) with Transformer model: BertModel \n",
       "  (1): Pooling({'word_embedding_dimension': 384, 'pooling_mode_cls_token': False, 'pooling_mode_mean_tokens': True, 'pooling_mode_max_tokens': False, 'pooling_mode_mean_sqrt_len_tokens': False})\n",
       "  (2): Normalize()\n",
       "), model_name='all-MiniLM-L6-v2', cache_folder=None, model_kwargs={}, encode_kwargs={}, multi_process=False)"
      ]
     },
     "execution_count": 20,
     "metadata": {},
     "output_type": "execute_result"
    }
   ],
   "source": [
    "embedding"
   ]
  },
  {
   "cell_type": "markdown",
   "id": "b9cff2d6-7069-46ca-989b-4d901ebdd3f3",
   "metadata": {},
   "source": [
    "# INTERACTIVE EXAMPLE"
   ]
  },
  {
   "cell_type": "markdown",
   "id": "910d36d3-b87c-43fc-bd88-3409cc5d5536",
   "metadata": {},
   "source": [
    "## Load a PDF and calculate the embeddings"
   ]
  },
  {
   "cell_type": "code",
   "execution_count": 21,
   "id": "ebd0f465-6390-48ac-bcfe-cb48d004529a",
   "metadata": {},
   "outputs": [],
   "source": [
    "loader = UnstructuredPDFLoader(\"/root/JurisGPT/rawdata/laboral/10000003368.pdf\")"
   ]
  },
  {
   "cell_type": "code",
   "execution_count": 22,
   "id": "8be11de5-fd70-43d4-ac9b-df81de1d6aac",
   "metadata": {},
   "outputs": [],
   "source": [
    "index = VectorstoreIndexCreator(embedding=embedding).from_loaders([loader])"
   ]
  },
  {
   "cell_type": "code",
   "execution_count": 51,
   "id": "7c03c5de-76d1-4694-9560-b0b736f37a10",
   "metadata": {},
   "outputs": [],
   "source": [
    "index.vectorstore.delete_collection()"
   ]
  },
  {
   "cell_type": "markdown",
   "id": "cd872ef9-0a6a-41ba-93e9-36a9eb52e89a",
   "metadata": {},
   "source": [
    "## Ask LLM to summarize each section"
   ]
  },
  {
   "cell_type": "code",
   "execution_count": 39,
   "id": "3784c955-4e79-4cc1-934b-f69f91174623",
   "metadata": {},
   "outputs": [
    {
     "name": "stdout",
     "output_type": "stream",
     "text": [
      " En la sección \"Antecedentes\" del fallo de la Suprema Corte de Justicia de Mendoza en la causa \"Manrique\" (N° 13-04491180-3/1), se resume el contexto legal que se encuentra en la provincia de Mendoza. Se menciona que existen pronunciamientos de los integrantes de la Sala II en favor de la inconstitucionalidad del precepto en la misma causa, y que se reitera en otros pronunciamientos. Además, se destaca la necesidad de otorgar certeza en el modo de actuar y asegurar el tratamiento igualitario del justiciable que recurre ante el Poder Judicial en busca de un pronunciamiento.\n",
      "\n",
      "Se analiza el marco normativo general y el texto legal objeto de análisis, destacando la adhesión de la Provincia de Mendoza a las disposiciones contenidas en el Título I de la Ley Nacional N° 27.348 (complementaria de la Ley sobre Riesgos del Trabajo N° 24.557), y la delegación de competencias a la jurisdicción administrativa nacional para dar cumplimiento a lo dispuesto en los artículos 1, 2 y 3 de la norma precitada.\n",
      "\n",
      "Se menciona que la decisión del Superior Tribunal Nacional en la causa \"Shell-Mex Argentina Ltda. vs. Poder Ejecutivo de Mendoza\" (1944) no es equiparable a la presente causa, ya que cuestiona una decisión local que alteraba el plazo de una acción civil regulada por el código de fondo, mientras que en la causa \"Manrique\" se trata de la adhesión de la Provincia de Mendoza a las disposiciones contenidas en el Título I de la Ley Nacional N° 27.348.\n",
      "\n",
      "Por último, se ratifica la adecuación constitucional del tránsito obligatorio ante la instancia administrativa, y se reconoce que la función jurisdiccional que compete principalmente al Poder Judicial pueda ser ejercida por otros órganos en esta temática específica.\n"
     ]
    }
   ],
   "source": [
    "query = \"You are a member of the supreme court in Mendoza, Argentina. You have to write a summary of the section named 'Antecedentes' of a particular court ruling . Write your answer in spanish in no less than 150 words:\"\n",
    "summary_ant = (index.query(query,llm=llm))\n",
    "print(summary_ant)\n"
   ]
  },
  {
   "cell_type": "code",
   "execution_count": 16,
   "id": "1f416496-59b2-42cc-b2a0-fe4e5f43b554",
   "metadata": {},
   "outputs": [
    {
     "name": "stdout",
     "output_type": "stream",
     "text": [
      " La sección \"Sobre la primera cuestión\" del fallo del Tribunal de la Suprema Corte de Justicia de Mendoza se refiere a la admisión de un recurso extraordinario provincial interpuesto por Dante Ramón Farconesi contra la sentencia dictada en los autos n°159.313. Farconesi interpuso el recurso debido a que la sentencia inicial fue dictada en favor de Provincia ART S.A. en un caso de enfermedad accidental, originario de la Excma. Cámara Séptima del Trabajo de la Primera Circunscripción Judicial.\n",
      "\n",
      "El Tribunal consideró que no hubo lesión alguna a la defensa de Farconesi en el juicio, ya que el informe pericial contable rola a fs. 233 muestra que la póliza entre el Gobierno de Mendoza y Provincia ART S.A. fue celebrada en fecha 01/09/2013. Además, la defensa formuló su defensa por intermedio del Dr. Miguel Grosso.\n",
      "\n",
      "El Tribunal admitió el remedio intentado por Farconesi y ordenó el traslado a la contraria y la suspensión de los procedimientos en el grado. El Fiscal Adjunto Civil, Procuración General, se inclinó por la admisión de la articulación.\n",
      "\n",
      "En resumen, la sección \"Sobre la primera cuestión\" del fallo establece que Farconesi interpuso un recurso extraordinario provincial contra la sentencia dictada en los autos n°159.313, debido a que no hubo lesión alguna a su derecho de defensa en juicio, y que el Tribunal admitió el remedio intentado y ordenó el traslado a la contraria y la suspensión de los procedimientos en el grado.\n"
     ]
    }
   ],
   "source": [
    "query = \"You are a member of the supreme court in Mendoza, Argentina. You have to write a summary of the section named 'Sobre la primera cuestion' of a particular court ruling . Write your answer in spanish in no less than 150 words::\"\n",
    "summary_1 = (index.query(query,llm=llm))\n",
    "print(summary_1)\n"
   ]
  },
  {
   "cell_type": "code",
   "execution_count": 17,
   "id": "4a1c04e2-0428-4bab-a89a-c6ab90eaccc8",
   "metadata": {},
   "outputs": [
    {
     "name": "stdout",
     "output_type": "stream",
     "text": [
      " En la sección \"Sobre la segunda cuestión\" del fallo del Tribunal de la Suprema Corte de Justicia de Mendoza, se analiza la admisión de la articulación interpuesta por Dante Ramón Farconesi en su recurso extraordinario provincial contra la sentencia dictada en el caso \"Farconesi, Dante Ramón c/ Provincia ART SA p/ Enfermedad Accidente\". La cuestión en cuestión es si la póliza entre el Gobierno de Mendoza y Provincia ART S.A. fue celebrada en fecha 01/09/2013, como afirma el informe pericial contable.\n",
      "\n",
      "El Tribunal consideró que no hay lesión alguna a la defensa de Dante Ramón Farconesi en juicio, ya que el informe pericial no es contrario a la versión de los hechos presentada por la acción, sino más bien complementa y fortalece la misma. Además, se destacó que la admisión de la articulación es necesaria para dilucidar los hechos y otorgar herramientas mayores a los magistrados para resolver la causa.\n",
      "\n",
      "Por otro lado, se mencionó que el Convenio Marco de Cooperación y Asistencia Técnica celebrado entre la Suprema Corte de Justicia, la Superintendencia de Riesgos del Trabajo y la Subsecretaría de Trabajo y Seguridad Social del Ministerio de Gobierno, Justicia y Derechos Humanos del Gobierno de Mendoza, permite verificar la información existente en el organismo de contralor, a través de su página institucional, para lo cual los tribunales mendocinos no se encuentran limitados siempre que la finalidad que los mueva sea la de encontrar la tan preciada veracidad.\n",
      "\n",
      "En resumen, la sección \"Sobre la segunda cuestión\" del fallo del Tribunal de la Suprema Corte de Justicia de Mendoza analiza la admisión de la articulación interpuesta por Dante Ramón Farconesi en su recurso extraordinario provincial y se destaca la importancia de la cooperación y asistencia técnica entre los organismos para dilucidar los hechos y encontrar la verdad.\n"
     ]
    }
   ],
   "source": [
    "query = \"You are a member of the supreme court in Mendoza, Argentina. You have to write a summary of the section named 'Sobre la segunda cuestion' of a particular court ruling . Write your answer in spanish in no less than 150 words::\"\n",
    "summary_2 = (index.query(query,llm=llm))\n",
    "print(summary_2)"
   ]
  },
  {
   "cell_type": "code",
   "execution_count": 18,
   "id": "0f1fe3db-5a0c-4ee5-8de9-d6fbaeca81bb",
   "metadata": {},
   "outputs": [
    {
     "name": "stdout",
     "output_type": "stream",
     "text": [
      " En la sección \"Sobre la tercera cuestión\" del fallo del Tribunal de Mendoza, se analiza la admisión de la articulación presentada por el actor Dante Ramón Farconesi en su recurso extraordinario provincial contra la sentencia dictada en el auto n° 159.313. La cuestión en cuestión se refiere a la admisión de la defensa presentada por el Dr. Miguel Grosso, quien argumentó que la póliza entre el Gobierno de Mendoza y Provincia ART S.A. fue celebrada en fecha 01/09/2013.\n",
      "\n",
      "El Tribunal encontró que la defensa presentada es relevante y admisible, ya que se trata de un hecho clave en el caso y puede afectar la resolución de la cuestión en disputa. Además, se consideró que la póliza es un documento probatorio que puede ser utilizado para respaldar la defensa presentada, por lo que se decidió admitirla en el proceso.\n",
      "\n",
      "En resumen, la sección \"Sobre la tercera cuestión\" del fallo del Tribunal de Mendoza se centra en la admisión de la defensa presentada por el Dr. Miguel Grosso, quien argumentó que la póliza entre el Gobierno de Mendoza y Provincia ART S.A. fue celebrada en fecha 01/09/2013, y se decidió admitirla en el proceso debido a su relevancia y admisibilidad.\n"
     ]
    }
   ],
   "source": [
    "query = \"You are a member of the supreme court in Mendoza, Argentina. You have to write a summary of the section named 'Sobre la tercera cuestion' of a particular court ruling . Write your answer in spanish in no less than 150 words::\"\n",
    "summary_3 = (index.query(query,llm=llm))\n",
    "print(summary_3)"
   ]
  },
  {
   "cell_type": "code",
   "execution_count": 20,
   "id": "f8a6a669-ece7-46c6-9afa-2eb1a3eac2a6",
   "metadata": {},
   "outputs": [
    {
     "name": "stdout",
     "output_type": "stream",
     "text": [
      " En la sección \"resuelve\" del fallo del Tribunal de la Segunda Sala de la Suprema Corte de Justicia de Mendoza, se establece el dictamen final en la causa N° 13-04422907-7/1, conocida como \"Farconesi, Dante Ramón c/ Provincia ART SA p/ Enfermedad Accidente\". El Tribunal, after analyzing the arguments and evidence presented by both parties, rules in favor of the Province ART SA and dismisses the appeal filed by Dante Ramón Farconesi.\n",
      "\n",
      "The Court finds that the lower court's decision was correct and well-founded, and that there is no grounds for annulling the sentence. The Court also imposes costs on the appellant for the unsuccessful appeal.\n",
      "\n",
      "The ruling highlights the importance of respecting the decisions of the lower courts and the need to comply with the legal requirements for filing an appeal. The Court also emphasizes the need to carefully evaluate the evidence and arguments presented in an appeal, as the outcome of the case can depend on it.\n",
      "\n",
      "In conclusion, the Tribunal's decision in this case demonstrates the importance of following the proper legal procedures and respecting the decisions of the lower courts. The ruling provides a clear and comprehensive analysis of the case, and serves as a reminder of the need to comply with the legal requirements for filing an appeal.\n"
     ]
    }
   ],
   "source": [
    "query = \"You are a member of the supreme court in Mendoza, Argentina. You have to write a summary of the section named 'resuelve' of a particular court ruling . Write your answer in spanish in no less than 150 words::\"\n",
    "summary_res = (index.query(query,llm=llm))\n",
    "print(summary_res)"
   ]
  },
  {
   "cell_type": "code",
   "execution_count": 21,
   "id": "06501739-8ae9-4c07-a3e5-c2a4503522b5",
   "metadata": {},
   "outputs": [
    {
     "name": "stdout",
     "output_type": "stream",
     "text": [
      "You are a member of the supreme court, Argentina. Given the following summary of a particular court ruling:\n",
      "\n",
      "```\n",
      " En el \"Antecedentes\" de la sentencia en cuestión, se menciona que el informe pericial contable reveló que la póliza entre el Gobierno de Mendoza y Provincia ART S.A. fue celebrada el 1 de septiembre de 2013. Este dictamen fue considerado por ambas partes sin ser cuestionado por el actor. Además, se menciona que para otorgarles a los magistrados mayores herramientas para dilucidar los hechos, se celebró el \"Convenio Marco de Cooperación y Asistencia Técnica\" entre la Suprema Corte de Justicia, la Superintendencia de Riesgos del Trabajo y la Subsecretaría de Trabajo y Seguridad Social del Ministerio de Gobierno, Justicia y Derechos Humanos del Gobierno de Mendoza en fecha 17 de agosto de 2011. El aludido permite verificar la información existente en el organismo de contralor a través de su página institucional. A pesar de esto, la decisión de grado se sostiene sobre otros elementos incorporados al procedimiento por otras vías.\n",
      "\n",
      " La sección \"Sobre la primera cuestión\" del fallo del Tribunal de la Suprema Corte de Justicia de Mendoza se refiere a la admisión de un recurso extraordinario provincial interpuesto por Dante Ramón Farconesi contra la sentencia dictada en los autos n°159.313. Farconesi interpuso el recurso debido a que la sentencia inicial fue dictada en favor de Provincia ART S.A. en un caso de enfermedad accidental, originario de la Excma. Cámara Séptima del Trabajo de la Primera Circunscripción Judicial.\n",
      "\n",
      "El Tribunal consideró que no hubo lesión alguna a la defensa de Farconesi en el juicio, ya que el informe pericial contable rola a fs. 233 muestra que la póliza entre el Gobierno de Mendoza y Provincia ART S.A. fue celebrada en fecha 01/09/2013. Además, la defensa formuló su defensa por intermedio del Dr. Miguel Grosso.\n",
      "\n",
      "El Tribunal admitió el remedio intentado por Farconesi y ordenó el traslado a la contraria y la suspensión de los procedimientos en el grado. El Fiscal Adjunto Civil, Procuración General, se inclinó por la admisión de la articulación.\n",
      "\n",
      "En resumen, la sección \"Sobre la primera cuestión\" del fallo establece que Farconesi interpuso un recurso extraordinario provincial contra la sentencia dictada en los autos n°159.313, debido a que no hubo lesión alguna a su derecho de defensa en juicio, y que el Tribunal admitió el remedio intentado y ordenó el traslado a la contraria y la suspensión de los procedimientos en el grado.\n",
      "\n",
      " En la sección \"Sobre la segunda cuestión\" del fallo del Tribunal de la Suprema Corte de Justicia de Mendoza, se analiza la admisión de la articulación interpuesta por Dante Ramón Farconesi en su recurso extraordinario provincial contra la sentencia dictada en el caso \"Farconesi, Dante Ramón c/ Provincia ART SA p/ Enfermedad Accidente\". La cuestión en cuestión es si la póliza entre el Gobierno de Mendoza y Provincia ART S.A. fue celebrada en fecha 01/09/2013, como afirma el informe pericial contable.\n",
      "\n",
      "El Tribunal consideró que no hay lesión alguna a la defensa de Dante Ramón Farconesi en juicio, ya que el informe pericial no es contrario a la versión de los hechos presentada por la acción, sino más bien complementa y fortalece la misma. Además, se destacó que la admisión de la articulación es necesaria para dilucidar los hechos y otorgar herramientas mayores a los magistrados para resolver la causa.\n",
      "\n",
      "Por otro lado, se mencionó que el Convenio Marco de Cooperación y Asistencia Técnica celebrado entre la Suprema Corte de Justicia, la Superintendencia de Riesgos del Trabajo y la Subsecretaría de Trabajo y Seguridad Social del Ministerio de Gobierno, Justicia y Derechos Humanos del Gobierno de Mendoza, permite verificar la información existente en el organismo de contralor, a través de su página institucional, para lo cual los tribunales mendocinos no se encuentran limitados siempre que la finalidad que los mueva sea la de encontrar la tan preciada veracidad.\n",
      "\n",
      "En resumen, la sección \"Sobre la segunda cuestión\" del fallo del Tribunal de la Suprema Corte de Justicia de Mendoza analiza la admisión de la articulación interpuesta por Dante Ramón Farconesi en su recurso extraordinario provincial y se destaca la importancia de la cooperación y asistencia técnica entre los organismos para dilucidar los hechos y encontrar la verdad.\n",
      "\n",
      "  En la sección \"Sobre la tercera cuestión\" del fallo del Tribunal de Mendoza, se analiza la admisión de la articulación presentada por el actor Dante Ramón Farconesi en su recurso extraordinario provincial contra la sentencia dictada en el auto n° 159.313. La cuestión en cuestión se refiere a la admisión de la defensa presentada por el Dr. Miguel Grosso, quien argumentó que la póliza entre el Gobierno de Mendoza y Provincia ART S.A. fue celebrada en fecha 01/09/2013.\n",
      "\n",
      "El Tribunal encontró que la defensa presentada es relevante y admisible, ya que se trata de un hecho clave en el caso y puede afectar la resolución de la cuestión en disputa. Además, se consideró que la póliza es un documento probatorio que puede ser utilizado para respaldar la defensa presentada, por lo que se decidió admitirla en el proceso.\n",
      "\n",
      "En resumen, la sección \"Sobre la tercera cuestión\" del fallo del Tribunal de Mendoza se centra en la admisión de la defensa presentada por el Dr. Miguel Grosso, quien argumentó que la póliza entre el Gobierno de Mendoza y Provincia ART S.A. fue celebrada en fecha 01/09/2013, y se decidió admitirla en el proceso debido a su relevancia y admisibilidad.\n",
      "\n",
      "  En la sección \"resuelve\" del fallo del Tribunal de la Segunda Sala de la Suprema Corte de Justicia de Mendoza, se establece el dictamen final en la causa N° 13-04422907-7/1, conocida como \"Farconesi, Dante Ramón c/ Provincia ART SA p/ Enfermedad Accidente\". El Tribunal, after analyzing the arguments and evidence presented by both parties, rules in favor of the Province ART SA and dismisses the appeal filed by Dante Ramón Farconesi.\n",
      "\n",
      "The Court finds that the lower court's decision was correct and well-founded, and that there is no grounds for annulling the sentence. The Court also imposes costs on the appellant for the unsuccessful appeal.\n",
      "\n",
      "The ruling highlights the importance of respecting the decisions of the lower courts and the need to comply with the legal requirements for filing an appeal. The Court also emphasizes the need to carefully evaluate the evidence and arguments presented in an appeal, as the outcome of the case can depend on it.\n",
      "\n",
      "In conclusion, the Tribunal's decision in this case demonstrates the importance of following the proper legal procedures and respecting the decisions of the lower courts. The ruling provides a clear and comprehensive analysis of the case, and serves as a reminder of the need to comply with the legal requirements for filing an appeal..\n",
      "```\n",
      "\n",
      "Write a court rule summary in spanish in no less than 150 words. Do not mention:\n",
      "1. the name of the the sections.\n",
      "2. the numbers of the cases.\n",
      "3. the names of the ministers of the court.\n",
      "4. dates and court locations..\n",
      "\n",
      "When writing the summary keep in mind it can help for future jurisprudence. Explain the causes behind the final decision\n"
     ]
    }
   ],
   "source": [
    "prompt = f\"You are a member of the supreme court, Argentina. Given the following summary of a particular court ruling:\\n\\n```\\n{summary_ant}\\n\\n{summary_1}\\n\\n{summary_2}\\n\\n {summary_3}\\n\\n {summary_res}.\\n```\\n\\n\"\n",
    "prompt +=\"Write a court rule summary in spanish in no less than 150 words. Do not mention:\\n1. the name of the the sections.\\n2. the numbers of the cases.\\n3. the names of the ministers of the court.\\n4. dates and court locations..\\n\\n\"\n",
    "prompt +=\"When writing the summary keep in mind it can help for future jurisprudence. Explain the causes behind the final decision\"\n",
    "print(prompt)"
   ]
  },
  {
   "cell_type": "code",
   "execution_count": 22,
   "id": "67ab629e-17a8-497d-9357-d9647045b638",
   "metadata": {},
   "outputs": [
    {
     "name": "stdout",
     "output_type": "stream",
     "text": [
      " El fallo del Tribunal de la Suprema Corte de Justicia de Mendoza en el caso \"Farconesi, Dante Ramón c/ Provincia ART SA p/ Enfermedad Accidente\" se centra en la admisión de la defensa presentada por el Dr. Miguel Grosso, quien argumentó que la póliza entre el Gobierno de Mendoza y Provincia ART S.A. fue celebrada en fecha 01/09/2013. El Tribunal encontró que la defensa presentada es relevante y admisible, ya que se trata de un hecho clave en el caso y puede afectar la resolución de la cuestión en disputa. Además, se consideró que la póliza es un documento probatorio que puede ser utilizado para respaldar la defensa presentada, por lo que se decidió admitirla en el proceso.\n",
      "\n",
      "La sección \"Sobre la segunda cuestión\" del fallo analiza la admisión de la articulación interpuesta por Dante Ramón Farconesi en su recurso extraordinario provincial y se destaca la importancia de la cooperación y asistencia técnica entre los organismos para dilucidar los hechos y encontrar la verdad.\n",
      "\n",
      "El Tribunal encontró que no hay lesión alguna a la defensa de Dante Ramón Farconesi en juicio, ya que el informe pericial no es contrario a la versión de los hechos presentada por la acción, sino más bien complementa y fortalece la misma. Además, se destacó que la admisión de la articulación es necesaria para dilucidar los hechos y otorgar herramientas mayores a los magistrados para resolver la causa.\n",
      "\n",
      "En resumen, el fallo del Tribunal de la Suprema Corte de Justicia de Mendoza establece que la defensa presentada por el Dr. Miguel Grosso es relevante y admisible, y que la póliza entre el Gobierno de Mendoza y Provincia ART S.A. fue celebrada en fecha 01/09/2013. Además, se destaca la importancia de la cooperación y asistencia técnica entre los organismos para dilucidar los hechos y encontrar la verdad.\n",
      "\n",
      "La causa final del fallo es que el Tribunal consideró que no hay lesión alguna a la defensa de Dante Ramón Farconesi en juicio, y que la admisión de la articulación es necesaria para dilucidar los hechos y otorgar herramientas mayores a los magistrados para resolver la causa. Además, se estableció que el informe pericial es complementario y fortalece la versión de los hechos presentada por la acción.\n",
      "\n",
      "En conclusión, el fallo del Tribunal de la Suprema Corte de Justicia de Mendoza es un ejemplo de cómo la cooperación y asistencia técnica entre los organismos puede ayudar a dilucidar los hechos y encontrar la verdad en un caso de enfermedad accidental. La defensa presentada por el Dr. Miguel Grosso es relevante y admisible, y la póliza entre el Gobierno de Mendoza y Provincia ART S.A. fue celebrada en fecha 01/09/2013.\n"
     ]
    }
   ],
   "source": [
    "print(llm(prompt,))"
   ]
  },
  {
   "cell_type": "markdown",
   "id": "ffd95b28-7288-4a23-b70b-6b77268a7912",
   "metadata": {},
   "source": [
    "# FUNCTIONS"
   ]
  },
  {
   "cell_type": "markdown",
   "id": "38c397a0-8688-43af-a280-bc6ce0c6f014",
   "metadata": {
    "tags": []
   },
   "source": [
    "## Create summary"
   ]
  },
  {
   "cell_type": "code",
   "execution_count": 40,
   "id": "e7637092-0217-49ac-ad2c-da063529a92b",
   "metadata": {},
   "outputs": [],
   "source": [
    "def create_summary(rule_file, embedding, llm):\n",
    "    loader = UnstructuredPDFLoader(rule_file)\n",
    "    index = VectorstoreIndexCreator(embedding=embedding).from_loaders([loader])\n",
    "    index.vectorstore.delete_collection()\n",
    "    index = VectorstoreIndexCreator(embedding=embedding).from_loaders([loader])\n",
    "    query = \"You are a member of the supreme court in Mendoza, Argentina. You have to write a summary of the section named 'Antecedentes' of a particular court ruling . Write your answer in spanish in no less than 150 words:\"\n",
    "    summary_ant = (index.query(query,llm=llm))\n",
    "    query = \"You are a member of the supreme court in Mendoza, Argentina. You have to write a summary of the section named 'Sobre la primera cuestion' of a particular court ruling . Write your answer in spanish in no less than 150 words::\"\n",
    "    summary_1 = (index.query(query,llm=llm))\n",
    "    query = \"You are a member of the supreme court in Mendoza, Argentina. You have to write a summary of the section named 'Sobre la segunda cuestion' of a particular court ruling . Write your answer in spanish in no less than 150 words::\"\n",
    "    summary_2 = (index.query(query,llm=llm))\n",
    "    query = \"You are a member of the supreme court in Mendoza, Argentina. You have to write a summary of the section named 'Sobre la tercera cuestion' of a particular court ruling . Write your answer in spanish in no less than 150 words::\"\n",
    "    summary_3 = (index.query(query,llm=llm))\n",
    "    query = \"You are a member of the supreme court in Mendoza, Argentina. You have to write a summary of the section named 'resuelve' of a particular court ruling . Write your answer in spanish in no less than 150 words::\"\n",
    "    summary_res = (index.query(query,llm=llm))\n",
    "\n",
    "    prompt = f\"You are a member of the supreme court, Argentina. Given the following summary of a particular court ruling:\\n\\n```\\n{summary_ant}\\n\\n{summary_1}\\n\\n{summary_2}\\n\\n {summary_3}\\n\\n {summary_res}.\\n```\\n\\n\"\n",
    "    prompt +=\"Write a court rule summary in spanish in no less than 150 words. Do not mention:\\n1. the name of the the sections.\\n2. the numbers of the cases.\\n3. the names of the ministers of the court.\\n4. dates and court locations..\\n\\n\"\n",
    "    prompt +=\"When writing the summary keep in mind it can help for future jurisprudence. Explain the causes behind the final decision. Translate your answer to spanish:\"\n",
    "    del index\n",
    "    return llm(prompt)\n"
   ]
  },
  {
   "cell_type": "code",
   "execution_count": 49,
   "id": "df52b6de-8d30-4e80-86ba-a990799c028d",
   "metadata": {},
   "outputs": [],
   "source": [
    "test = create_summary(\"/root/JurisGPT/rawdata/laboral/10000003368.pdf\", embedding = embedding, llm = llm)"
   ]
  },
  {
   "cell_type": "code",
   "execution_count": 50,
   "id": "f54b246d-d660-4b62-8ee0-4ed893eee16e",
   "metadata": {},
   "outputs": [
    {
     "data": {
      "text/plain": [
       "' El Tribunal Superior de Mendoza en la causa \"Manrique\" (N° 13-04491180-3/1) analizó la interpretación de la normativa legal en relación al plazo de actuación para la resolución de causas laborales. Se destaca que el artículo 124 de la Ley nº 9.024 establece un plazo de 3 días hábiles judiciales para la apelación contra las Resoluciones Viales de los Jueces Administrativos, mientras que el artículo 21 de la Ley nº 8.729 establece un plazo de 10 días para la apelación de las decisiones del Organismo del Trabajo (Subsecretaría del Trabajo y Seguridad Social) en el procedimiento de conciliación laboral.\\n\\nLa Corte Suprema consideró que la ley 933 de la Provincia de Mendoza, que estableció un plazo de caducidad de 30 días para iniciar la acción de repetición por parte del acreedor, fue inconstitucional debido a que imponía un plazo inferior al establecido por el Código Civil. En este sentido, se resalta la importancia de la adhesión de la Provincia de Mendoza a las disposiciones contenidas en el Título I de la Ley Nacional N° 27.348 (complementaria de la Ley sobre Riesgos del Trabajo N° 24.557), que reconoció la delegación a la jurisdicción administrativa nacional de la totalidad de las competencias necesarias para dar cumplimiento al procedimiento administrativo obligatorio establecido por dicha norma, pero respetando la autonomía provincial en lo que resulta materia no delegable.\\n\\nEn conclusión, la Corte Suprema en la causa \"Manrique\" analizó la consistencia de la decisión del Superior Tribunal de la Provincia de Córdoba en el caso \"Rodríguez\", y cómo esta decisión no es equiparable a la decisión en la causa \"Shell-Mex Argentina Ltda.\", pero sí muestra la necesidad de otorgar certeza en el modo de actuar y asegurar el tratamiento igualitario del justiciable. Además, se resalta la importancia de la adhesión de la Provincia de Mendoza a las disposiciones contenidas en el Título I de la Ley Nacional N° 27.348, que reconoció la delegación a la jurisdicción administrativa nacional de la totalidad de las competencias necesarias para dar cumplimiento al procedimiento administrativo obligatorio establecido por dicha norma, pero respetando la autonomía provincial en lo que resulta materia no delegable.'"
      ]
     },
     "execution_count": 50,
     "metadata": {},
     "output_type": "execute_result"
    }
   ],
   "source": [
    "test"
   ]
  },
  {
   "cell_type": "markdown",
   "id": "2cd83f15-7ec3-4090-9add-b6ff97fba189",
   "metadata": {
    "tags": []
   },
   "source": [
    "## Create summary from dir"
   ]
  },
  {
   "cell_type": "code",
   "execution_count": 52,
   "id": "dc34f7a1-2175-49d9-9b96-9201854e7f9a",
   "metadata": {},
   "outputs": [],
   "source": [
    "def create_summary_from_dir(directory_path, output_directory_path, embedding, llm):\n",
    "    # Loop through each file in the directory\n",
    "    for filename in os.listdir(directory_path):\n",
    "        # Extract the file extension\n",
    "        name, extension = os.path.splitext(filename)\n",
    "        \n",
    "        # Build the full file path\n",
    "        file_path = os.path.join(directory_path, filename)\n",
    "        \n",
    "        # Skip directories, only work on PDF files\n",
    "        if os.path.isfile(file_path) and extension.lower() == '.pdf':\n",
    "            # Generate summary\n",
    "            summary = create_summary(file_path, embedding, llm)\n",
    "            \n",
    "            # Save summary to new file\n",
    "            summary_filename = f\"{name}_summary.txt\"\n",
    "            summary_file_path = os.path.join(output_directory_path, summary_filename)\n",
    "            \n",
    "            with open(summary_file_path, 'w') as f:\n",
    "                f.write(summary)\n",
    "\n"
   ]
  },
  {
   "cell_type": "markdown",
   "id": "144ad149-3151-4150-ae62-8d6c7775a64c",
   "metadata": {},
   "source": [
    "## Calculate ROUGE metric"
   ]
  },
  {
   "cell_type": "code",
   "execution_count": 72,
   "id": "0a6b05f1-88a3-492d-9b42-ecb281871b03",
   "metadata": {},
   "outputs": [],
   "source": [
    "import os\n",
    "import re\n",
    "from rouge import Rouge\n",
    "\n",
    "def calculate_rouge(system_dir, model_dir, system_filename_pattern, model_filename_pattern):\n",
    "    # Initialize Rouge\n",
    "    rouge = Rouge()\n",
    "    \n",
    "    # Compile the regular expressions for filename patterns\n",
    "    system_re = re.compile(system_filename_pattern)\n",
    "    model_re = re.compile(model_filename_pattern)\n",
    "    \n",
    "    # Initialize storage for scores\n",
    "    all_scores = []\n",
    "\n",
    "    # Loop through the files in the system summaries directory\n",
    "    for system_filename in os.listdir(system_dir):\n",
    "        match = system_re.match(system_filename)\n",
    "        if not match:\n",
    "            continue\n",
    "\n",
    "        # Extract ID\n",
    "        system_id = match.groups()[0]\n",
    "\n",
    "        # Find the corresponding model summary file using ID\n",
    "        model_filename = f\"{system_id}_summary.txt\"\n",
    "        model_path = os.path.join(model_dir, model_filename)\n",
    "\n",
    "        # Check if model summary exists\n",
    "        if not os.path.exists(model_path):\n",
    "            print(f\"Model summary for {system_id} not found. Attempted to open {model_path}\")\n",
    "            continue\n",
    "\n",
    "        \n",
    "\n",
    "        # Check if model summary exists\n",
    "        if not os.path.exists(model_path):\n",
    "            print(f\"Model summary for {system_id} not found.\")\n",
    "            continue\n",
    "\n",
    "        # Read system and model summaries\n",
    "        with open(os.path.join(system_dir, system_filename), 'r', encoding='utf-8') as f:\n",
    "            system_summary = f.read().strip()\n",
    "        \n",
    "        with open(model_path, 'r', encoding='utf-8') as f:\n",
    "            model_summary = f.read().strip()\n",
    "\n",
    "        # Compute the ROUGE score\n",
    "        score = rouge.get_scores(system_summary, model_summary)[0]\n",
    "        #all_scores.append(score)\n",
    "        all_scores.append({\n",
    "            'system_id': system_id,\n",
    "            'rouge-1': score['rouge-1'],\n",
    "            'rouge-2': score['rouge-2'],\n",
    "            'rouge-l': score.get('rouge-l', {})  # Add this line to include ROUGE-L\n",
    "        })\n",
    "        # Compute the ROUGE score\n",
    "\n",
    "\n",
    "        # Extract ROUGE-1, ROUGE-2, and ROUGE-3 scores\n",
    "        #rouge_1 = score.get('rouge-1', {})\n",
    "        #rouge_2 = score.get('rouge-2', {})\n",
    "       \n",
    "        # Pretty-print scores\n",
    "        #print(f\"ROUGE scores for ID {system_id}:\")\n",
    "        #print(f\"  ROUGE-1: R: {rouge_1.get('r', 'N/A'):.4f}, P: {rouge_1.get('p', 'N/A'):.4f}, F: {rouge_1.get('f', 'N/A'):.4f}\")\n",
    "        #print(f\"  ROUGE-2: R: {rouge_2.get('r', 'N/A'):.4f}, P: {rouge_2.get('p', 'N/A'):.4f}, F: {rouge_2.get('f', 'N/A'):.4f}\")\n",
    "      \n",
    "        \n",
    "        #print(f\"ROUGE score for ID {system_id}: {score}\")\n",
    "\n",
    "    # If you want average scores, you can calculate that here from all_scores.\n",
    "    # ...\n",
    "\n",
    "    return all_scores\n"
   ]
  },
  {
   "cell_type": "markdown",
   "id": "997c8cab-e957-437d-9452-ca0ef1d612e2",
   "metadata": {},
   "source": [
    "## Print ROUGE TABLE"
   ]
  },
  {
   "cell_type": "code",
   "execution_count": 81,
   "id": "76070bc1-1dae-4c0c-b3d3-6b406ba10256",
   "metadata": {},
   "outputs": [],
   "source": [
    "import pandas as pd  # Don't forget to import pandas\n",
    "\n",
    "def print_rouge_table(all_scores):\n",
    "    pd.set_option('display.max_rows', None)\n",
    "    \n",
    "    system_ids = []\n",
    "    metrics = []\n",
    "    rs = []\n",
    "    ps = []\n",
    "    fs = []\n",
    "\n",
    "    # Loop through each dictionary to extract the values\n",
    "    for score_dict in all_scores:\n",
    "        system_id = score_dict['system_id']\n",
    "\n",
    "        for metric, values in score_dict.items():\n",
    "            if metric == 'system_id':\n",
    "                continue  # Skip the system_id, we've already saved it\n",
    "\n",
    "            system_ids.append(system_id)\n",
    "            metrics.append(metric)\n",
    "            rs.append(values['r'])\n",
    "            ps.append(values['p'])\n",
    "            fs.append(values['f'])\n",
    "\n",
    "    # Create the DataFrame\n",
    "    df_long = pd.DataFrame({\n",
    "        'system_id': system_ids,\n",
    "        'metric': metrics,\n",
    "        'r': rs,\n",
    "        'p': ps,\n",
    "        'f': fs\n",
    "    })\n",
    "\n",
    "    return df_long"
   ]
  },
  {
   "cell_type": "markdown",
   "id": "dd7a2c51-b6ee-4405-97ee-5281a277e656",
   "metadata": {
    "tags": []
   },
   "source": [
    "# UTILS"
   ]
  },
  {
   "cell_type": "markdown",
   "id": "e885c0c4-31c9-40d4-9387-ac5c353121e9",
   "metadata": {
    "tags": []
   },
   "source": [
    "## Stop LLAMA Jumpstart endpoint"
   ]
  },
  {
   "cell_type": "code",
   "execution_count": 75,
   "id": "9d34763d-9ee2-4da5-b82e-a94cf0d3b8e1",
   "metadata": {},
   "outputs": [
    {
     "data": {
      "text/plain": [
       "{'ResponseMetadata': {'RequestId': '1bd5f1d8-6f85-414d-8591-3a4a6c1fc78a',\n",
       "  'HTTPStatusCode': 200,\n",
       "  'HTTPHeaders': {'x-amzn-requestid': '1bd5f1d8-6f85-414d-8591-3a4a6c1fc78a',\n",
       "   'content-type': 'application/x-amz-json-1.1',\n",
       "   'content-length': '0',\n",
       "   'date': 'Sat, 19 Aug 2023 16:42:30 GMT'},\n",
       "  'RetryAttempts': 0}}"
      ]
     },
     "execution_count": 75,
     "metadata": {},
     "output_type": "execute_result"
    }
   ],
   "source": [
    "import boto3\n",
    "\n",
    "region = boto3.Session().region_name\n",
    "endpoint_name = \"jumpstart-dft-meta-textgeneration-llama-2-7b-f\"\n",
    "\n",
    "# Create a low-level SageMaker service client.\n",
    "sagemaker_client = boto3.client('sagemaker', region_name=aws_region)\n",
    "\n",
    "# Delete endpoint\n",
    "sagemaker_client.delete_endpoint(EndpointName=endpoint_name)"
   ]
  },
  {
   "cell_type": "markdown",
   "id": "348d7eba-5a67-4237-b63b-3b4bbcddb7c1",
   "metadata": {},
   "source": [
    "# MAIN"
   ]
  },
  {
   "cell_type": "markdown",
   "id": "3ec2b1f3-2465-43cb-82b0-c1707d7a1e9b",
   "metadata": {},
   "source": [
    "## Create Summaries"
   ]
  },
  {
   "cell_type": "code",
   "execution_count": null,
   "id": "0ebef33f-f5c4-4023-8ddb-724fd77bf462",
   "metadata": {},
   "outputs": [],
   "source": [
    "directory_path = \"/root/JurisGPT/rawdata/laboral/\"  \n",
    "output_directory_path = \"/root/JurisGPT/data/laboral/qa/\"  \n",
    "create_summary_from_dir(directory_path, output_directory_path, embedding = embedding, llm = llm)"
   ]
  },
  {
   "cell_type": "markdown",
   "id": "730628bc-c6bc-4230-9f81-4613da758629",
   "metadata": {
    "tags": []
   },
   "source": [
    "## Calculate ROUGE"
   ]
  },
  {
   "cell_type": "markdown",
   "id": "af048859-a98c-451b-87e1-5afde5b17528",
   "metadata": {},
   "source": [
    "The ROUGE-1 metric is a type of Recall-Oriented Understudy for Gisting Evaluation (ROUGE) score that is commonly used for evaluating the quality of summaries by comparing them to reference summaries. Specifically, ROUGE-1 measures the overlap of unigrams (single words) between the generated summary and the reference summary.\n",
    "\n",
    "The ROUGE-1 score comprises three values:\n",
    "\n",
    "1. **Precision (P)**: This measures the number of overlapping unigrams found in both the generated summary and the reference summary, divided by the total number of unigrams in the generated summary. In essence, precision answers the question: \"Of all the unigrams in the generated summary, how many are in the reference summary?\"\n",
    "   \\[\n",
    "   \\text{Precision} = \\frac{\\text{Number of overlapping unigrams}}{\\text{Total number of unigrams in generated summary}}\n",
    "   \\]\n",
    "\n",
    "2. **Recall (R)**: This measures the number of overlapping unigrams found in both the generated summary and the reference summary, divided by the total number of unigrams in the reference summary. Recall answers the question: \"Of all the unigrams in the reference summary, how many are in the generated summary?\"\n",
    "   \\[\n",
    "   \\text{Recall} = \\frac{\\text{Number of overlapping unigrams}}{\\text{Total number of unigrams in reference summary}}\n",
    "   \\]\n",
    "\n",
    "3. **F1 Score (F)**: This is the harmonic mean of precision and recall and serves as a single number that balances the trade-off between precision and recall.\n",
    "   \\[\n",
    "   \\text{F1 Score} = \\frac{2 \\times \\text{Precision} \\times \\text{Recall}}{\\text{Precision} + \\text{Recall}}\n",
    "   \\]\n",
    "\n",
    "ROUGE-1 is particularly useful for assessing the quality of extractive summaries, where sentences or phrases are selected from the original text to form a summary. The metric can also be used for abstractive summaries but may not capture the quality of the summary as effectively as when combined with other ROUGE metrics like ROUGE-2 (bigram overlap) or ROUGE-L (longest common subsequence)."
   ]
  },
  {
   "cell_type": "code",
   "execution_count": null,
   "id": "fc5b0b30-673d-4177-a4d4-ed807e626476",
   "metadata": {},
   "outputs": [],
   "source": []
  },
  {
   "cell_type": "code",
   "execution_count": 82,
   "id": "0eacb802-e06e-475d-83e5-cb27047f2f79",
   "metadata": {},
   "outputs": [],
   "source": [
    "\n",
    "# Paths and patterns\n",
    "system_dir = '/root/JurisGPT/rawdata/laboral/sumarios/'\n",
    "model_dir = '/root/JurisGPT/data/laboral/qa/'\n",
    "system_filename_pattern = r'(\\d+)\\.txt'\n",
    "model_filename_pattern = r'(\\d+)_summary\\.txt'\n",
    "\n",
    "\n",
    "# Calculate ROUGE\n",
    "all_scores = calculate_rouge(system_dir, model_dir, system_filename_pattern, model_filename_pattern)"
   ]
  },
  {
   "cell_type": "code",
   "execution_count": 87,
   "id": "10f197ee-c526-4d7b-bbb2-b7d7ef7e0ee3",
   "metadata": {},
   "outputs": [
    {
     "data": {
      "text/html": [
       "<div>\n",
       "<style scoped>\n",
       "    .dataframe tbody tr th:only-of-type {\n",
       "        vertical-align: middle;\n",
       "    }\n",
       "\n",
       "    .dataframe tbody tr th {\n",
       "        vertical-align: top;\n",
       "    }\n",
       "\n",
       "    .dataframe thead th {\n",
       "        text-align: right;\n",
       "    }\n",
       "</style>\n",
       "<table border=\"1\" class=\"dataframe\">\n",
       "  <thead>\n",
       "    <tr style=\"text-align: right;\">\n",
       "      <th></th>\n",
       "      <th>system_id</th>\n",
       "      <th>metric</th>\n",
       "      <th>r</th>\n",
       "      <th>p</th>\n",
       "      <th>f</th>\n",
       "    </tr>\n",
       "  </thead>\n",
       "  <tbody>\n",
       "    <tr>\n",
       "      <th>0</th>\n",
       "      <td>10000003275</td>\n",
       "      <td>rouge-1</td>\n",
       "      <td>0.208333</td>\n",
       "      <td>0.102459</td>\n",
       "      <td>0.137363</td>\n",
       "    </tr>\n",
       "    <tr>\n",
       "      <th>3</th>\n",
       "      <td>10000003307</td>\n",
       "      <td>rouge-1</td>\n",
       "      <td>0.394737</td>\n",
       "      <td>0.092025</td>\n",
       "      <td>0.149254</td>\n",
       "    </tr>\n",
       "    <tr>\n",
       "      <th>6</th>\n",
       "      <td>10000003220</td>\n",
       "      <td>rouge-1</td>\n",
       "      <td>0.281553</td>\n",
       "      <td>0.224806</td>\n",
       "      <td>0.250000</td>\n",
       "    </tr>\n",
       "    <tr>\n",
       "      <th>9</th>\n",
       "      <td>10000003219</td>\n",
       "      <td>rouge-1</td>\n",
       "      <td>0.308943</td>\n",
       "      <td>0.111765</td>\n",
       "      <td>0.164147</td>\n",
       "    </tr>\n",
       "    <tr>\n",
       "      <th>12</th>\n",
       "      <td>10000003258</td>\n",
       "      <td>rouge-1</td>\n",
       "      <td>0.319149</td>\n",
       "      <td>0.173077</td>\n",
       "      <td>0.224439</td>\n",
       "    </tr>\n",
       "    <tr>\n",
       "      <th>15</th>\n",
       "      <td>10000003300</td>\n",
       "      <td>rouge-1</td>\n",
       "      <td>0.248062</td>\n",
       "      <td>0.132231</td>\n",
       "      <td>0.172507</td>\n",
       "    </tr>\n",
       "    <tr>\n",
       "      <th>18</th>\n",
       "      <td>10000003368</td>\n",
       "      <td>rouge-1</td>\n",
       "      <td>0.328000</td>\n",
       "      <td>0.172269</td>\n",
       "      <td>0.225895</td>\n",
       "    </tr>\n",
       "    <tr>\n",
       "      <th>21</th>\n",
       "      <td>10000003221</td>\n",
       "      <td>rouge-1</td>\n",
       "      <td>0.168000</td>\n",
       "      <td>0.108247</td>\n",
       "      <td>0.131661</td>\n",
       "    </tr>\n",
       "    <tr>\n",
       "      <th>24</th>\n",
       "      <td>10000003292</td>\n",
       "      <td>rouge-1</td>\n",
       "      <td>0.275168</td>\n",
       "      <td>0.127726</td>\n",
       "      <td>0.174468</td>\n",
       "    </tr>\n",
       "    <tr>\n",
       "      <th>27</th>\n",
       "      <td>10000003247</td>\n",
       "      <td>rouge-1</td>\n",
       "      <td>0.265487</td>\n",
       "      <td>0.147059</td>\n",
       "      <td>0.189274</td>\n",
       "    </tr>\n",
       "  </tbody>\n",
       "</table>\n",
       "</div>"
      ],
      "text/plain": [
       "      system_id   metric         r         p         f\n",
       "0   10000003275  rouge-1  0.208333  0.102459  0.137363\n",
       "3   10000003307  rouge-1  0.394737  0.092025  0.149254\n",
       "6   10000003220  rouge-1  0.281553  0.224806  0.250000\n",
       "9   10000003219  rouge-1  0.308943  0.111765  0.164147\n",
       "12  10000003258  rouge-1  0.319149  0.173077  0.224439\n",
       "15  10000003300  rouge-1  0.248062  0.132231  0.172507\n",
       "18  10000003368  rouge-1  0.328000  0.172269  0.225895\n",
       "21  10000003221  rouge-1  0.168000  0.108247  0.131661\n",
       "24  10000003292  rouge-1  0.275168  0.127726  0.174468\n",
       "27  10000003247  rouge-1  0.265487  0.147059  0.189274"
      ]
     },
     "execution_count": 87,
     "metadata": {},
     "output_type": "execute_result"
    }
   ],
   "source": [
    "rouge_table = print_rouge_table(all_scores)\n",
    "rouge_table.query(\"metric == 'rouge-1'\")"
   ]
  },
  {
   "cell_type": "code",
   "execution_count": 85,
   "id": "b720c08e-7c66-4cb6-853d-a47648a29fdc",
   "metadata": {},
   "outputs": [
    {
     "data": {
      "text/html": [
       "<div>\n",
       "<style scoped>\n",
       "    .dataframe tbody tr th:only-of-type {\n",
       "        vertical-align: middle;\n",
       "    }\n",
       "\n",
       "    .dataframe tbody tr th {\n",
       "        vertical-align: top;\n",
       "    }\n",
       "\n",
       "    .dataframe thead th {\n",
       "        text-align: right;\n",
       "    }\n",
       "</style>\n",
       "<table border=\"1\" class=\"dataframe\">\n",
       "  <thead>\n",
       "    <tr style=\"text-align: right;\">\n",
       "      <th></th>\n",
       "      <th>system_id</th>\n",
       "      <th>metric</th>\n",
       "      <th>r</th>\n",
       "      <th>p</th>\n",
       "      <th>f</th>\n",
       "    </tr>\n",
       "  </thead>\n",
       "  <tbody>\n",
       "    <tr>\n",
       "      <th>0</th>\n",
       "      <td>10000003275</td>\n",
       "      <td>rouge-1</td>\n",
       "      <td>0.208333</td>\n",
       "      <td>0.102459</td>\n",
       "      <td>0.137363</td>\n",
       "    </tr>\n",
       "    <tr>\n",
       "      <th>1</th>\n",
       "      <td>10000003275</td>\n",
       "      <td>rouge-2</td>\n",
       "      <td>0.035354</td>\n",
       "      <td>0.017588</td>\n",
       "      <td>0.023490</td>\n",
       "    </tr>\n",
       "    <tr>\n",
       "      <th>2</th>\n",
       "      <td>10000003275</td>\n",
       "      <td>rouge-l</td>\n",
       "      <td>0.183333</td>\n",
       "      <td>0.090164</td>\n",
       "      <td>0.120879</td>\n",
       "    </tr>\n",
       "    <tr>\n",
       "      <th>3</th>\n",
       "      <td>10000003307</td>\n",
       "      <td>rouge-1</td>\n",
       "      <td>0.394737</td>\n",
       "      <td>0.092025</td>\n",
       "      <td>0.149254</td>\n",
       "    </tr>\n",
       "    <tr>\n",
       "      <th>4</th>\n",
       "      <td>10000003307</td>\n",
       "      <td>rouge-2</td>\n",
       "      <td>0.203540</td>\n",
       "      <td>0.041071</td>\n",
       "      <td>0.068351</td>\n",
       "    </tr>\n",
       "    <tr>\n",
       "      <th>5</th>\n",
       "      <td>10000003307</td>\n",
       "      <td>rouge-l</td>\n",
       "      <td>0.355263</td>\n",
       "      <td>0.082822</td>\n",
       "      <td>0.134328</td>\n",
       "    </tr>\n",
       "    <tr>\n",
       "      <th>6</th>\n",
       "      <td>10000003220</td>\n",
       "      <td>rouge-1</td>\n",
       "      <td>0.281553</td>\n",
       "      <td>0.224806</td>\n",
       "      <td>0.250000</td>\n",
       "    </tr>\n",
       "    <tr>\n",
       "      <th>7</th>\n",
       "      <td>10000003220</td>\n",
       "      <td>rouge-2</td>\n",
       "      <td>0.074830</td>\n",
       "      <td>0.059140</td>\n",
       "      <td>0.066066</td>\n",
       "    </tr>\n",
       "    <tr>\n",
       "      <th>8</th>\n",
       "      <td>10000003220</td>\n",
       "      <td>rouge-l</td>\n",
       "      <td>0.233010</td>\n",
       "      <td>0.186047</td>\n",
       "      <td>0.206897</td>\n",
       "    </tr>\n",
       "    <tr>\n",
       "      <th>9</th>\n",
       "      <td>10000003219</td>\n",
       "      <td>rouge-1</td>\n",
       "      <td>0.308943</td>\n",
       "      <td>0.111765</td>\n",
       "      <td>0.164147</td>\n",
       "    </tr>\n",
       "    <tr>\n",
       "      <th>10</th>\n",
       "      <td>10000003219</td>\n",
       "      <td>rouge-2</td>\n",
       "      <td>0.093897</td>\n",
       "      <td>0.035461</td>\n",
       "      <td>0.051480</td>\n",
       "    </tr>\n",
       "    <tr>\n",
       "      <th>11</th>\n",
       "      <td>10000003219</td>\n",
       "      <td>rouge-l</td>\n",
       "      <td>0.252033</td>\n",
       "      <td>0.091176</td>\n",
       "      <td>0.133909</td>\n",
       "    </tr>\n",
       "    <tr>\n",
       "      <th>12</th>\n",
       "      <td>10000003258</td>\n",
       "      <td>rouge-1</td>\n",
       "      <td>0.319149</td>\n",
       "      <td>0.173077</td>\n",
       "      <td>0.224439</td>\n",
       "    </tr>\n",
       "    <tr>\n",
       "      <th>13</th>\n",
       "      <td>10000003258</td>\n",
       "      <td>rouge-2</td>\n",
       "      <td>0.146119</td>\n",
       "      <td>0.072562</td>\n",
       "      <td>0.096970</td>\n",
       "    </tr>\n",
       "    <tr>\n",
       "      <th>14</th>\n",
       "      <td>10000003258</td>\n",
       "      <td>rouge-l</td>\n",
       "      <td>0.283688</td>\n",
       "      <td>0.153846</td>\n",
       "      <td>0.199501</td>\n",
       "    </tr>\n",
       "    <tr>\n",
       "      <th>15</th>\n",
       "      <td>10000003300</td>\n",
       "      <td>rouge-1</td>\n",
       "      <td>0.248062</td>\n",
       "      <td>0.132231</td>\n",
       "      <td>0.172507</td>\n",
       "    </tr>\n",
       "    <tr>\n",
       "      <th>16</th>\n",
       "      <td>10000003300</td>\n",
       "      <td>rouge-2</td>\n",
       "      <td>0.074074</td>\n",
       "      <td>0.037825</td>\n",
       "      <td>0.050078</td>\n",
       "    </tr>\n",
       "    <tr>\n",
       "      <th>17</th>\n",
       "      <td>10000003300</td>\n",
       "      <td>rouge-l</td>\n",
       "      <td>0.217054</td>\n",
       "      <td>0.115702</td>\n",
       "      <td>0.150943</td>\n",
       "    </tr>\n",
       "    <tr>\n",
       "      <th>18</th>\n",
       "      <td>10000003368</td>\n",
       "      <td>rouge-1</td>\n",
       "      <td>0.328000</td>\n",
       "      <td>0.172269</td>\n",
       "      <td>0.225895</td>\n",
       "    </tr>\n",
       "    <tr>\n",
       "      <th>19</th>\n",
       "      <td>10000003368</td>\n",
       "      <td>rouge-2</td>\n",
       "      <td>0.123762</td>\n",
       "      <td>0.066138</td>\n",
       "      <td>0.086207</td>\n",
       "    </tr>\n",
       "    <tr>\n",
       "      <th>20</th>\n",
       "      <td>10000003368</td>\n",
       "      <td>rouge-l</td>\n",
       "      <td>0.304000</td>\n",
       "      <td>0.159664</td>\n",
       "      <td>0.209366</td>\n",
       "    </tr>\n",
       "    <tr>\n",
       "      <th>21</th>\n",
       "      <td>10000003221</td>\n",
       "      <td>rouge-1</td>\n",
       "      <td>0.168000</td>\n",
       "      <td>0.108247</td>\n",
       "      <td>0.131661</td>\n",
       "    </tr>\n",
       "    <tr>\n",
       "      <th>22</th>\n",
       "      <td>10000003221</td>\n",
       "      <td>rouge-2</td>\n",
       "      <td>0.067633</td>\n",
       "      <td>0.044872</td>\n",
       "      <td>0.053950</td>\n",
       "    </tr>\n",
       "    <tr>\n",
       "      <th>23</th>\n",
       "      <td>10000003221</td>\n",
       "      <td>rouge-l</td>\n",
       "      <td>0.152000</td>\n",
       "      <td>0.097938</td>\n",
       "      <td>0.119122</td>\n",
       "    </tr>\n",
       "    <tr>\n",
       "      <th>24</th>\n",
       "      <td>10000003292</td>\n",
       "      <td>rouge-1</td>\n",
       "      <td>0.275168</td>\n",
       "      <td>0.127726</td>\n",
       "      <td>0.174468</td>\n",
       "    </tr>\n",
       "    <tr>\n",
       "      <th>25</th>\n",
       "      <td>10000003292</td>\n",
       "      <td>rouge-2</td>\n",
       "      <td>0.105469</td>\n",
       "      <td>0.046794</td>\n",
       "      <td>0.064826</td>\n",
       "    </tr>\n",
       "    <tr>\n",
       "      <th>26</th>\n",
       "      <td>10000003292</td>\n",
       "      <td>rouge-l</td>\n",
       "      <td>0.208054</td>\n",
       "      <td>0.096573</td>\n",
       "      <td>0.131915</td>\n",
       "    </tr>\n",
       "    <tr>\n",
       "      <th>27</th>\n",
       "      <td>10000003247</td>\n",
       "      <td>rouge-1</td>\n",
       "      <td>0.265487</td>\n",
       "      <td>0.147059</td>\n",
       "      <td>0.189274</td>\n",
       "    </tr>\n",
       "    <tr>\n",
       "      <th>28</th>\n",
       "      <td>10000003247</td>\n",
       "      <td>rouge-2</td>\n",
       "      <td>0.081395</td>\n",
       "      <td>0.042169</td>\n",
       "      <td>0.055556</td>\n",
       "    </tr>\n",
       "    <tr>\n",
       "      <th>29</th>\n",
       "      <td>10000003247</td>\n",
       "      <td>rouge-l</td>\n",
       "      <td>0.221239</td>\n",
       "      <td>0.122549</td>\n",
       "      <td>0.157729</td>\n",
       "    </tr>\n",
       "  </tbody>\n",
       "</table>\n",
       "</div>"
      ],
      "text/plain": [
       "      system_id   metric         r         p         f\n",
       "0   10000003275  rouge-1  0.208333  0.102459  0.137363\n",
       "1   10000003275  rouge-2  0.035354  0.017588  0.023490\n",
       "2   10000003275  rouge-l  0.183333  0.090164  0.120879\n",
       "3   10000003307  rouge-1  0.394737  0.092025  0.149254\n",
       "4   10000003307  rouge-2  0.203540  0.041071  0.068351\n",
       "5   10000003307  rouge-l  0.355263  0.082822  0.134328\n",
       "6   10000003220  rouge-1  0.281553  0.224806  0.250000\n",
       "7   10000003220  rouge-2  0.074830  0.059140  0.066066\n",
       "8   10000003220  rouge-l  0.233010  0.186047  0.206897\n",
       "9   10000003219  rouge-1  0.308943  0.111765  0.164147\n",
       "10  10000003219  rouge-2  0.093897  0.035461  0.051480\n",
       "11  10000003219  rouge-l  0.252033  0.091176  0.133909\n",
       "12  10000003258  rouge-1  0.319149  0.173077  0.224439\n",
       "13  10000003258  rouge-2  0.146119  0.072562  0.096970\n",
       "14  10000003258  rouge-l  0.283688  0.153846  0.199501\n",
       "15  10000003300  rouge-1  0.248062  0.132231  0.172507\n",
       "16  10000003300  rouge-2  0.074074  0.037825  0.050078\n",
       "17  10000003300  rouge-l  0.217054  0.115702  0.150943\n",
       "18  10000003368  rouge-1  0.328000  0.172269  0.225895\n",
       "19  10000003368  rouge-2  0.123762  0.066138  0.086207\n",
       "20  10000003368  rouge-l  0.304000  0.159664  0.209366\n",
       "21  10000003221  rouge-1  0.168000  0.108247  0.131661\n",
       "22  10000003221  rouge-2  0.067633  0.044872  0.053950\n",
       "23  10000003221  rouge-l  0.152000  0.097938  0.119122\n",
       "24  10000003292  rouge-1  0.275168  0.127726  0.174468\n",
       "25  10000003292  rouge-2  0.105469  0.046794  0.064826\n",
       "26  10000003292  rouge-l  0.208054  0.096573  0.131915\n",
       "27  10000003247  rouge-1  0.265487  0.147059  0.189274\n",
       "28  10000003247  rouge-2  0.081395  0.042169  0.055556\n",
       "29  10000003247  rouge-l  0.221239  0.122549  0.157729"
      ]
     },
     "execution_count": 85,
     "metadata": {},
     "output_type": "execute_result"
    }
   ],
   "source": [
    "rouge_table"
   ]
  },
  {
   "cell_type": "code",
   "execution_count": null,
   "id": "9693cb61-c93d-45dd-8f43-2c167d4de023",
   "metadata": {},
   "outputs": [],
   "source": []
  }
 ],
 "metadata": {
  "availableInstances": [
   {
    "_defaultOrder": 0,
    "_isFastLaunch": true,
    "category": "General purpose",
    "gpuNum": 0,
    "hideHardwareSpecs": false,
    "memoryGiB": 4,
    "name": "ml.t3.medium",
    "vcpuNum": 2
   },
   {
    "_defaultOrder": 1,
    "_isFastLaunch": false,
    "category": "General purpose",
    "gpuNum": 0,
    "hideHardwareSpecs": false,
    "memoryGiB": 8,
    "name": "ml.t3.large",
    "vcpuNum": 2
   },
   {
    "_defaultOrder": 2,
    "_isFastLaunch": false,
    "category": "General purpose",
    "gpuNum": 0,
    "hideHardwareSpecs": false,
    "memoryGiB": 16,
    "name": "ml.t3.xlarge",
    "vcpuNum": 4
   },
   {
    "_defaultOrder": 3,
    "_isFastLaunch": false,
    "category": "General purpose",
    "gpuNum": 0,
    "hideHardwareSpecs": false,
    "memoryGiB": 32,
    "name": "ml.t3.2xlarge",
    "vcpuNum": 8
   },
   {
    "_defaultOrder": 4,
    "_isFastLaunch": true,
    "category": "General purpose",
    "gpuNum": 0,
    "hideHardwareSpecs": false,
    "memoryGiB": 8,
    "name": "ml.m5.large",
    "vcpuNum": 2
   },
   {
    "_defaultOrder": 5,
    "_isFastLaunch": false,
    "category": "General purpose",
    "gpuNum": 0,
    "hideHardwareSpecs": false,
    "memoryGiB": 16,
    "name": "ml.m5.xlarge",
    "vcpuNum": 4
   },
   {
    "_defaultOrder": 6,
    "_isFastLaunch": false,
    "category": "General purpose",
    "gpuNum": 0,
    "hideHardwareSpecs": false,
    "memoryGiB": 32,
    "name": "ml.m5.2xlarge",
    "vcpuNum": 8
   },
   {
    "_defaultOrder": 7,
    "_isFastLaunch": false,
    "category": "General purpose",
    "gpuNum": 0,
    "hideHardwareSpecs": false,
    "memoryGiB": 64,
    "name": "ml.m5.4xlarge",
    "vcpuNum": 16
   },
   {
    "_defaultOrder": 8,
    "_isFastLaunch": false,
    "category": "General purpose",
    "gpuNum": 0,
    "hideHardwareSpecs": false,
    "memoryGiB": 128,
    "name": "ml.m5.8xlarge",
    "vcpuNum": 32
   },
   {
    "_defaultOrder": 9,
    "_isFastLaunch": false,
    "category": "General purpose",
    "gpuNum": 0,
    "hideHardwareSpecs": false,
    "memoryGiB": 192,
    "name": "ml.m5.12xlarge",
    "vcpuNum": 48
   },
   {
    "_defaultOrder": 10,
    "_isFastLaunch": false,
    "category": "General purpose",
    "gpuNum": 0,
    "hideHardwareSpecs": false,
    "memoryGiB": 256,
    "name": "ml.m5.16xlarge",
    "vcpuNum": 64
   },
   {
    "_defaultOrder": 11,
    "_isFastLaunch": false,
    "category": "General purpose",
    "gpuNum": 0,
    "hideHardwareSpecs": false,
    "memoryGiB": 384,
    "name": "ml.m5.24xlarge",
    "vcpuNum": 96
   },
   {
    "_defaultOrder": 12,
    "_isFastLaunch": false,
    "category": "General purpose",
    "gpuNum": 0,
    "hideHardwareSpecs": false,
    "memoryGiB": 8,
    "name": "ml.m5d.large",
    "vcpuNum": 2
   },
   {
    "_defaultOrder": 13,
    "_isFastLaunch": false,
    "category": "General purpose",
    "gpuNum": 0,
    "hideHardwareSpecs": false,
    "memoryGiB": 16,
    "name": "ml.m5d.xlarge",
    "vcpuNum": 4
   },
   {
    "_defaultOrder": 14,
    "_isFastLaunch": false,
    "category": "General purpose",
    "gpuNum": 0,
    "hideHardwareSpecs": false,
    "memoryGiB": 32,
    "name": "ml.m5d.2xlarge",
    "vcpuNum": 8
   },
   {
    "_defaultOrder": 15,
    "_isFastLaunch": false,
    "category": "General purpose",
    "gpuNum": 0,
    "hideHardwareSpecs": false,
    "memoryGiB": 64,
    "name": "ml.m5d.4xlarge",
    "vcpuNum": 16
   },
   {
    "_defaultOrder": 16,
    "_isFastLaunch": false,
    "category": "General purpose",
    "gpuNum": 0,
    "hideHardwareSpecs": false,
    "memoryGiB": 128,
    "name": "ml.m5d.8xlarge",
    "vcpuNum": 32
   },
   {
    "_defaultOrder": 17,
    "_isFastLaunch": false,
    "category": "General purpose",
    "gpuNum": 0,
    "hideHardwareSpecs": false,
    "memoryGiB": 192,
    "name": "ml.m5d.12xlarge",
    "vcpuNum": 48
   },
   {
    "_defaultOrder": 18,
    "_isFastLaunch": false,
    "category": "General purpose",
    "gpuNum": 0,
    "hideHardwareSpecs": false,
    "memoryGiB": 256,
    "name": "ml.m5d.16xlarge",
    "vcpuNum": 64
   },
   {
    "_defaultOrder": 19,
    "_isFastLaunch": false,
    "category": "General purpose",
    "gpuNum": 0,
    "hideHardwareSpecs": false,
    "memoryGiB": 384,
    "name": "ml.m5d.24xlarge",
    "vcpuNum": 96
   },
   {
    "_defaultOrder": 20,
    "_isFastLaunch": false,
    "category": "General purpose",
    "gpuNum": 0,
    "hideHardwareSpecs": true,
    "memoryGiB": 0,
    "name": "ml.geospatial.interactive",
    "supportedImageNames": [
     "sagemaker-geospatial-v1-0"
    ],
    "vcpuNum": 0
   },
   {
    "_defaultOrder": 21,
    "_isFastLaunch": true,
    "category": "Compute optimized",
    "gpuNum": 0,
    "hideHardwareSpecs": false,
    "memoryGiB": 4,
    "name": "ml.c5.large",
    "vcpuNum": 2
   },
   {
    "_defaultOrder": 22,
    "_isFastLaunch": false,
    "category": "Compute optimized",
    "gpuNum": 0,
    "hideHardwareSpecs": false,
    "memoryGiB": 8,
    "name": "ml.c5.xlarge",
    "vcpuNum": 4
   },
   {
    "_defaultOrder": 23,
    "_isFastLaunch": false,
    "category": "Compute optimized",
    "gpuNum": 0,
    "hideHardwareSpecs": false,
    "memoryGiB": 16,
    "name": "ml.c5.2xlarge",
    "vcpuNum": 8
   },
   {
    "_defaultOrder": 24,
    "_isFastLaunch": false,
    "category": "Compute optimized",
    "gpuNum": 0,
    "hideHardwareSpecs": false,
    "memoryGiB": 32,
    "name": "ml.c5.4xlarge",
    "vcpuNum": 16
   },
   {
    "_defaultOrder": 25,
    "_isFastLaunch": false,
    "category": "Compute optimized",
    "gpuNum": 0,
    "hideHardwareSpecs": false,
    "memoryGiB": 72,
    "name": "ml.c5.9xlarge",
    "vcpuNum": 36
   },
   {
    "_defaultOrder": 26,
    "_isFastLaunch": false,
    "category": "Compute optimized",
    "gpuNum": 0,
    "hideHardwareSpecs": false,
    "memoryGiB": 96,
    "name": "ml.c5.12xlarge",
    "vcpuNum": 48
   },
   {
    "_defaultOrder": 27,
    "_isFastLaunch": false,
    "category": "Compute optimized",
    "gpuNum": 0,
    "hideHardwareSpecs": false,
    "memoryGiB": 144,
    "name": "ml.c5.18xlarge",
    "vcpuNum": 72
   },
   {
    "_defaultOrder": 28,
    "_isFastLaunch": false,
    "category": "Compute optimized",
    "gpuNum": 0,
    "hideHardwareSpecs": false,
    "memoryGiB": 192,
    "name": "ml.c5.24xlarge",
    "vcpuNum": 96
   },
   {
    "_defaultOrder": 29,
    "_isFastLaunch": true,
    "category": "Accelerated computing",
    "gpuNum": 1,
    "hideHardwareSpecs": false,
    "memoryGiB": 16,
    "name": "ml.g4dn.xlarge",
    "vcpuNum": 4
   },
   {
    "_defaultOrder": 30,
    "_isFastLaunch": false,
    "category": "Accelerated computing",
    "gpuNum": 1,
    "hideHardwareSpecs": false,
    "memoryGiB": 32,
    "name": "ml.g4dn.2xlarge",
    "vcpuNum": 8
   },
   {
    "_defaultOrder": 31,
    "_isFastLaunch": false,
    "category": "Accelerated computing",
    "gpuNum": 1,
    "hideHardwareSpecs": false,
    "memoryGiB": 64,
    "name": "ml.g4dn.4xlarge",
    "vcpuNum": 16
   },
   {
    "_defaultOrder": 32,
    "_isFastLaunch": false,
    "category": "Accelerated computing",
    "gpuNum": 1,
    "hideHardwareSpecs": false,
    "memoryGiB": 128,
    "name": "ml.g4dn.8xlarge",
    "vcpuNum": 32
   },
   {
    "_defaultOrder": 33,
    "_isFastLaunch": false,
    "category": "Accelerated computing",
    "gpuNum": 4,
    "hideHardwareSpecs": false,
    "memoryGiB": 192,
    "name": "ml.g4dn.12xlarge",
    "vcpuNum": 48
   },
   {
    "_defaultOrder": 34,
    "_isFastLaunch": false,
    "category": "Accelerated computing",
    "gpuNum": 1,
    "hideHardwareSpecs": false,
    "memoryGiB": 256,
    "name": "ml.g4dn.16xlarge",
    "vcpuNum": 64
   },
   {
    "_defaultOrder": 35,
    "_isFastLaunch": false,
    "category": "Accelerated computing",
    "gpuNum": 1,
    "hideHardwareSpecs": false,
    "memoryGiB": 61,
    "name": "ml.p3.2xlarge",
    "vcpuNum": 8
   },
   {
    "_defaultOrder": 36,
    "_isFastLaunch": false,
    "category": "Accelerated computing",
    "gpuNum": 4,
    "hideHardwareSpecs": false,
    "memoryGiB": 244,
    "name": "ml.p3.8xlarge",
    "vcpuNum": 32
   },
   {
    "_defaultOrder": 37,
    "_isFastLaunch": false,
    "category": "Accelerated computing",
    "gpuNum": 8,
    "hideHardwareSpecs": false,
    "memoryGiB": 488,
    "name": "ml.p3.16xlarge",
    "vcpuNum": 64
   },
   {
    "_defaultOrder": 38,
    "_isFastLaunch": false,
    "category": "Accelerated computing",
    "gpuNum": 8,
    "hideHardwareSpecs": false,
    "memoryGiB": 768,
    "name": "ml.p3dn.24xlarge",
    "vcpuNum": 96
   },
   {
    "_defaultOrder": 39,
    "_isFastLaunch": false,
    "category": "Memory Optimized",
    "gpuNum": 0,
    "hideHardwareSpecs": false,
    "memoryGiB": 16,
    "name": "ml.r5.large",
    "vcpuNum": 2
   },
   {
    "_defaultOrder": 40,
    "_isFastLaunch": false,
    "category": "Memory Optimized",
    "gpuNum": 0,
    "hideHardwareSpecs": false,
    "memoryGiB": 32,
    "name": "ml.r5.xlarge",
    "vcpuNum": 4
   },
   {
    "_defaultOrder": 41,
    "_isFastLaunch": false,
    "category": "Memory Optimized",
    "gpuNum": 0,
    "hideHardwareSpecs": false,
    "memoryGiB": 64,
    "name": "ml.r5.2xlarge",
    "vcpuNum": 8
   },
   {
    "_defaultOrder": 42,
    "_isFastLaunch": false,
    "category": "Memory Optimized",
    "gpuNum": 0,
    "hideHardwareSpecs": false,
    "memoryGiB": 128,
    "name": "ml.r5.4xlarge",
    "vcpuNum": 16
   },
   {
    "_defaultOrder": 43,
    "_isFastLaunch": false,
    "category": "Memory Optimized",
    "gpuNum": 0,
    "hideHardwareSpecs": false,
    "memoryGiB": 256,
    "name": "ml.r5.8xlarge",
    "vcpuNum": 32
   },
   {
    "_defaultOrder": 44,
    "_isFastLaunch": false,
    "category": "Memory Optimized",
    "gpuNum": 0,
    "hideHardwareSpecs": false,
    "memoryGiB": 384,
    "name": "ml.r5.12xlarge",
    "vcpuNum": 48
   },
   {
    "_defaultOrder": 45,
    "_isFastLaunch": false,
    "category": "Memory Optimized",
    "gpuNum": 0,
    "hideHardwareSpecs": false,
    "memoryGiB": 512,
    "name": "ml.r5.16xlarge",
    "vcpuNum": 64
   },
   {
    "_defaultOrder": 46,
    "_isFastLaunch": false,
    "category": "Memory Optimized",
    "gpuNum": 0,
    "hideHardwareSpecs": false,
    "memoryGiB": 768,
    "name": "ml.r5.24xlarge",
    "vcpuNum": 96
   },
   {
    "_defaultOrder": 47,
    "_isFastLaunch": false,
    "category": "Accelerated computing",
    "gpuNum": 1,
    "hideHardwareSpecs": false,
    "memoryGiB": 16,
    "name": "ml.g5.xlarge",
    "vcpuNum": 4
   },
   {
    "_defaultOrder": 48,
    "_isFastLaunch": false,
    "category": "Accelerated computing",
    "gpuNum": 1,
    "hideHardwareSpecs": false,
    "memoryGiB": 32,
    "name": "ml.g5.2xlarge",
    "vcpuNum": 8
   },
   {
    "_defaultOrder": 49,
    "_isFastLaunch": false,
    "category": "Accelerated computing",
    "gpuNum": 1,
    "hideHardwareSpecs": false,
    "memoryGiB": 64,
    "name": "ml.g5.4xlarge",
    "vcpuNum": 16
   },
   {
    "_defaultOrder": 50,
    "_isFastLaunch": false,
    "category": "Accelerated computing",
    "gpuNum": 1,
    "hideHardwareSpecs": false,
    "memoryGiB": 128,
    "name": "ml.g5.8xlarge",
    "vcpuNum": 32
   },
   {
    "_defaultOrder": 51,
    "_isFastLaunch": false,
    "category": "Accelerated computing",
    "gpuNum": 1,
    "hideHardwareSpecs": false,
    "memoryGiB": 256,
    "name": "ml.g5.16xlarge",
    "vcpuNum": 64
   },
   {
    "_defaultOrder": 52,
    "_isFastLaunch": false,
    "category": "Accelerated computing",
    "gpuNum": 4,
    "hideHardwareSpecs": false,
    "memoryGiB": 192,
    "name": "ml.g5.12xlarge",
    "vcpuNum": 48
   },
   {
    "_defaultOrder": 53,
    "_isFastLaunch": false,
    "category": "Accelerated computing",
    "gpuNum": 4,
    "hideHardwareSpecs": false,
    "memoryGiB": 384,
    "name": "ml.g5.24xlarge",
    "vcpuNum": 96
   },
   {
    "_defaultOrder": 54,
    "_isFastLaunch": false,
    "category": "Accelerated computing",
    "gpuNum": 8,
    "hideHardwareSpecs": false,
    "memoryGiB": 768,
    "name": "ml.g5.48xlarge",
    "vcpuNum": 192
   },
   {
    "_defaultOrder": 55,
    "_isFastLaunch": false,
    "category": "Accelerated computing",
    "gpuNum": 8,
    "hideHardwareSpecs": false,
    "memoryGiB": 1152,
    "name": "ml.p4d.24xlarge",
    "vcpuNum": 96
   },
   {
    "_defaultOrder": 56,
    "_isFastLaunch": false,
    "category": "Accelerated computing",
    "gpuNum": 8,
    "hideHardwareSpecs": false,
    "memoryGiB": 1152,
    "name": "ml.p4de.24xlarge",
    "vcpuNum": 96
   }
  ],
  "instance_type": "ml.m5.large",
  "kernelspec": {
   "display_name": "Python 3 (Data Science 3.0)",
   "language": "python",
   "name": "python3__SAGEMAKER_INTERNAL__arn:aws:sagemaker:us-west-2:236514542706:image/sagemaker-data-science-310-v1"
  },
  "language_info": {
   "codemirror_mode": {
    "name": "ipython",
    "version": 3
   },
   "file_extension": ".py",
   "mimetype": "text/x-python",
   "name": "python",
   "nbconvert_exporter": "python",
   "pygments_lexer": "ipython3",
   "version": "3.10.6"
  }
 },
 "nbformat": 4,
 "nbformat_minor": 5
}
